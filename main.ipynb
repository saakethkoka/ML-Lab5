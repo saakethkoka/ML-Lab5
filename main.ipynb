{
 "cells": [
  {
   "cell_type": "code",
   "execution_count": 165,
   "metadata": {},
   "outputs": [],
   "source": [
    "import keras.metrics\n",
    "import tensorflow as tf\n",
    "import pandas as pd\n",
    "import numpy as np\n",
    "from sklearn.metrics import make_scorer\n",
    "from sklearn.model_selection import train_test_split\n",
    "from sklearn.preprocessing import LabelEncoder\n",
    "from sklearn.utils import shuffle\n",
    "from sklearn.model_selection import KFold\n",
    "from sklearn.model_selection import StratifiedKFold\n",
    "from sklearn.preprocessing import StandardScaler\n",
    "import matplotlib.pyplot as plt\n",
    "from tensorflow.keras.utils import plot_model\n",
    "from keras.layers import Input, Dense, Dropout, BatchNormalization, Activation"
   ]
  },
  {
   "cell_type": "markdown",
   "metadata": {},
   "source": [
    "# Importing the data"
   ]
  },
  {
   "cell_type": "code",
   "execution_count": 166,
   "metadata": {},
   "outputs": [
    {
     "name": "stderr",
     "output_type": "stream",
     "text": [
      "/var/folders/xl/c4sxq2w543df60c_cfh18xj80000gn/T/ipykernel_12908/2471439888.py:1: DtypeWarning: Columns (1,7,8,16,17,18,19,20,35) have mixed types. Specify dtype option on import or set low_memory=False.\n",
      "  data = pd.read_csv('data.csv')\n"
     ]
    }
   ],
   "source": [
    "data = pd.read_csv('data.csv')"
   ]
  },
  {
   "cell_type": "markdown",
   "metadata": {},
   "source": [
    "## Deciding whether to keep or drop data\n",
    "ID -> Drop\n",
    "Client_Income -> Keep\n",
    "Car_Owned -> Keep\n",
    "Bike_Owned -> Keep\n",
    "Active_Loan -> Keep\n",
    "House_Own -> Keep\n",
    "Child_Count -> Keep\n",
    "Credit_Amount-> Keep\n",
    "Loan_Annuity-> Keep\n",
    "Accompany_Client-> Drop\n",
    "Client_Income_Type-> Keep\n",
    "Client_Education-> Keep\n",
    "Client_Marital_Status-> Keep\n",
    "Client_Gender-> Drop\n",
    "Loan_Contract_Type-> Keep \n",
    "Client_Housing_Type -> Drop\n",
    "Population_Region_Relative-> Keep\n",
    "Age_Days-> Keep\n",
    "Employed_Days -> Keep\n",
    "Registration_Days -> Drop\n",
    "ID_Days -> Drop\n",
    "Own_House_Age -> Keep\n",
    "Mobile_Tag -> Drop\n",
    "Homephone_Tag -> Drop\n",
    "Workphone_Working -> Drop\n",
    "Client_Occupation -> Keep\n",
    "Client_Family_Members -> Keep\n",
    "Cleint_City_Rating -> Drop\n",
    "Application_Process_Day -> Drop\n",
    "Application_Process_Hour -> Drop\n",
    "Client_Permanent_Match_Tag -> Drop\n",
    "Client_Contact_Work_Tag -> Drop\n",
    "Type_Organization -> Drop\n",
    "Score_Source_1 -> Keep\n",
    "Score_Source_2 -> Keep\n",
    "Score_Source_3 -> Keep\n",
    "Social_Circle_Default -> Drop\n",
    "Phone_Change -> Drop\n",
    "Credit_Bureau -> Drop\n",
    "Default -> Target Class"
   ]
  },
  {
   "cell_type": "code",
   "execution_count": 167,
   "metadata": {},
   "outputs": [],
   "source": [
    "drop_cols = [\"ID\", \"Accompany_Client\", \"Client_Gender\", \"Client_Housing_Type\", \"Registration_Days\", \"ID_Days\",\n",
    " \"Mobile_Tag\", \"Homephone_Tag\", \"Workphone_Working\", \"Cleint_City_Rating\", \"Application_Process_Day\", \"Application_Process_Hour\",\n",
    " \"Client_Permanent_Match_Tag\", \"Client_Contact_Work_Tag\", \"Type_Organization\", \"Social_Circle_Default\", \"Phone_Change\",\"Credit_Bureau\"]\n",
    "\n",
    "data.drop(drop_cols, axis=1, inplace=True)"
   ]
  },
  {
   "cell_type": "code",
   "execution_count": 168,
   "metadata": {},
   "outputs": [
    {
     "data": {
      "text/plain": "       Client_Income  Car_Owned  Bike_Owned  Active_Loan  House_Own  \\\n0               6750        0.0         0.0          1.0        0.0   \n1              20250        1.0         0.0          1.0        NaN   \n2              18000        0.0         0.0          1.0        0.0   \n3              15750        0.0         0.0          1.0        1.0   \n4              33750        1.0         0.0          1.0        0.0   \n...              ...        ...         ...          ...        ...   \n121851         29250        0.0         0.0          NaN        1.0   \n121852         15750        0.0         1.0          1.0        0.0   \n121853          8100        0.0         1.0          0.0        1.0   \n121854         38250        1.0         1.0          0.0        1.0   \n121855          9000        1.0         1.0          1.0        1.0   \n\n        Child_Count Credit_Amount Loan_Annuity Client_Income_Type  \\\n0               0.0      61190.55      3416.85         Commercial   \n1               0.0         15282      1826.55            Service   \n2               1.0      59527.35       2788.2            Service   \n3               0.0       53870.4      2295.45            Retired   \n4               2.0      133988.4      3547.35         Commercial   \n...             ...           ...          ...                ...   \n121851          0.0        107820       3165.3            Service   \n121852          0.0        104256      3388.05         Commercial   \n121853          1.0       55107.9      2989.35           Govt Job   \n121854          0.0         45000      2719.35            Service   \n121855          1.0      62428.95      4201.65         Commercial   \n\n          Client_Education  ... Population_Region_Relative Age_Days  \\\n0                Secondary  ...                   0.028663    13957   \n1               Graduation  ...                   0.008575    14162   \n2       Graduation dropout  ...                     0.0228    16790   \n3                Secondary  ...                   0.010556    23195   \n4                Secondary  ...                   0.020713    11366   \n...                    ...  ...                        ...      ...   \n121851           Secondary  ...                   0.031329  12889.0   \n121852          Graduation  ...                   0.018209   8648.0   \n121853           Secondary  ...                   0.008068   9152.0   \n121854          Graduation  ...                   0.028663  10290.0   \n121855           Secondary  ...                   0.018029  14772.0   \n\n       Employed_Days Own_House_Age Client_Occupation  Client_Family_Members  \\\n0               1062           NaN             Sales                    2.0   \n1               4129           0.0               NaN                    2.0   \n2               5102           NaN     Realty agents                    2.0   \n3             365243           NaN               NaN                    2.0   \n4               2977           6.0          Laborers                    4.0   \n...              ...           ...               ...                    ...   \n121851        2863.0           NaN          Laborers                    2.0   \n121852         636.0           NaN             Sales                    2.0   \n121853        1623.0           NaN   High skill tech                    3.0   \n121854         847.0           4.0             Sales                    2.0   \n121855         498.0           6.0          Managers                    2.0   \n\n       Score_Source_1  Score_Source_2  Score_Source_3  Default  \n0            0.568066        0.478787             NaN        0  \n1            0.563360        0.215068             NaN        0  \n2                 NaN        0.552795        0.329655        0  \n3                 NaN        0.135182        0.631355        0  \n4            0.508199        0.301182        0.355639        0  \n...               ...             ...             ...      ...  \n121851            NaN        0.173527        0.184116        1  \n121852            NaN        0.371559        0.406617        0  \n121853       0.169049        0.048079             NaN        0  \n121854       0.182737        0.103538        0.077499        0  \n121855            NaN        0.556414        0.298595        0  \n\n[121856 rows x 22 columns]",
      "text/html": "<div>\n<style scoped>\n    .dataframe tbody tr th:only-of-type {\n        vertical-align: middle;\n    }\n\n    .dataframe tbody tr th {\n        vertical-align: top;\n    }\n\n    .dataframe thead th {\n        text-align: right;\n    }\n</style>\n<table border=\"1\" class=\"dataframe\">\n  <thead>\n    <tr style=\"text-align: right;\">\n      <th></th>\n      <th>Client_Income</th>\n      <th>Car_Owned</th>\n      <th>Bike_Owned</th>\n      <th>Active_Loan</th>\n      <th>House_Own</th>\n      <th>Child_Count</th>\n      <th>Credit_Amount</th>\n      <th>Loan_Annuity</th>\n      <th>Client_Income_Type</th>\n      <th>Client_Education</th>\n      <th>...</th>\n      <th>Population_Region_Relative</th>\n      <th>Age_Days</th>\n      <th>Employed_Days</th>\n      <th>Own_House_Age</th>\n      <th>Client_Occupation</th>\n      <th>Client_Family_Members</th>\n      <th>Score_Source_1</th>\n      <th>Score_Source_2</th>\n      <th>Score_Source_3</th>\n      <th>Default</th>\n    </tr>\n  </thead>\n  <tbody>\n    <tr>\n      <th>0</th>\n      <td>6750</td>\n      <td>0.0</td>\n      <td>0.0</td>\n      <td>1.0</td>\n      <td>0.0</td>\n      <td>0.0</td>\n      <td>61190.55</td>\n      <td>3416.85</td>\n      <td>Commercial</td>\n      <td>Secondary</td>\n      <td>...</td>\n      <td>0.028663</td>\n      <td>13957</td>\n      <td>1062</td>\n      <td>NaN</td>\n      <td>Sales</td>\n      <td>2.0</td>\n      <td>0.568066</td>\n      <td>0.478787</td>\n      <td>NaN</td>\n      <td>0</td>\n    </tr>\n    <tr>\n      <th>1</th>\n      <td>20250</td>\n      <td>1.0</td>\n      <td>0.0</td>\n      <td>1.0</td>\n      <td>NaN</td>\n      <td>0.0</td>\n      <td>15282</td>\n      <td>1826.55</td>\n      <td>Service</td>\n      <td>Graduation</td>\n      <td>...</td>\n      <td>0.008575</td>\n      <td>14162</td>\n      <td>4129</td>\n      <td>0.0</td>\n      <td>NaN</td>\n      <td>2.0</td>\n      <td>0.563360</td>\n      <td>0.215068</td>\n      <td>NaN</td>\n      <td>0</td>\n    </tr>\n    <tr>\n      <th>2</th>\n      <td>18000</td>\n      <td>0.0</td>\n      <td>0.0</td>\n      <td>1.0</td>\n      <td>0.0</td>\n      <td>1.0</td>\n      <td>59527.35</td>\n      <td>2788.2</td>\n      <td>Service</td>\n      <td>Graduation dropout</td>\n      <td>...</td>\n      <td>0.0228</td>\n      <td>16790</td>\n      <td>5102</td>\n      <td>NaN</td>\n      <td>Realty agents</td>\n      <td>2.0</td>\n      <td>NaN</td>\n      <td>0.552795</td>\n      <td>0.329655</td>\n      <td>0</td>\n    </tr>\n    <tr>\n      <th>3</th>\n      <td>15750</td>\n      <td>0.0</td>\n      <td>0.0</td>\n      <td>1.0</td>\n      <td>1.0</td>\n      <td>0.0</td>\n      <td>53870.4</td>\n      <td>2295.45</td>\n      <td>Retired</td>\n      <td>Secondary</td>\n      <td>...</td>\n      <td>0.010556</td>\n      <td>23195</td>\n      <td>365243</td>\n      <td>NaN</td>\n      <td>NaN</td>\n      <td>2.0</td>\n      <td>NaN</td>\n      <td>0.135182</td>\n      <td>0.631355</td>\n      <td>0</td>\n    </tr>\n    <tr>\n      <th>4</th>\n      <td>33750</td>\n      <td>1.0</td>\n      <td>0.0</td>\n      <td>1.0</td>\n      <td>0.0</td>\n      <td>2.0</td>\n      <td>133988.4</td>\n      <td>3547.35</td>\n      <td>Commercial</td>\n      <td>Secondary</td>\n      <td>...</td>\n      <td>0.020713</td>\n      <td>11366</td>\n      <td>2977</td>\n      <td>6.0</td>\n      <td>Laborers</td>\n      <td>4.0</td>\n      <td>0.508199</td>\n      <td>0.301182</td>\n      <td>0.355639</td>\n      <td>0</td>\n    </tr>\n    <tr>\n      <th>...</th>\n      <td>...</td>\n      <td>...</td>\n      <td>...</td>\n      <td>...</td>\n      <td>...</td>\n      <td>...</td>\n      <td>...</td>\n      <td>...</td>\n      <td>...</td>\n      <td>...</td>\n      <td>...</td>\n      <td>...</td>\n      <td>...</td>\n      <td>...</td>\n      <td>...</td>\n      <td>...</td>\n      <td>...</td>\n      <td>...</td>\n      <td>...</td>\n      <td>...</td>\n      <td>...</td>\n    </tr>\n    <tr>\n      <th>121851</th>\n      <td>29250</td>\n      <td>0.0</td>\n      <td>0.0</td>\n      <td>NaN</td>\n      <td>1.0</td>\n      <td>0.0</td>\n      <td>107820</td>\n      <td>3165.3</td>\n      <td>Service</td>\n      <td>Secondary</td>\n      <td>...</td>\n      <td>0.031329</td>\n      <td>12889.0</td>\n      <td>2863.0</td>\n      <td>NaN</td>\n      <td>Laborers</td>\n      <td>2.0</td>\n      <td>NaN</td>\n      <td>0.173527</td>\n      <td>0.184116</td>\n      <td>1</td>\n    </tr>\n    <tr>\n      <th>121852</th>\n      <td>15750</td>\n      <td>0.0</td>\n      <td>1.0</td>\n      <td>1.0</td>\n      <td>0.0</td>\n      <td>0.0</td>\n      <td>104256</td>\n      <td>3388.05</td>\n      <td>Commercial</td>\n      <td>Graduation</td>\n      <td>...</td>\n      <td>0.018209</td>\n      <td>8648.0</td>\n      <td>636.0</td>\n      <td>NaN</td>\n      <td>Sales</td>\n      <td>2.0</td>\n      <td>NaN</td>\n      <td>0.371559</td>\n      <td>0.406617</td>\n      <td>0</td>\n    </tr>\n    <tr>\n      <th>121853</th>\n      <td>8100</td>\n      <td>0.0</td>\n      <td>1.0</td>\n      <td>0.0</td>\n      <td>1.0</td>\n      <td>1.0</td>\n      <td>55107.9</td>\n      <td>2989.35</td>\n      <td>Govt Job</td>\n      <td>Secondary</td>\n      <td>...</td>\n      <td>0.008068</td>\n      <td>9152.0</td>\n      <td>1623.0</td>\n      <td>NaN</td>\n      <td>High skill tech</td>\n      <td>3.0</td>\n      <td>0.169049</td>\n      <td>0.048079</td>\n      <td>NaN</td>\n      <td>0</td>\n    </tr>\n    <tr>\n      <th>121854</th>\n      <td>38250</td>\n      <td>1.0</td>\n      <td>1.0</td>\n      <td>0.0</td>\n      <td>1.0</td>\n      <td>0.0</td>\n      <td>45000</td>\n      <td>2719.35</td>\n      <td>Service</td>\n      <td>Graduation</td>\n      <td>...</td>\n      <td>0.028663</td>\n      <td>10290.0</td>\n      <td>847.0</td>\n      <td>4.0</td>\n      <td>Sales</td>\n      <td>2.0</td>\n      <td>0.182737</td>\n      <td>0.103538</td>\n      <td>0.077499</td>\n      <td>0</td>\n    </tr>\n    <tr>\n      <th>121855</th>\n      <td>9000</td>\n      <td>1.0</td>\n      <td>1.0</td>\n      <td>1.0</td>\n      <td>1.0</td>\n      <td>1.0</td>\n      <td>62428.95</td>\n      <td>4201.65</td>\n      <td>Commercial</td>\n      <td>Secondary</td>\n      <td>...</td>\n      <td>0.018029</td>\n      <td>14772.0</td>\n      <td>498.0</td>\n      <td>6.0</td>\n      <td>Managers</td>\n      <td>2.0</td>\n      <td>NaN</td>\n      <td>0.556414</td>\n      <td>0.298595</td>\n      <td>0</td>\n    </tr>\n  </tbody>\n</table>\n<p>121856 rows × 22 columns</p>\n</div>"
     },
     "execution_count": 168,
     "metadata": {},
     "output_type": "execute_result"
    }
   ],
   "source": [
    "data"
   ]
  },
  {
   "cell_type": "markdown",
   "metadata": {},
   "source": [
    "### How much of each of the remaining columns is missing?"
   ]
  },
  {
   "cell_type": "code",
   "execution_count": 169,
   "metadata": {},
   "outputs": [
    {
     "name": "stdout",
     "output_type": "stream",
     "text": [
      "Client_Income: 3%\n",
      "Car_Owned: 3%\n",
      "Bike_Owned: 3%\n",
      "Active_Loan: 3%\n",
      "House_Own: 3%\n",
      "Child_Count: 3%\n",
      "Credit_Amount: 3%\n",
      "Loan_Annuity: 4%\n",
      "Client_Income_Type: 3%\n",
      "Client_Education: 3%\n",
      "Client_Marital_Status: 3%\n",
      "Loan_Contract_Type: 3%\n",
      "Population_Region_Relative: 4%\n",
      "Age_Days: 3%\n",
      "Employed_Days: 3%\n",
      "Own_House_Age: 66%\n",
      "Client_Occupation: 34%\n",
      "Client_Family_Members: 2%\n",
      "Score_Source_1: 56%\n",
      "Score_Source_2: 5%\n",
      "Score_Source_3: 22%\n",
      "Default: 0%\n"
     ]
    }
   ],
   "source": [
    "for col in data.columns:\n",
    "    pct_missing = np.mean(data[col].isnull())\n",
    "    print('{}: {}%'.format(col, round(pct_missing*100)))"
   ]
  },
  {
   "cell_type": "markdown",
   "metadata": {},
   "source": [
    "Some of these columns have a lot of data missing. And simply taking out the missing rows from these columns will drastically reduce the size of our dataset. For this reason we are choosing to remove the features with more than 10% missing data."
   ]
  },
  {
   "cell_type": "code",
   "execution_count": 170,
   "metadata": {},
   "outputs": [
    {
     "data": {
      "text/plain": "       Client_Income  Car_Owned  Bike_Owned  Active_Loan  House_Own  \\\n0               6750        0.0         0.0          1.0        0.0   \n2              18000        0.0         0.0          1.0        0.0   \n3              15750        0.0         0.0          1.0        1.0   \n4              33750        1.0         0.0          1.0        0.0   \n5              11250        0.0         1.0          1.0        1.0   \n...              ...        ...         ...          ...        ...   \n121850         12150        0.0         0.0          1.0        0.0   \n121852         15750        0.0         1.0          1.0        0.0   \n121853          8100        0.0         1.0          0.0        1.0   \n121854         38250        1.0         1.0          0.0        1.0   \n121855          9000        1.0         1.0          1.0        1.0   \n\n        Child_Count Credit_Amount Loan_Annuity Client_Income_Type  \\\n0               0.0      61190.55      3416.85         Commercial   \n2               1.0      59527.35       2788.2            Service   \n3               0.0       53870.4      2295.45            Retired   \n4               2.0      133988.4      3547.35         Commercial   \n5               1.0         13752       653.85            Service   \n...             ...           ...          ...                ...   \n121850          0.0         78192      2383.65            Retired   \n121852          0.0        104256      3388.05         Commercial   \n121853          1.0       55107.9      2989.35           Govt Job   \n121854          0.0         45000      2719.35            Service   \n121855          1.0      62428.95      4201.65         Commercial   \n\n          Client_Education Client_Marital_Status Loan_Contract_Type  \\\n0                Secondary                     M                 CL   \n2       Graduation dropout                     W                 CL   \n3                Secondary                     M                 CL   \n4                Secondary                     M                 CL   \n5                Secondary                     W                 CL   \n...                    ...                   ...                ...   \n121850           Secondary                     S                 CL   \n121852          Graduation                     M                 CL   \n121853           Secondary                     M                 CL   \n121854          Graduation                     M                 CL   \n121855           Secondary                     S                 CL   \n\n       Population_Region_Relative Age_Days Employed_Days  \\\n0                        0.028663    13957          1062   \n2                          0.0228    16790          5102   \n3                        0.010556    23195        365243   \n4                        0.020713    11366          2977   \n5                        0.019101    13881          1184   \n...                           ...      ...           ...   \n121850                    0.01885  23943.0      365243.0   \n121852                   0.018209   8648.0         636.0   \n121853                   0.008068   9152.0        1623.0   \n121854                   0.028663  10290.0         847.0   \n121855                   0.018029  14772.0         498.0   \n\n        Client_Family_Members  Score_Source_2  Default  \n0                         2.0        0.478787        0  \n2                         2.0        0.552795        0  \n3                         2.0        0.135182        0  \n4                         4.0        0.301182        0  \n5                         2.0        0.697928        0  \n...                       ...             ...      ...  \n121850                    1.0        0.678249        0  \n121852                    2.0        0.371559        0  \n121853                    3.0        0.048079        0  \n121854                    2.0        0.103538        0  \n121855                    2.0        0.556414        0  \n\n[70918 rows x 18 columns]",
      "text/html": "<div>\n<style scoped>\n    .dataframe tbody tr th:only-of-type {\n        vertical-align: middle;\n    }\n\n    .dataframe tbody tr th {\n        vertical-align: top;\n    }\n\n    .dataframe thead th {\n        text-align: right;\n    }\n</style>\n<table border=\"1\" class=\"dataframe\">\n  <thead>\n    <tr style=\"text-align: right;\">\n      <th></th>\n      <th>Client_Income</th>\n      <th>Car_Owned</th>\n      <th>Bike_Owned</th>\n      <th>Active_Loan</th>\n      <th>House_Own</th>\n      <th>Child_Count</th>\n      <th>Credit_Amount</th>\n      <th>Loan_Annuity</th>\n      <th>Client_Income_Type</th>\n      <th>Client_Education</th>\n      <th>Client_Marital_Status</th>\n      <th>Loan_Contract_Type</th>\n      <th>Population_Region_Relative</th>\n      <th>Age_Days</th>\n      <th>Employed_Days</th>\n      <th>Client_Family_Members</th>\n      <th>Score_Source_2</th>\n      <th>Default</th>\n    </tr>\n  </thead>\n  <tbody>\n    <tr>\n      <th>0</th>\n      <td>6750</td>\n      <td>0.0</td>\n      <td>0.0</td>\n      <td>1.0</td>\n      <td>0.0</td>\n      <td>0.0</td>\n      <td>61190.55</td>\n      <td>3416.85</td>\n      <td>Commercial</td>\n      <td>Secondary</td>\n      <td>M</td>\n      <td>CL</td>\n      <td>0.028663</td>\n      <td>13957</td>\n      <td>1062</td>\n      <td>2.0</td>\n      <td>0.478787</td>\n      <td>0</td>\n    </tr>\n    <tr>\n      <th>2</th>\n      <td>18000</td>\n      <td>0.0</td>\n      <td>0.0</td>\n      <td>1.0</td>\n      <td>0.0</td>\n      <td>1.0</td>\n      <td>59527.35</td>\n      <td>2788.2</td>\n      <td>Service</td>\n      <td>Graduation dropout</td>\n      <td>W</td>\n      <td>CL</td>\n      <td>0.0228</td>\n      <td>16790</td>\n      <td>5102</td>\n      <td>2.0</td>\n      <td>0.552795</td>\n      <td>0</td>\n    </tr>\n    <tr>\n      <th>3</th>\n      <td>15750</td>\n      <td>0.0</td>\n      <td>0.0</td>\n      <td>1.0</td>\n      <td>1.0</td>\n      <td>0.0</td>\n      <td>53870.4</td>\n      <td>2295.45</td>\n      <td>Retired</td>\n      <td>Secondary</td>\n      <td>M</td>\n      <td>CL</td>\n      <td>0.010556</td>\n      <td>23195</td>\n      <td>365243</td>\n      <td>2.0</td>\n      <td>0.135182</td>\n      <td>0</td>\n    </tr>\n    <tr>\n      <th>4</th>\n      <td>33750</td>\n      <td>1.0</td>\n      <td>0.0</td>\n      <td>1.0</td>\n      <td>0.0</td>\n      <td>2.0</td>\n      <td>133988.4</td>\n      <td>3547.35</td>\n      <td>Commercial</td>\n      <td>Secondary</td>\n      <td>M</td>\n      <td>CL</td>\n      <td>0.020713</td>\n      <td>11366</td>\n      <td>2977</td>\n      <td>4.0</td>\n      <td>0.301182</td>\n      <td>0</td>\n    </tr>\n    <tr>\n      <th>5</th>\n      <td>11250</td>\n      <td>0.0</td>\n      <td>1.0</td>\n      <td>1.0</td>\n      <td>1.0</td>\n      <td>1.0</td>\n      <td>13752</td>\n      <td>653.85</td>\n      <td>Service</td>\n      <td>Secondary</td>\n      <td>W</td>\n      <td>CL</td>\n      <td>0.019101</td>\n      <td>13881</td>\n      <td>1184</td>\n      <td>2.0</td>\n      <td>0.697928</td>\n      <td>0</td>\n    </tr>\n    <tr>\n      <th>...</th>\n      <td>...</td>\n      <td>...</td>\n      <td>...</td>\n      <td>...</td>\n      <td>...</td>\n      <td>...</td>\n      <td>...</td>\n      <td>...</td>\n      <td>...</td>\n      <td>...</td>\n      <td>...</td>\n      <td>...</td>\n      <td>...</td>\n      <td>...</td>\n      <td>...</td>\n      <td>...</td>\n      <td>...</td>\n      <td>...</td>\n    </tr>\n    <tr>\n      <th>121850</th>\n      <td>12150</td>\n      <td>0.0</td>\n      <td>0.0</td>\n      <td>1.0</td>\n      <td>0.0</td>\n      <td>0.0</td>\n      <td>78192</td>\n      <td>2383.65</td>\n      <td>Retired</td>\n      <td>Secondary</td>\n      <td>S</td>\n      <td>CL</td>\n      <td>0.01885</td>\n      <td>23943.0</td>\n      <td>365243.0</td>\n      <td>1.0</td>\n      <td>0.678249</td>\n      <td>0</td>\n    </tr>\n    <tr>\n      <th>121852</th>\n      <td>15750</td>\n      <td>0.0</td>\n      <td>1.0</td>\n      <td>1.0</td>\n      <td>0.0</td>\n      <td>0.0</td>\n      <td>104256</td>\n      <td>3388.05</td>\n      <td>Commercial</td>\n      <td>Graduation</td>\n      <td>M</td>\n      <td>CL</td>\n      <td>0.018209</td>\n      <td>8648.0</td>\n      <td>636.0</td>\n      <td>2.0</td>\n      <td>0.371559</td>\n      <td>0</td>\n    </tr>\n    <tr>\n      <th>121853</th>\n      <td>8100</td>\n      <td>0.0</td>\n      <td>1.0</td>\n      <td>0.0</td>\n      <td>1.0</td>\n      <td>1.0</td>\n      <td>55107.9</td>\n      <td>2989.35</td>\n      <td>Govt Job</td>\n      <td>Secondary</td>\n      <td>M</td>\n      <td>CL</td>\n      <td>0.008068</td>\n      <td>9152.0</td>\n      <td>1623.0</td>\n      <td>3.0</td>\n      <td>0.048079</td>\n      <td>0</td>\n    </tr>\n    <tr>\n      <th>121854</th>\n      <td>38250</td>\n      <td>1.0</td>\n      <td>1.0</td>\n      <td>0.0</td>\n      <td>1.0</td>\n      <td>0.0</td>\n      <td>45000</td>\n      <td>2719.35</td>\n      <td>Service</td>\n      <td>Graduation</td>\n      <td>M</td>\n      <td>CL</td>\n      <td>0.028663</td>\n      <td>10290.0</td>\n      <td>847.0</td>\n      <td>2.0</td>\n      <td>0.103538</td>\n      <td>0</td>\n    </tr>\n    <tr>\n      <th>121855</th>\n      <td>9000</td>\n      <td>1.0</td>\n      <td>1.0</td>\n      <td>1.0</td>\n      <td>1.0</td>\n      <td>1.0</td>\n      <td>62428.95</td>\n      <td>4201.65</td>\n      <td>Commercial</td>\n      <td>Secondary</td>\n      <td>S</td>\n      <td>CL</td>\n      <td>0.018029</td>\n      <td>14772.0</td>\n      <td>498.0</td>\n      <td>2.0</td>\n      <td>0.556414</td>\n      <td>0</td>\n    </tr>\n  </tbody>\n</table>\n<p>70918 rows × 18 columns</p>\n</div>"
     },
     "execution_count": 170,
     "metadata": {},
     "output_type": "execute_result"
    }
   ],
   "source": [
    "drop_cols = [\"Own_House_Age\", \"Client_Occupation\", \"Score_Source_1\", \"Score_Source_3\"]\n",
    "data.drop(drop_cols, axis=1, inplace=True)\n",
    "data.dropna(inplace=True)\n",
    "data"
   ]
  },
  {
   "cell_type": "markdown",
   "metadata": {},
   "source": [
    "## Describing the Dataset:\n",
    "\n",
    "Clinet_Income: Client Income in $, Integer\n",
    "\n",
    "Car_Owned: Does client own another car?, Categorical 1 for Yes 0 for No\n",
    "\n",
    "Bike_Owned: Does client own a Bike?, Categorical 1 for Yes 0 for No\n",
    "\n",
    "Active_Loan: Does client have another active loan?, Categorical 1 for Yes 0 for No\n",
    "\n",
    "House_Own: Does client own a house?, Categorical 1 for Yes 0 for No\n",
    "\n",
    "Child_Count: How many children does the client own?, Integer\n",
    "\n",
    "Credit_Amount: Credit amount of the loan in $, Integer\n",
    "\n",
    "Loan_Annuity: Loan annuity in $, Integer\n",
    "\n",
    "Client_Income_Type: Type of income of the client, Categorical\n",
    "\n",
    "Client_Education: Education level of the client, Categorical\n",
    "\n",
    "Client_Marital_Status: Marital status of the client, Categorical\n",
    "\n",
    "Loan_Contract_Type: Type of loan contract, Categorical\n",
    "\n",
    "Population_Region_Relative: Normalized population of region where client lives (higher number means the client lives in more populated region), Float\n",
    "\n",
    "Age_Days: Age of the client in days, Integer\n",
    "\n",
    "Employed_Days: How many days has the client been employed? Integer\n",
    "\n",
    "Clinet_Family_Members: How many family members does the client have? Integer\n",
    "\n",
    "Score_Source_2: Normalized score from external data source, Float\n",
    "\n",
    "Default: Did the client default on the loan?, Categorical 1 for Yes 0 for No"
   ]
  },
  {
   "cell_type": "code",
   "execution_count": 171,
   "metadata": {},
   "outputs": [
    {
     "name": "stdout",
     "output_type": "stream",
     "text": [
      "70918\n",
      "70882\n"
     ]
    }
   ],
   "source": [
    "columns = [\"Employed_Days\", \"Age_Days\", \"Client_Income\", \"Credit_Amount\", \"Loan_Annuity\", \"Population_Region_Relative\"]\n",
    "\n",
    "# Drop all rows where the column has non-numeric values:\n",
    "print(len(data))\n",
    "for col in columns:\n",
    "    data = data[data[col] != 'x']\n",
    "    data = data[data[col] != '$']\n",
    "    data = data[data[col] != '@']\n",
    "    data = data[data[col] != '#']\n",
    "    data = data[data[col] != '#VALUE!']\n",
    "print(len(data))\n",
    "\n",
    "# Setting datatype of these columns to float64:\n",
    "for col in columns:\n",
    "    data[col] = data[col].astype('float64')"
   ]
  },
  {
   "cell_type": "code",
   "execution_count": 172,
   "metadata": {},
   "outputs": [
    {
     "data": {
      "text/plain": "Client_Income                 float64\nCar_Owned                     float64\nBike_Owned                    float64\nActive_Loan                   float64\nHouse_Own                     float64\nChild_Count                   float64\nCredit_Amount                 float64\nLoan_Annuity                  float64\nClient_Income_Type             object\nClient_Education               object\nClient_Marital_Status          object\nLoan_Contract_Type             object\nPopulation_Region_Relative    float64\nAge_Days                      float64\nEmployed_Days                 float64\nClient_Family_Members         float64\nScore_Source_2                float64\nDefault                         int64\ndtype: object"
     },
     "execution_count": 172,
     "metadata": {},
     "output_type": "execute_result"
    }
   ],
   "source": [
    "data.dtypes"
   ]
  },
  {
   "cell_type": "code",
   "execution_count": 173,
   "metadata": {},
   "outputs": [],
   "source": [
    "categorical_headers = [\"Client_Income_Type\", \"Client_Education\", \"Client_Marital_Status\", \"Loan_Contract_Type\", \"Car_Owned\", \"Bike_Owned\", \"Active_Loan\", \"House_Own\"]\n",
    "numerical_headers = [\"Client_Income\",\"Child_Count\", \"Credit_Amount\",\"Loan_Annuity\",\"Population_Region_Relative\",\"Age_Days\",\"Employed_Days\",\"Client_Family_Members\", \"Score_Source_2\"]"
   ]
  },
  {
   "cell_type": "code",
   "execution_count": 174,
   "metadata": {},
   "outputs": [],
   "source": [
    "# Convert all categorical headers to strings:\n",
    "for col in categorical_headers:\n",
    "    data[col] = data[col].astype('str')"
   ]
  },
  {
   "cell_type": "markdown",
   "metadata": {},
   "source": []
  },
  {
   "cell_type": "code",
   "execution_count": 175,
   "metadata": {},
   "outputs": [
    {
     "data": {
      "text/plain": "Client_Income                 float64\nCar_Owned                      object\nBike_Owned                     object\nActive_Loan                    object\nHouse_Own                      object\nChild_Count                   float64\nCredit_Amount                 float64\nLoan_Annuity                  float64\nClient_Income_Type             object\nClient_Education               object\nClient_Marital_Status          object\nLoan_Contract_Type             object\nPopulation_Region_Relative    float64\nAge_Days                      float64\nEmployed_Days                 float64\nClient_Family_Members         float64\nScore_Source_2                float64\nDefault                         int64\ndtype: object"
     },
     "execution_count": 175,
     "metadata": {},
     "output_type": "execute_result"
    }
   ],
   "source": [
    "data.dtypes"
   ]
  },
  {
   "cell_type": "markdown",
   "metadata": {},
   "source": [
    "## Model Performance Algorithm:\n",
    "\n",
    "To quantify model performance, we will be using the false omission rate, which is defined as the false negatives divided by the sum of the true and false negatives, or the total negative class predictions of our model. In our case, the negative class represents approved loans by our model, and the false omission rate is essentially the percentage of the loans that our model would hypothetically approve that results in a default. Assuming the worst case, this would mean that all the money we gave to that percetnage of people is gone, and we need to make up the rest through the interest earned on the \"good\" loans (not accounting for loan size). Thus, if we take the total amount of loan that we give and the false omission rate and assume equal size of the loans in question, we need to charge approximately the False Omission Rate as our intereest rate in order to break even. The average interest rate on Car loans is 5.3%, according to bank of America, but we want to make money, so we need to get the rate to at least below 5%, and even lower, if possible, for our model to be viable in a practical setting.\n",
    "source: https://www.bankofamerica.com/auto-loans/auto-loan-rates/"
   ]
  },
  {
   "cell_type": "markdown",
   "metadata": {},
   "source": [
    "## Splitting the data:\n",
    "\n",
    "We have a very imbalanced dataset with respect to the target class, with 8% of the final preprocessed data being loans that resulted in default and 92% not resulting in default. However, we do have a lot of data (>70k observations), so we can use a train_test split, but in order to accurately get a good indication of performance on hte test set, we will use a 50-50 stratified split between the train and test data to ensure that we are getting an accurate indication of out-of-sample performance when cross-validating with the test data. This is important because we want the training and testing data to follow that same distribution with respect to the target class, and, in the real world, this is a very realistic imbalance to have because a lot more people typically will pay their loan back compared to the amount that default. Since we have a lot of datapoints, we can still use this simple train--test split to get an accurate indication of model performance, as a lot of data is being withheld still, and we will be able to tell based on test performance whether the model is properly trained or is under fitted/fitting noise."
   ]
  },
  {
   "cell_type": "code",
   "execution_count": 176,
   "metadata": {
    "collapsed": false
   },
   "outputs": [],
   "source": [
    "target = data[\"Default\"]\n",
    "features = data.drop(columns=['Default'])"
   ]
  },
  {
   "cell_type": "markdown",
   "source": [
    "# Cross Product Features\n",
    "\n",
    "1. Client_Income_Type, Client_Education, Client_Marital_Status, Loan_Contract_Type\n",
    "We believe that these crossing these four fields will provide trainable information for our model to memorize. For example, our model may memorize that an Unemployed client with no secondary education, who is single and applying for a commercial loan is at high risk of defaulting. Or on the other hand, a Client with a commercial income, graduate education and is married applying for a retail loan is not a significant credit risk.\n",
    "2. Car_Owned, Client_Education, Client_Marital_Status\n",
    "With these three the model may be able to memorize certain household data such as an Graduate level educated client who is married and owns a car vs a Secondary Dropout who is Single and own Car_Owned.\n",
    "3. House_Own, Car_Owned, Bike_Owned, Active_Loan\n",
    "Our model may be able to memorize certain situations such as when a Client has a House, Car and a Bike but no active loan which may suggest that a client is not a credit risk."
   ],
   "metadata": {
    "collapsed": false
   }
  },
  {
   "cell_type": "code",
   "execution_count": 177,
   "metadata": {},
   "outputs": [],
   "source": [
    "# Columns to be crossed\n",
    "cross_columns = [\n",
    "                 ['Client_Income_Type','Client_Education','Client_Marital_Status','Loan_Contract_Type'],\n",
    "                 ['Car_Owned', 'Client_Education', \"Client_Marital_Status\"],\n",
    "                 ['House_Own','Car_Owned', 'Bike_Owned', \"Active_Loan\"]\n",
    "]\n",
    "\n",
    "encoders = {\n",
    "\n",
    "}\n",
    "\n",
    "cross_col_df_names = []\n",
    "for cols_list in cross_columns:\n",
    "\n",
    "    enc = LabelEncoder()\n",
    "\n",
    "    # 1. create crossed labels by join operation\n",
    "    features_crossed = features[cols_list].apply(lambda x: '_'.join(x), axis=1)\n",
    "    \n",
    "    # get a nice name for this new crossed column\n",
    "    cross_col_name = '_'.join(cols_list)\n",
    "    \n",
    "    # 2. encode as integers, stacking all possibilities\n",
    "    enc.fit(np.hstack((features_crossed.to_numpy())))\n",
    "    \n",
    "    # 3. Save into dataframe with new name\n",
    "    features[cross_col_name] = enc.transform(features_crossed)\n",
    "    \n",
    "    # Save the encoder used here for later:\n",
    "    encoders[cross_col_name] = enc\n",
    "    \n",
    "    # keep track of the new names of the crossed columns\n",
    "    cross_col_df_names.append(cross_col_name) \n",
    "\n",
    "# Label encode all of the categrorical headers:\n",
    "for col in categorical_headers:\n",
    "    encoders[col] = LabelEncoder()\n",
    "    features[col] = encoders[col].fit_transform(features[col])"
   ]
  },
  {
   "cell_type": "code",
   "execution_count": 178,
   "metadata": {},
   "outputs": [],
   "source": [
    "# stratified split 80-20:\n",
    "X_train, X_test, y_train, y_test = train_test_split(features, target, test_size=0.5, random_state=89, stratify=target)"
   ]
  },
  {
   "cell_type": "markdown",
   "metadata": {},
   "source": [
    "# Modeling"
   ]
  },
  {
   "cell_type": "code",
   "execution_count": 179,
   "metadata": {},
   "outputs": [],
   "source": [
    "# split the feature dataframe into categorical_features and numerical_features:\n",
    "categorical_features_train = X_train[categorical_headers]\n",
    "crossed_features_train = X_train[cross_col_df_names]\n",
    "numerical_features_train = X_train[numerical_headers]\n",
    "\n",
    "categorical_features_test = X_test[categorical_headers]\n",
    "crossed_features_test = X_test[cross_col_df_names]\n",
    "numerical_features_test = X_test[numerical_headers]\n",
    "\n",
    "X_crossed = crossed_features_train.to_numpy()\n",
    "X_cat = categorical_features_train.to_numpy()\n",
    "X_num = numerical_features_train.to_numpy()"
   ]
  },
  {
   "cell_type": "code",
   "execution_count": 180,
   "metadata": {},
   "outputs": [
    {
     "name": "stdout",
     "output_type": "stream",
     "text": [
      "Epoch 1/25\n"
     ]
    },
    {
     "name": "stderr",
     "output_type": "stream",
     "text": [
      "2022-11-20 21:28:07.737715: I tensorflow/core/grappler/optimizers/custom_graph_optimizer_registry.cc:113] Plugin optimizer for device_type GPU is enabled.\n"
     ]
    },
    {
     "name": "stdout",
     "output_type": "stream",
     "text": [
      "70/70 [==============================] - ETA: 0s - loss: 1386.7716"
     ]
    },
    {
     "name": "stderr",
     "output_type": "stream",
     "text": [
      "2022-11-20 21:28:16.268528: I tensorflow/core/grappler/optimizers/custom_graph_optimizer_registry.cc:113] Plugin optimizer for device_type GPU is enabled.\n"
     ]
    },
    {
     "name": "stdout",
     "output_type": "stream",
     "text": [
      "70/70 [==============================] - 11s 104ms/step - loss: 1386.7716 - val_loss: 27.6563\n",
      "Epoch 2/25\n",
      "70/70 [==============================] - 2s 33ms/step - loss: 77.6635 - val_loss: 47.0257\n",
      "Epoch 3/25\n",
      "70/70 [==============================] - 2s 28ms/step - loss: 55.7458 - val_loss: 84.6927\n",
      "Epoch 4/25\n",
      "70/70 [==============================] - 2s 27ms/step - loss: 51.8708 - val_loss: 7.9446\n",
      "Epoch 5/25\n",
      "70/70 [==============================] - 2s 26ms/step - loss: 62.9927 - val_loss: 9.7334\n",
      "Epoch 6/25\n",
      "70/70 [==============================] - 2s 26ms/step - loss: 43.5996 - val_loss: 63.7487\n",
      "Epoch 7/25\n",
      "70/70 [==============================] - 2s 24ms/step - loss: 47.7891 - val_loss: 15.1221\n",
      "Epoch 8/25\n",
      "70/70 [==============================] - 2s 22ms/step - loss: 41.7122 - val_loss: 80.9141\n",
      "Epoch 9/25\n",
      "70/70 [==============================] - 2s 23ms/step - loss: 51.6433 - val_loss: 56.6369\n",
      "Epoch 10/25\n",
      "70/70 [==============================] - 2s 25ms/step - loss: 51.9844 - val_loss: 5.5981\n",
      "Epoch 11/25\n",
      "70/70 [==============================] - 2s 25ms/step - loss: 43.8145 - val_loss: 54.1080\n",
      "Epoch 12/25\n",
      "70/70 [==============================] - 2s 24ms/step - loss: 73.0110 - val_loss: 94.3262\n",
      "Epoch 13/25\n",
      "70/70 [==============================] - 2s 24ms/step - loss: 65.1220 - val_loss: 48.6304\n",
      "Epoch 14/25\n",
      "70/70 [==============================] - 2s 23ms/step - loss: 34.4882 - val_loss: 21.4338\n",
      "Epoch 15/25\n",
      "70/70 [==============================] - 2s 23ms/step - loss: 28.8650 - val_loss: 31.4622\n",
      "Epoch 16/25\n",
      "70/70 [==============================] - 2s 24ms/step - loss: 47.1731 - val_loss: 12.5144\n",
      "Epoch 17/25\n",
      "70/70 [==============================] - 2s 25ms/step - loss: 37.9597 - val_loss: 63.5215\n",
      "Epoch 18/25\n",
      "70/70 [==============================] - 2s 23ms/step - loss: 45.4573 - val_loss: 11.2374\n",
      "Epoch 19/25\n",
      "70/70 [==============================] - 2s 24ms/step - loss: 30.3239 - val_loss: 35.6985\n",
      "Epoch 20/25\n",
      "70/70 [==============================] - 2s 24ms/step - loss: 28.5997 - val_loss: 13.4511\n",
      "Epoch 21/25\n",
      "70/70 [==============================] - 2s 22ms/step - loss: 33.1419 - val_loss: 15.6674\n",
      "Epoch 22/25\n",
      "70/70 [==============================] - 2s 24ms/step - loss: 26.1064 - val_loss: 28.5382\n",
      "Epoch 23/25\n",
      "70/70 [==============================] - 2s 23ms/step - loss: 38.6536 - val_loss: 33.4904\n",
      "Epoch 24/25\n",
      "70/70 [==============================] - 2s 22ms/step - loss: 37.8691 - val_loss: 9.4269\n",
      "Epoch 25/25\n",
      "70/70 [==============================] - 2s 25ms/step - loss: 22.2757 - val_loss: 22.1261\n",
      "CPU times: user 52.7 s, sys: 25 s, total: 1min 17s\n",
      "Wall time: 51.9 s\n"
     ]
    }
   ],
   "source": [
    "%%time\n",
    "# Keras input:\n",
    "from tensorflow.keras.layers import Input, Dense, concatenate, Embedding\n",
    "from tensorflow.keras.models import Model\n",
    "input_crossed = Input(shape=(crossed_features_train.shape[1],), \n",
    "                     dtype='int64', \n",
    "                     name='wide_inputs')\n",
    "\n",
    "crossed_outputs = []\n",
    "for idx,col in enumerate(cross_col_df_names):\n",
    "\n",
    "    N = len(encoders[col].classes_)\n",
    "\n",
    "    N_reduced = int(np.sqrt(N))\n",
    "\n",
    "    x = tf.gather(input_crossed, idx, axis=1)\n",
    "\n",
    "    x = Embedding(input_dim=N, output_dim=N_reduced,\n",
    "     input_length=1, name=col+\"_embed\")(x)\n",
    "\n",
    "    crossed_outputs.append(x)\n",
    "wide_branch = concatenate(crossed_outputs, name='wide_concat')\n",
    "all_deep_branch_outputs = []\n",
    "# CATEGORICAL DATA INPUT\n",
    "input_cat = Input(shape=(X_cat.shape[1],), dtype='int64', name='categorical')\n",
    "for idx,col in enumerate(categorical_headers):\n",
    "\n",
    "    # track what the maximum integer value will be for this variable\n",
    "    # which is the same as the number of categories\n",
    "    N = features[col].max()+1\n",
    "    N_reduced = int(np.sqrt(N))\n",
    "\n",
    "    # this line of code does this: input_branch[:,idx]\n",
    "    x = tf.gather(input_cat, idx, axis=1)\n",
    "\n",
    "    # now use an embedding to deal with integers as if they were one hot encoded\n",
    "    x = Embedding(input_dim=N,\n",
    "                  output_dim=N_reduced,\n",
    "                  input_length=1, name=col+'_embed')(x)\n",
    "\n",
    "    # save these outputs to concatenate later\n",
    "    all_deep_branch_outputs.append(x)\n",
    "\n",
    "# NUMERIC DATA INPUT\n",
    "# create dense input branch for numeric\n",
    "input_num = Input(shape=(X_num.shape[1],), name='numeric')\n",
    "x_dense = Dense(units=20, activation='relu',name='num_1')(input_num)\n",
    "\n",
    "all_deep_branch_outputs.append(x_dense)\n",
    "\n",
    "\n",
    "# merge the deep branches together\n",
    "deep_branch = concatenate(all_deep_branch_outputs,name='concat_embeds')\n",
    "deep_branch = Dense(units=20,activation='relu', name='deep1')(deep_branch)\n",
    "deep_branch = Dense(units=10,activation='relu', name='deep2')(deep_branch)\n",
    "deep_branch = Dense(units=10,activation='relu', name='deep3')(deep_branch)\n",
    "\n",
    "# merge the deep and wide branch\n",
    "final_branch = concatenate([wide_branch, deep_branch],\n",
    "                           name='concat_deep_wide')\n",
    "final_branch = Dense(units=1,activation='sigmoid', name='combined')(final_branch)\n",
    "\n",
    "model1 = Model(inputs=[input_crossed,input_cat,input_num],outputs=final_branch)\n",
    "\n",
    "class_weight = {0: 1,\n",
    "                1: 30}\n",
    "\n",
    "model1.compile(optimizer='adam',\n",
    "              loss='binary_crossentropy')\n",
    "\n",
    "# lets also add the history variable to see how we are doing\n",
    "# and lets add a validation set to keep track of our progress\n",
    "history1 = model1.fit([X_crossed,X_cat,X_num],\n",
    "                    y_train,\n",
    "                    class_weight=class_weight,\n",
    "                    validation_data=([crossed_features_test.to_numpy(), categorical_features_test.to_numpy(), numerical_features_test.to_numpy()], y_test),\n",
    "                    epochs=25,\n",
    "                    batch_size=512,\n",
    "                    verbose=1)"
   ]
  },
  {
   "cell_type": "code",
   "execution_count": 181,
   "metadata": {},
   "outputs": [
    {
     "name": "stderr",
     "output_type": "stream",
     "text": [
      "2022-11-20 21:28:59.015641: I tensorflow/core/grappler/optimizers/custom_graph_optimizer_registry.cc:113] Plugin optimizer for device_type GPU is enabled.\n"
     ]
    },
    {
     "name": "stdout",
     "output_type": "stream",
     "text": [
      "1108/1108 [==============================] - 5s 4ms/step\n",
      "False omission rate:  0.06156635869095933\n"
     ]
    }
   ],
   "source": [
    "# Calculate the false omission rate:\n",
    "from sklearn.metrics import confusion_matrix\n",
    "y_pred = model1.predict([crossed_features_test.to_numpy(), categorical_features_test.to_numpy(), numerical_features_test.to_numpy()])\n",
    "y_pred = np.where(y_pred > 0.5, 1, 0)\n",
    "\n",
    "cm = confusion_matrix(y_test, y_pred)\n",
    "tn = cm[0][0]\n",
    "fn = cm[1][0]\n",
    "print('False omission rate: ', fn/(tn+fn))"
   ]
  },
  {
   "cell_type": "code",
   "execution_count": 182,
   "metadata": {},
   "outputs": [
    {
     "data": {
      "text/plain": "<matplotlib.legend.Legend at 0x2c1fcc970>"
     },
     "execution_count": 182,
     "metadata": {},
     "output_type": "execute_result"
    },
    {
     "data": {
      "text/plain": "<Figure size 640x480 with 1 Axes>",
      "image/png": "[encoded data removed]"
     },
     "metadata": {},
     "output_type": "display_data"
    }
   ],
   "source": [
    "# plot history:\n",
    "plt.plot(history1.history['loss'], label='train')\n",
    "plt.plot(history1.history['val_loss'], label='test')\n",
    "plt.legend()"
   ]
  },
  {
   "cell_type": "markdown",
   "source": [
    "This graph shows the train / test loss of the network (y-axis) as the number of epochs increase (x-axis). As this graph indicates, the network loss was initially high and had high variance but, as the number of epochs increased, the loss converged at 2 epochs.\n"
   ],
   "metadata": {
    "collapsed": false
   }
  },
  {
   "cell_type": "markdown",
   "metadata": {},
   "source": [
    "### Model 2"
   ]
  },
  {
   "cell_type": "markdown",
   "source": [
    "For this model we added 2 more layer and more neurons to the initial layers in the deep network to see if we could achieve better generalization using a deeper model."
   ],
   "metadata": {
    "collapsed": false
   }
  },
  {
   "cell_type": "code",
   "execution_count": 183,
   "metadata": {},
   "outputs": [
    {
     "name": "stdout",
     "output_type": "stream",
     "text": [
      "Epoch 1/5\n"
     ]
    },
    {
     "name": "stderr",
     "output_type": "stream",
     "text": [
      "2022-11-20 21:29:04.918779: I tensorflow/core/grappler/optimizers/custom_graph_optimizer_registry.cc:113] Plugin optimizer for device_type GPU is enabled.\n"
     ]
    },
    {
     "name": "stdout",
     "output_type": "stream",
     "text": [
      "1108/1108 [==============================] - ETA: 0s - loss: 39.6485"
     ]
    },
    {
     "name": "stderr",
     "output_type": "stream",
     "text": [
      "2022-11-20 21:29:34.993165: I tensorflow/core/grappler/optimizers/custom_graph_optimizer_registry.cc:113] Plugin optimizer for device_type GPU is enabled.\n"
     ]
    },
    {
     "name": "stdout",
     "output_type": "stream",
     "text": [
      "1108/1108 [==============================] - 37s 30ms/step - loss: 39.6485 - val_loss: 1.0563\n",
      "Epoch 2/5\n",
      "1108/1108 [==============================] - 27s 24ms/step - loss: 1.7751 - val_loss: 1.0814\n",
      "Epoch 3/5\n",
      "1108/1108 [==============================] - 26s 23ms/step - loss: 1.7673 - val_loss: 1.0463\n",
      "Epoch 4/5\n",
      "1108/1108 [==============================] - 25s 23ms/step - loss: 1.7636 - val_loss: 1.0537\n",
      "Epoch 5/5\n",
      "1108/1108 [==============================] - 26s 23ms/step - loss: 1.7619 - val_loss: 1.0912\n",
      "CPU times: user 2min 30s, sys: 1min 16s, total: 3min 46s\n",
      "Wall time: 2min 21s\n"
     ]
    }
   ],
   "source": [
    "%%time\n",
    "# Keras input:\n",
    "from tensorflow.keras.layers import Input, Dense, concatenate, Embedding\n",
    "from tensorflow.keras.models import Model\n",
    "input_crossed = Input(shape=(crossed_features_train.shape[1],), \n",
    "                     dtype='int64', \n",
    "                     name='wide_inputs')\n",
    "\n",
    "crossed_outputs = []\n",
    "for idx,col in enumerate(cross_col_df_names):\n",
    "\n",
    "    N = len(encoders[col].classes_)\n",
    "\n",
    "    N_reduced = int(np.sqrt(N))\n",
    "\n",
    "    x = tf.gather(input_crossed, idx, axis=1)\n",
    "\n",
    "    x = Embedding(input_dim=N, output_dim=N_reduced,\n",
    "     input_length=1, name=col+\"_embed\")(x)\n",
    "\n",
    "    crossed_outputs.append(x)\n",
    "wide_branch = concatenate(crossed_outputs, name='wide_concat')\n",
    "all_deep_branch_outputs = []\n",
    "# CATEGORICAL DATA INPUT\n",
    "input_cat = Input(shape=(X_cat.shape[1],), dtype='int64', name='categorical')\n",
    "for idx,col in enumerate(categorical_headers):\n",
    "\n",
    "    # track what the maximum integer value will be for this variable\n",
    "    # which is the same as the number of categories\n",
    "    N = features[col].max()+1\n",
    "    N_reduced = int(np.sqrt(N))\n",
    "\n",
    "    # this line of code does this: input_branch[:,idx]\n",
    "    x = tf.gather(input_cat, idx, axis=1)\n",
    "\n",
    "    # now use an embedding to deal with integers as if they were one hot encoded\n",
    "    x = Embedding(input_dim=N,\n",
    "                  output_dim=N_reduced,\n",
    "                  input_length=1, name=col+'_embed')(x)\n",
    "\n",
    "    # save these outputs to concatenate later\n",
    "    all_deep_branch_outputs.append(x)\n",
    "\n",
    "# NUMERIC DATA INPUT\n",
    "# create dense input branch for numeric\n",
    "input_num = Input(shape=(X_num.shape[1],), name='numeric')\n",
    "x_dense = Dense(units=20, activation='relu',name='num_1')(input_num)\n",
    "\n",
    "all_deep_branch_outputs.append(x_dense)\n",
    "\n",
    "\n",
    "# merge the deep branches together\n",
    "deep_branch = concatenate(all_deep_branch_outputs,name='concat_embeds')\n",
    "deep_branch = Dense(units=256,activation='relu', name='deep1')(deep_branch)\n",
    "deep_branch = Dense(units=128,activation='relu', name='deep2')(deep_branch)\n",
    "deep_branch = Dense(units=64,activation='relu', name='deep3')(deep_branch)\n",
    "deep_branch = Dense(units=32,activation='relu', name='deep4')(deep_branch)\n",
    "deep_branch = Dense(units=10,activation='relu', name='deep5')(deep_branch)\n",
    "\n",
    "# merge the deep and wide branch\n",
    "final_branch = concatenate([wide_branch, deep_branch],\n",
    "                           name='concat_deep_wide')\n",
    "final_branch = Dense(units=1,activation='sigmoid', name='combined')(final_branch)\n",
    "\n",
    "model2 = Model(inputs=[input_crossed,input_cat,input_num],outputs=final_branch)\n",
    "\n",
    "class_weight = {0: 1,\n",
    "                1: 25}\n",
    "\n",
    "model2.compile(optimizer='adam', loss='binary_crossentropy')\n",
    "\n",
    "# lets also add the history variable to see how we are doing\n",
    "# and lets add a validation set to keep track of our progress\n",
    "history2 = model2.fit([X_crossed,X_cat,X_num],\n",
    "                    y_train,\n",
    "                    class_weight=class_weight,\n",
    "                    validation_data=([crossed_features_test.to_numpy(), categorical_features_test.to_numpy(), numerical_features_test.to_numpy()], y_test),\n",
    "                    epochs=5,\n",
    "                    batch_size=32,\n",
    "                    verbose=1)"
   ]
  },
  {
   "cell_type": "code",
   "execution_count": 184,
   "metadata": {},
   "outputs": [
    {
     "name": "stderr",
     "output_type": "stream",
     "text": [
      "2022-11-20 21:31:25.221978: I tensorflow/core/grappler/optimizers/custom_graph_optimizer_registry.cc:113] Plugin optimizer for device_type GPU is enabled.\n"
     ]
    },
    {
     "name": "stdout",
     "output_type": "stream",
     "text": [
      "1108/1108 [==============================] - 5s 4ms/step\n",
      "False omission rate:  0.04303086997193639\n"
     ]
    }
   ],
   "source": [
    "# Calculate the false omission rate:\n",
    "from sklearn.metrics import confusion_matrix\n",
    "y_pred = model2.predict([crossed_features_test.to_numpy(), categorical_features_test.to_numpy(), numerical_features_test.to_numpy()])\n",
    "y_pred = np.where(y_pred > 0.5, 1, 0)\n",
    "\n",
    "cm = confusion_matrix(y_test, y_pred)\n",
    "tn = cm[0][0]\n",
    "fn = cm[1][0]\n",
    "print('False omission rate: ', fn/(tn+fn))"
   ]
  },
  {
   "cell_type": "code",
   "execution_count": 185,
   "metadata": {},
   "outputs": [
    {
     "data": {
      "text/plain": "<matplotlib.legend.Legend at 0x374b53b50>"
     },
     "execution_count": 185,
     "metadata": {},
     "output_type": "execute_result"
    },
    {
     "data": {
      "text/plain": "<Figure size 640x480 with 1 Axes>",
      "image/png": "[encoded data removed]"
     },
     "metadata": {},
     "output_type": "display_data"
    }
   ],
   "source": [
    "# plot history:\n",
    "plt.plot(history2.history['loss'], label='train')\n",
    "plt.plot(history2.history['val_loss'], label='test')\n",
    "plt.legend()"
   ]
  },
  {
   "cell_type": "markdown",
   "source": [
    "This graph shows the loss for the second model. As is seen, this model converges very quickly. The false emission rate of the model is 4.3% which is lower than the 6% of the earlier model. This value meets our set goal of a false omission rate of less than 5%."
   ],
   "metadata": {
    "collapsed": false
   }
  },
  {
   "cell_type": "markdown",
   "metadata": {},
   "source": [
    "### Model 3"
   ]
  },
  {
   "cell_type": "markdown",
   "source": [
    "For the 3rd Model, we used the same wide and deep network structure as model 2 in terms of the fully connected layers but added a Dropout Layer followed by a Batch normalization layer after each Dense Layer so as to prevent overfitting in our deep network and batch norm theoretically makes the contribution from each layer, and thus the network more stable and helps with convergence."
   ],
   "metadata": {
    "collapsed": false
   }
  },
  {
   "cell_type": "code",
   "execution_count": 225,
   "metadata": {},
   "outputs": [
    {
     "name": "stdout",
     "output_type": "stream",
     "text": [
      "Epoch 1/4\n"
     ]
    },
    {
     "name": "stderr",
     "output_type": "stream",
     "text": [
      "2022-11-20 22:24:14.305559: I tensorflow/core/grappler/optimizers/custom_graph_optimizer_registry.cc:113] Plugin optimizer for device_type GPU is enabled.\n"
     ]
    },
    {
     "name": "stdout",
     "output_type": "stream",
     "text": [
      "139/139 [==============================] - ETA: 0s - loss: 1.8243"
     ]
    },
    {
     "name": "stderr",
     "output_type": "stream",
     "text": [
      "2022-11-20 22:24:29.886207: I tensorflow/core/grappler/optimizers/custom_graph_optimizer_registry.cc:113] Plugin optimizer for device_type GPU is enabled.\n"
     ]
    },
    {
     "name": "stdout",
     "output_type": "stream",
     "text": [
      "139/139 [==============================] - 20s 98ms/step - loss: 1.8243 - val_loss: 0.9260\n",
      "Epoch 2/4\n",
      "139/139 [==============================] - 5s 39ms/step - loss: 1.7801 - val_loss: 1.1161\n",
      "Epoch 3/4\n",
      "139/139 [==============================] - 5s 38ms/step - loss: 1.7630 - val_loss: 1.1056\n",
      "Epoch 4/4\n",
      "139/139 [==============================] - 5s 36ms/step - loss: 1.7541 - val_loss: 1.1185\n",
      "CPU times: user 35.9 s, sys: 11.3 s, total: 47.2 s\n",
      "Wall time: 36.1 s\n"
     ]
    }
   ],
   "source": [
    "%%time\n",
    "# Keras input:\n",
    "from tensorflow.keras.layers import Input, Dense, concatenate, Embedding, Dropout, BatchNormalization\n",
    "from tensorflow.keras.models import Model\n",
    "input_crossed = Input(shape=(crossed_features_train.shape[1],), \n",
    "                     dtype='int64', \n",
    "                     name='wide_inputs')\n",
    "\n",
    "crossed_outputs = []\n",
    "for idx,col in enumerate(cross_col_df_names):\n",
    "\n",
    "    N = len(encoders[col].classes_)\n",
    "\n",
    "    N_reduced = int(np.sqrt(N))\n",
    "\n",
    "    x = tf.gather(input_crossed, idx, axis=1)\n",
    "\n",
    "    x = Embedding(input_dim=N, output_dim=N_reduced,\n",
    "     input_length=1, name=col+\"_embed\")(x)\n",
    "\n",
    "    crossed_outputs.append(x)\n",
    "wide_branch = concatenate(crossed_outputs, name='wide_concat')\n",
    "all_deep_branch_outputs = []\n",
    "# CATEGORICAL DATA INPUT\n",
    "input_cat = Input(shape=(X_cat.shape[1],), dtype='int64', name='categorical')\n",
    "for idx,col in enumerate(categorical_headers):\n",
    "\n",
    "    # track what the maximum integer value will be for this variable\n",
    "    # which is the same as the number of categories\n",
    "    N = features[col].max()+1\n",
    "    N_reduced = int(np.sqrt(N))\n",
    "\n",
    "    # this line of code does this: input_branch[:,idx]\n",
    "    x = tf.gather(input_cat, idx, axis=1)\n",
    "\n",
    "    # now use an embedding to deal with integers as if they were one hot encoded\n",
    "    x = Embedding(input_dim=N,\n",
    "                  output_dim=N_reduced,\n",
    "                  input_length=1, name=col+'_embed')(x)\n",
    "\n",
    "    # save these outputs to concatenate later\n",
    "    all_deep_branch_outputs.append(x)\n",
    "\n",
    "# NUMERIC DATA INPUT\n",
    "# create dense input branch for numeric\n",
    "input_num = Input(shape=(X_num.shape[1],), name='numeric')\n",
    "x_dense = Dense(units=20, activation='relu',name='num_1')(input_num)\n",
    "\n",
    "all_deep_branch_outputs.append(x_dense)\n",
    "\n",
    "\n",
    "# merge the deep branches together\n",
    "deep_branch = concatenate(all_deep_branch_outputs,name='concat_embeds')\n",
    "deep_branch = Dense(units=256,activation='relu', name='deep1')(deep_branch)\n",
    "deep_branch = Dropout(0.2)(deep_branch)\n",
    "deep_branch = BatchNormalization()(deep_branch)\n",
    "deep_branch = Dense(units=128,activation='relu', name='deep2')(deep_branch)\n",
    "deep_branch = Dropout(0.2)(deep_branch)\n",
    "deep_branch = BatchNormalization()(deep_branch)\n",
    "deep_branch = Dense(units=64,activation='relu', name='deep3')(deep_branch)\n",
    "deep_branch = Dropout(0.2)(deep_branch)\n",
    "deep_branch = BatchNormalization()(deep_branch)\n",
    "deep_branch = Dense(units=32,activation='relu', name='deep4')(deep_branch)\n",
    "deep_branch = Dropout(0.2)(deep_branch)\n",
    "deep_branch = BatchNormalization()(deep_branch)\n",
    "deep_branch = Dense(units=10,activation='relu', name='deep5')(deep_branch)\n",
    "\n",
    "# merge the deep and wide branch\n",
    "final_branch = concatenate([wide_branch, deep_branch],\n",
    "                           name='concat_deep_wide')\n",
    "final_branch = Dense(units=1,activation='sigmoid', name='combined')(final_branch)\n",
    "\n",
    "model3 = Model(inputs=[input_crossed,input_cat,input_num],outputs=final_branch)\n",
    "\n",
    "class_weight = {0: 1,\n",
    "                1: 25}\n",
    "\n",
    "model3.compile(optimizer='adam', loss='binary_crossentropy')\n",
    "\n",
    "\n",
    "history3 = model3.fit([X_crossed,X_cat,X_num],\n",
    "                    y_train,\n",
    "                    class_weight=class_weight,\n",
    "                    validation_data=([crossed_features_test.to_numpy(), categorical_features_test.to_numpy(), numerical_features_test.to_numpy()], y_test),\n",
    "                    epochs=4,\n",
    "                    batch_size=256,\n",
    "                    verbose=1)"
   ]
  },
  {
   "cell_type": "code",
   "execution_count": 226,
   "metadata": {},
   "outputs": [
    {
     "name": "stderr",
     "output_type": "stream",
     "text": [
      "2022-11-20 22:24:48.199374: I tensorflow/core/grappler/optimizers/custom_graph_optimizer_registry.cc:113] Plugin optimizer for device_type GPU is enabled.\n"
     ]
    },
    {
     "name": "stdout",
     "output_type": "stream",
     "text": [
      "1108/1108 [==============================] - 7s 6ms/step\n",
      "False omission rate:  0.03275529865125241\n"
     ]
    }
   ],
   "source": [
    "# Calculate the false omission rate:\n",
    "from sklearn.metrics import confusion_matrix\n",
    "y_pred = model3.predict([crossed_features_test.to_numpy(), categorical_features_test.to_numpy(), numerical_features_test.to_numpy()])\n",
    "y_pred = np.where(y_pred > 0.5, 1, 0)\n",
    "\n",
    "cm = confusion_matrix(y_test, y_pred)\n",
    "tn = cm[0][0]\n",
    "fn = cm[1][0]\n",
    "print('False omission rate: ', fn/(tn+fn))"
   ]
  },
  {
   "cell_type": "code",
   "execution_count": 227,
   "outputs": [
    {
     "data": {
      "text/plain": "<matplotlib.legend.Legend at 0x33f622b60>"
     },
     "execution_count": 227,
     "metadata": {},
     "output_type": "execute_result"
    },
    {
     "data": {
      "text/plain": "<Figure size 640x480 with 1 Axes>",
      "image/png": "[encoded data removed]"
     },
     "metadata": {},
     "output_type": "display_data"
    }
   ],
   "source": [
    "# plot history:\n",
    "plt.plot(history3.history['loss'], label='train')\n",
    "plt.plot(history3.history['val_loss'], label='test')\n",
    "plt.legend()"
   ],
   "metadata": {
    "collapsed": false
   }
  },
  {
   "cell_type": "markdown",
   "source": [
    "This convergence graph is actually noticeably different from the others. and we suspect that this is primarily due to the use of Batch normalization and/or Droput, which leads to much greater stability and faster convergence of the model. We do get a noticable improvement in the False Omission rate, as it is 3.3% for this model, meaning we will make a profit equal to 1/3 of the total value of the loans we give out (with the many assumptions we highlighted above)."
   ],
   "metadata": {
    "collapsed": false
   }
  },
  {
   "cell_type": "markdown",
   "metadata": {},
   "source": [
    "### Basic MLP"
   ]
  },
  {
   "cell_type": "code",
   "execution_count": 188,
   "metadata": {},
   "outputs": [
    {
     "name": "stdout",
     "output_type": "stream",
     "text": [
      "Epoch 1/5\n"
     ]
    },
    {
     "name": "stderr",
     "output_type": "stream",
     "text": [
      "2022-11-20 21:32:16.832135: I tensorflow/core/grappler/optimizers/custom_graph_optimizer_registry.cc:113] Plugin optimizer for device_type GPU is enabled.\n"
     ]
    },
    {
     "name": "stdout",
     "output_type": "stream",
     "text": [
      "70/70 [==============================] - ETA: 0s - loss: 4313.9712"
     ]
    },
    {
     "name": "stderr",
     "output_type": "stream",
     "text": [
      "2022-11-20 21:32:21.493382: I tensorflow/core/grappler/optimizers/custom_graph_optimizer_registry.cc:113] Plugin optimizer for device_type GPU is enabled.\n"
     ]
    },
    {
     "name": "stdout",
     "output_type": "stream",
     "text": [
      "70/70 [==============================] - 6s 59ms/step - loss: 4313.9712 - val_loss: 121.0014\n",
      "Epoch 2/5\n",
      "70/70 [==============================] - 1s 20ms/step - loss: 238.9696 - val_loss: 95.1480\n",
      "Epoch 3/5\n",
      "70/70 [==============================] - 1s 20ms/step - loss: 151.3889 - val_loss: 40.6196\n",
      "Epoch 4/5\n",
      "70/70 [==============================] - 1s 21ms/step - loss: 93.7850 - val_loss: 55.0413\n",
      "Epoch 5/5\n",
      "70/70 [==============================] - 1s 20ms/step - loss: 80.2867 - val_loss: 120.2800\n",
      "CPU times: user 12.3 s, sys: 4.2 s, total: 16.5 s\n",
      "Wall time: 12 s\n"
     ]
    }
   ],
   "source": [
    "%%time\n",
    "# Keras input:\n",
    "from tensorflow.keras.layers import Input, Dense, concatenate, Embedding\n",
    "from tensorflow.keras.models import Model\n",
    "all_deep_branch_outputs = []\n",
    "# CATEGORICAL DATA INPUT\n",
    "input_cat = Input(shape=(X_cat.shape[1],), dtype='int64', name='categorical')\n",
    "for idx,col in enumerate(categorical_headers):\n",
    "\n",
    "    # track what the maximum integer value will be for this variable\n",
    "    # which is the same as the number of categories\n",
    "    N = features[col].max()+1\n",
    "    N_reduced = int(np.sqrt(N))\n",
    "\n",
    "    # this line of code does this: input_branch[:,idx]\n",
    "    x = tf.gather(input_cat, idx, axis=1)\n",
    "\n",
    "    # now use an embedding to deal with integers as if they were one hot encoded\n",
    "    x = Embedding(input_dim=N,\n",
    "                  output_dim=N_reduced,\n",
    "                  input_length=1, name=col+'_embed')(x)\n",
    "\n",
    "    # save these outputs to concatenate later\n",
    "    all_deep_branch_outputs.append(x)\n",
    "\n",
    "# NUMERIC DATA INPUT\n",
    "# create dense input branch for numeric\n",
    "input_num = Input(shape=(X_num.shape[1],), name='numeric')\n",
    "x_dense = Dense(units=20, activation='relu',name='num_1')(input_num)\n",
    "\n",
    "all_deep_branch_outputs.append(x_dense)\n",
    "\n",
    "\n",
    "# merge the deep branches together\n",
    "deep_branch = concatenate(all_deep_branch_outputs,name='concat_embeds')\n",
    "deep_branch = Dense(units=20,activation='relu', name='deep1')(deep_branch)\n",
    "deep_branch = Dense(units=10,activation='relu', name='deep2')(deep_branch)\n",
    "deep_branch = Dense(units=10,activation='relu', name='deep3')(deep_branch)\n",
    "\n",
    "# merge the deep and wide branch\n",
    "final_branch = Dense(units=1,activation='sigmoid', name='combined')(deep_branch)\n",
    "\n",
    "model4 = Model(inputs=[input_cat,input_num],outputs=final_branch)\n",
    "\n",
    "class_weight = {0: 1,\n",
    "                1: 30}\n",
    "\n",
    "model4.compile(optimizer='adam',\n",
    "              loss='binary_crossentropy')\n",
    "\n",
    "# lets also add the history variable to see how we are doing\n",
    "# and lets add a validation set to keep track of our progress\n",
    "history4 = model4.fit([X_cat,X_num],\n",
    "                    y_train,\n",
    "                    class_weight=class_weight,\n",
    "                    validation_data=([categorical_features_test.to_numpy(), numerical_features_test.to_numpy()], y_test),\n",
    "                    epochs=5,\n",
    "                    batch_size=512,\n",
    "                    verbose=1)"
   ]
  },
  {
   "cell_type": "code",
   "execution_count": 189,
   "metadata": {},
   "outputs": [
    {
     "name": "stdout",
     "output_type": "stream",
     "text": [
      "   1/1108 [..............................] - ETA: 3:46"
     ]
    },
    {
     "name": "stderr",
     "output_type": "stream",
     "text": [
      "2022-11-20 21:32:28.263419: I tensorflow/core/grappler/optimizers/custom_graph_optimizer_registry.cc:113] Plugin optimizer for device_type GPU is enabled.\n"
     ]
    },
    {
     "name": "stdout",
     "output_type": "stream",
     "text": [
      "1108/1108 [==============================] - 4s 3ms/step\n",
      "False omission rate:  0.05627468187801667\n"
     ]
    }
   ],
   "source": [
    "# Calculate the false omission rate:\n",
    "from sklearn.metrics import confusion_matrix\n",
    "y_pred = model4.predict([categorical_features_test.to_numpy(), numerical_features_test.to_numpy()])\n",
    "y_pred = np.where(y_pred > 0.5, 1, 0)\n",
    "\n",
    "cm = confusion_matrix(y_test, y_pred)\n",
    "tn = cm[0][0]\n",
    "fn = cm[1][0]\n",
    "print('False omission rate: ', fn/(tn+fn))"
   ]
  },
  {
   "cell_type": "code",
   "execution_count": 229,
   "outputs": [
    {
     "data": {
      "text/plain": "<matplotlib.legend.Legend at 0x374929ed0>"
     },
     "execution_count": 229,
     "metadata": {},
     "output_type": "execute_result"
    },
    {
     "data": {
      "text/plain": "<Figure size 640x480 with 1 Axes>",
      "image/png": "[encoded data removed]"
     },
     "metadata": {},
     "output_type": "display_data"
    }
   ],
   "source": [
    "# plot history:\n",
    "plt.plot(history4.history['loss'], label='train')\n",
    "plt.plot(history4.history['val_loss'], label='test')\n",
    "plt.legend()"
   ],
   "metadata": {
    "collapsed": false
   }
  },
  {
   "cell_type": "markdown",
   "source": [
    "This looks similar to the first 2 plots for train/test loss, with the training loss starting really high and converging quickly."
   ],
   "metadata": {
    "collapsed": false
   }
  },
  {
   "cell_type": "markdown",
   "source": [
    "In order for us to actually compare all these models let's plot the ROC Curves to guve a good indication of general classification performance"
   ],
   "metadata": {
    "collapsed": false
   }
  },
  {
   "cell_type": "code",
   "execution_count": 228,
   "metadata": {},
   "outputs": [
    {
     "name": "stdout",
     "output_type": "stream",
     "text": [
      "1108/1108 [==============================] - 4s 4ms/step\n",
      "1108/1108 [==============================] - 4s 4ms/step\n",
      "1108/1108 [==============================] - 5s 5ms/step\n",
      "1108/1108 [==============================] - 3s 3ms/step\n"
     ]
    },
    {
     "data": {
      "text/plain": "<matplotlib.legend.Legend at 0x3c89eed40>"
     },
     "execution_count": 228,
     "metadata": {},
     "output_type": "execute_result"
    },
    {
     "data": {
      "text/plain": "<Figure size 640x480 with 1 Axes>",
      "image/png": "[encoded data removed]"
     },
     "metadata": {},
     "output_type": "display_data"
    }
   ],
   "source": [
    "from sklearn.metrics import roc_curve, auc\n",
    "plt.figure()\n",
    "y_pred = model1.predict([crossed_features_test.to_numpy(), categorical_features_test.to_numpy(), numerical_features_test.to_numpy()])\n",
    "fpr, tpr, thresholds = roc_curve(y_test, y_pred)\n",
    "roc_auc = auc(fpr, tpr)\n",
    "plt.plot(fpr, tpr, color='yellow', label='Model 1 (area = %0.2f)' % roc_auc)\n",
    "y_pred = model2.predict([crossed_features_test.to_numpy(), categorical_features_test.to_numpy(), numerical_features_test.to_numpy()])\n",
    "fpr, tpr, thresholds = roc_curve(y_test, y_pred)\n",
    "roc_auc = auc(fpr, tpr)\n",
    "plt.plot(fpr, tpr, color='blue', label='Model 2 (area = %0.2f)' % roc_auc)\n",
    "y_pred = model3.predict([crossed_features_test.to_numpy(), categorical_features_test.to_numpy(), numerical_features_test.to_numpy()])\n",
    "fpr, tpr, thresholds = roc_curve(y_test, y_pred)\n",
    "roc_auc = auc(fpr, tpr)\n",
    "plt.plot(fpr, tpr, color='black', label='Model 3 (area = %0.2f)' % roc_auc)\n",
    "y_pred = model4.predict([categorical_features_test.to_numpy(), numerical_features_test.to_numpy()])\n",
    "fpr, tpr, thresholds = roc_curve(y_test, y_pred)\n",
    "roc_auc = auc(fpr, tpr)\n",
    "plt.plot(fpr, tpr, color='Brown', label='Model 4 (area = %0.2f)' % roc_auc)\n",
    "plt.legend()"
   ]
  },
  {
   "cell_type": "code",
   "execution_count": null,
   "outputs": [],
   "source": [],
   "metadata": {
    "collapsed": false
   }
  },
  {
   "cell_type": "code",
   "execution_count": 230,
   "outputs": [
    {
     "name": "stdout",
     "output_type": "stream",
     "text": [
      "1108/1108 [==============================] - 5s 5ms/step\n",
      "1108/1108 [==============================] - 3s 3ms/step\n"
     ]
    }
   ],
   "source": [
    "\n",
    "y_pred_model3 = model3.predict([crossed_features_test.to_numpy(), categorical_features_test.to_numpy(), numerical_features_test.to_numpy()])\n",
    "y_pred_model4 = model4.predict([categorical_features_test.to_numpy(), numerical_features_test.to_numpy()])\n",
    "y_pred_model3 = np.where(y_pred_model3 > 0.5, 1, 0).flatten()\n",
    "y_pred_model4 = np.where(y_pred_model4 > 0.5, 1, 0).flatten()\n",
    "\n",
    "both_correct = sum((y_pred_model3 == y_pred_model4) & (y_pred_model3 == y_test))\n",
    "both_wrong = sum((y_pred_model3 != y_test) & (y_pred_model4 != y_test))\n",
    "model3_correct = sum((y_pred_model3 == y_test) & (y_pred_model4 != y_test))\n",
    "model4_correct = sum((y_pred_model4 == y_test) & (y_pred_model3 != y_test))\n",
    "\n",
    "both_correct, both_wrong, model3_correct, model4_correct\n",
    "# conduct macnemar test:\n",
    "critical_value = (model3_correct - model4_correct - 1)**2 / (model3_correct + model4_correct)\n",
    "# convert chi-squared critical value to p-value\n",
    "from scipy.stats import chi2\n",
    "import math\n",
    "p = 1 - chi2.cdf(math.sqrt(critical_value), df=1)"
   ],
   "metadata": {
    "collapsed": false
   }
  },
  {
   "cell_type": "code",
   "execution_count": 231,
   "outputs": [
    {
     "data": {
      "text/plain": "4.440892098500626e-15"
     },
     "execution_count": 231,
     "metadata": {},
     "output_type": "execute_result"
    }
   ],
   "source": [
    "p"
   ],
   "metadata": {
    "collapsed": false
   }
  },
  {
   "cell_type": "markdown",
   "source": [
    "Because the critical value is effectively 0, we can safely reject the bull hypothesis that the models are the same and safely conclude that there is a statistically significant difference between model 3 (wide/deep network with dropout and batch norm), and  model 4 (MLP Almost Equivalent to the deep part from model 1 in structure)."
   ],
   "metadata": {
    "collapsed": false
   }
  },
  {
   "cell_type": "code",
   "execution_count": null,
   "outputs": [],
   "source": [],
   "metadata": {
    "collapsed": false
   }
  }
 ],
 "metadata": {
  "kernelspec": {
   "display_name": "Python 3.8.3 ('base')",
   "language": "python",
   "name": "python3"
  },
  "language_info": {
   "codemirror_mode": {
    "name": "ipython",
    "version": 3
   },
   "file_extension": ".py",
   "mimetype": "text/x-python",
   "name": "python",
   "nbconvert_exporter": "python",
   "pygments_lexer": "ipython3",
   "version": "3.8.3"
  },
  "orig_nbformat": 4,
  "vscode": {
   "interpreter": {
    "hash": "5cf3adf616e33df8fa5658772e64b4f0f2254473e5d618a082e9a94e9d74aa87"
   }
  }
 },
 "nbformat": 4,
 "nbformat_minor": 2
}
