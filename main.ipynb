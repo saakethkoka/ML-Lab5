{
 "cells": [
  {
   "cell_type": "code",
   "execution_count": 165,
   "metadata": {},
   "outputs": [],
   "source": [
    "import keras.metrics\n",
    "import tensorflow as tf\n",
    "import pandas as pd\n",
    "import numpy as np\n",
    "from sklearn.metrics import make_scorer\n",
    "from sklearn.model_selection import train_test_split\n",
    "from sklearn.preprocessing import LabelEncoder\n",
    "from sklearn.utils import shuffle\n",
    "from sklearn.model_selection import KFold\n",
    "from sklearn.model_selection import StratifiedKFold\n",
    "from sklearn.preprocessing import StandardScaler\n",
    "import matplotlib.pyplot as plt\n",
    "from tensorflow.keras.utils import plot_model\n",
    "from keras.layers import Input, Dense, Dropout, BatchNormalization, Activation"
   ]
  },
  {
   "cell_type": "markdown",
   "metadata": {},
   "source": [
    "# Importing the data"
   ]
  },
  {
   "cell_type": "code",
   "execution_count": 166,
   "metadata": {},
   "outputs": [
    {
     "name": "stderr",
     "output_type": "stream",
     "text": [
      "/var/folders/xl/c4sxq2w543df60c_cfh18xj80000gn/T/ipykernel_12908/2471439888.py:1: DtypeWarning: Columns (1,7,8,16,17,18,19,20,35) have mixed types. Specify dtype option on import or set low_memory=False.\n",
      "  data = pd.read_csv('data.csv')\n"
     ]
    }
   ],
   "source": [
    "data = pd.read_csv('data.csv')"
   ]
  },
  {
   "cell_type": "markdown",
   "metadata": {},
   "source": [
    "## Deciding whether to keep or drop data\n",
    "ID -> Drop\n",
    "Client_Income -> Keep\n",
    "Car_Owned -> Keep\n",
    "Bike_Owned -> Keep\n",
    "Active_Loan -> Keep\n",
    "House_Own -> Keep\n",
    "Child_Count -> Keep\n",
    "Credit_Amount-> Keep\n",
    "Loan_Annuity-> Keep\n",
    "Accompany_Client-> Drop\n",
    "Client_Income_Type-> Keep\n",
    "Client_Education-> Keep\n",
    "Client_Marital_Status-> Keep\n",
    "Client_Gender-> Drop\n",
    "Loan_Contract_Type-> Keep \n",
    "Client_Housing_Type -> Drop\n",
    "Population_Region_Relative-> Keep\n",
    "Age_Days-> Keep\n",
    "Employed_Days -> Keep\n",
    "Registration_Days -> Drop\n",
    "ID_Days -> Drop\n",
    "Own_House_Age -> Keep\n",
    "Mobile_Tag -> Drop\n",
    "Homephone_Tag -> Drop\n",
    "Workphone_Working -> Drop\n",
    "Client_Occupation -> Keep\n",
    "Client_Family_Members -> Keep\n",
    "Cleint_City_Rating -> Drop\n",
    "Application_Process_Day -> Drop\n",
    "Application_Process_Hour -> Drop\n",
    "Client_Permanent_Match_Tag -> Drop\n",
    "Client_Contact_Work_Tag -> Drop\n",
    "Type_Organization -> Drop\n",
    "Score_Source_1 -> Keep\n",
    "Score_Source_2 -> Keep\n",
    "Score_Source_3 -> Keep\n",
    "Social_Circle_Default -> Drop\n",
    "Phone_Change -> Drop\n",
    "Credit_Bureau -> Drop\n",
    "Default -> Target Class"
   ]
  },
  {
   "cell_type": "code",
   "execution_count": 167,
   "metadata": {},
   "outputs": [],
   "source": [
    "drop_cols = [\"ID\", \"Accompany_Client\", \"Client_Gender\", \"Client_Housing_Type\", \"Registration_Days\", \"ID_Days\",\n",
    " \"Mobile_Tag\", \"Homephone_Tag\", \"Workphone_Working\", \"Cleint_City_Rating\", \"Application_Process_Day\", \"Application_Process_Hour\",\n",
    " \"Client_Permanent_Match_Tag\", \"Client_Contact_Work_Tag\", \"Type_Organization\", \"Social_Circle_Default\", \"Phone_Change\",\"Credit_Bureau\"]\n",
    "\n",
    "data.drop(drop_cols, axis=1, inplace=True)"
   ]
  },
  {
   "cell_type": "code",
   "execution_count": 168,
   "metadata": {},
   "outputs": [
    {
     "data": {
      "text/plain": "       Client_Income  Car_Owned  Bike_Owned  Active_Loan  House_Own  \\\n0               6750        0.0         0.0          1.0        0.0   \n1              20250        1.0         0.0          1.0        NaN   \n2              18000        0.0         0.0          1.0        0.0   \n3              15750        0.0         0.0          1.0        1.0   \n4              33750        1.0         0.0          1.0        0.0   \n...              ...        ...         ...          ...        ...   \n121851         29250        0.0         0.0          NaN        1.0   \n121852         15750        0.0         1.0          1.0        0.0   \n121853          8100        0.0         1.0          0.0        1.0   \n121854         38250        1.0         1.0          0.0        1.0   \n121855          9000        1.0         1.0          1.0        1.0   \n\n        Child_Count Credit_Amount Loan_Annuity Client_Income_Type  \\\n0               0.0      61190.55      3416.85         Commercial   \n1               0.0         15282      1826.55            Service   \n2               1.0      59527.35       2788.2            Service   \n3               0.0       53870.4      2295.45            Retired   \n4               2.0      133988.4      3547.35         Commercial   \n...             ...           ...          ...                ...   \n121851          0.0        107820       3165.3            Service   \n121852          0.0        104256      3388.05         Commercial   \n121853          1.0       55107.9      2989.35           Govt Job   \n121854          0.0         45000      2719.35            Service   \n121855          1.0      62428.95      4201.65         Commercial   \n\n          Client_Education  ... Population_Region_Relative Age_Days  \\\n0                Secondary  ...                   0.028663    13957   \n1               Graduation  ...                   0.008575    14162   \n2       Graduation dropout  ...                     0.0228    16790   \n3                Secondary  ...                   0.010556    23195   \n4                Secondary  ...                   0.020713    11366   \n...                    ...  ...                        ...      ...   \n121851           Secondary  ...                   0.031329  12889.0   \n121852          Graduation  ...                   0.018209   8648.0   \n121853           Secondary  ...                   0.008068   9152.0   \n121854          Graduation  ...                   0.028663  10290.0   \n121855           Secondary  ...                   0.018029  14772.0   \n\n       Employed_Days Own_House_Age Client_Occupation  Client_Family_Members  \\\n0               1062           NaN             Sales                    2.0   \n1               4129           0.0               NaN                    2.0   \n2               5102           NaN     Realty agents                    2.0   \n3             365243           NaN               NaN                    2.0   \n4               2977           6.0          Laborers                    4.0   \n...              ...           ...               ...                    ...   \n121851        2863.0           NaN          Laborers                    2.0   \n121852         636.0           NaN             Sales                    2.0   \n121853        1623.0           NaN   High skill tech                    3.0   \n121854         847.0           4.0             Sales                    2.0   \n121855         498.0           6.0          Managers                    2.0   \n\n       Score_Source_1  Score_Source_2  Score_Source_3  Default  \n0            0.568066        0.478787             NaN        0  \n1            0.563360        0.215068             NaN        0  \n2                 NaN        0.552795        0.329655        0  \n3                 NaN        0.135182        0.631355        0  \n4            0.508199        0.301182        0.355639        0  \n...               ...             ...             ...      ...  \n121851            NaN        0.173527        0.184116        1  \n121852            NaN        0.371559        0.406617        0  \n121853       0.169049        0.048079             NaN        0  \n121854       0.182737        0.103538        0.077499        0  \n121855            NaN        0.556414        0.298595        0  \n\n[121856 rows x 22 columns]",
      "text/html": "<div>\n<style scoped>\n    .dataframe tbody tr th:only-of-type {\n        vertical-align: middle;\n    }\n\n    .dataframe tbody tr th {\n        vertical-align: top;\n    }\n\n    .dataframe thead th {\n        text-align: right;\n    }\n</style>\n<table border=\"1\" class=\"dataframe\">\n  <thead>\n    <tr style=\"text-align: right;\">\n      <th></th>\n      <th>Client_Income</th>\n      <th>Car_Owned</th>\n      <th>Bike_Owned</th>\n      <th>Active_Loan</th>\n      <th>House_Own</th>\n      <th>Child_Count</th>\n      <th>Credit_Amount</th>\n      <th>Loan_Annuity</th>\n      <th>Client_Income_Type</th>\n      <th>Client_Education</th>\n      <th>...</th>\n      <th>Population_Region_Relative</th>\n      <th>Age_Days</th>\n      <th>Employed_Days</th>\n      <th>Own_House_Age</th>\n      <th>Client_Occupation</th>\n      <th>Client_Family_Members</th>\n      <th>Score_Source_1</th>\n      <th>Score_Source_2</th>\n      <th>Score_Source_3</th>\n      <th>Default</th>\n    </tr>\n  </thead>\n  <tbody>\n    <tr>\n      <th>0</th>\n      <td>6750</td>\n      <td>0.0</td>\n      <td>0.0</td>\n      <td>1.0</td>\n      <td>0.0</td>\n      <td>0.0</td>\n      <td>61190.55</td>\n      <td>3416.85</td>\n      <td>Commercial</td>\n      <td>Secondary</td>\n      <td>...</td>\n      <td>0.028663</td>\n      <td>13957</td>\n      <td>1062</td>\n      <td>NaN</td>\n      <td>Sales</td>\n      <td>2.0</td>\n      <td>0.568066</td>\n      <td>0.478787</td>\n      <td>NaN</td>\n      <td>0</td>\n    </tr>\n    <tr>\n      <th>1</th>\n      <td>20250</td>\n      <td>1.0</td>\n      <td>0.0</td>\n      <td>1.0</td>\n      <td>NaN</td>\n      <td>0.0</td>\n      <td>15282</td>\n      <td>1826.55</td>\n      <td>Service</td>\n      <td>Graduation</td>\n      <td>...</td>\n      <td>0.008575</td>\n      <td>14162</td>\n      <td>4129</td>\n      <td>0.0</td>\n      <td>NaN</td>\n      <td>2.0</td>\n      <td>0.563360</td>\n      <td>0.215068</td>\n      <td>NaN</td>\n      <td>0</td>\n    </tr>\n    <tr>\n      <th>2</th>\n      <td>18000</td>\n      <td>0.0</td>\n      <td>0.0</td>\n      <td>1.0</td>\n      <td>0.0</td>\n      <td>1.0</td>\n      <td>59527.35</td>\n      <td>2788.2</td>\n      <td>Service</td>\n      <td>Graduation dropout</td>\n      <td>...</td>\n      <td>0.0228</td>\n      <td>16790</td>\n      <td>5102</td>\n      <td>NaN</td>\n      <td>Realty agents</td>\n      <td>2.0</td>\n      <td>NaN</td>\n      <td>0.552795</td>\n      <td>0.329655</td>\n      <td>0</td>\n    </tr>\n    <tr>\n      <th>3</th>\n      <td>15750</td>\n      <td>0.0</td>\n      <td>0.0</td>\n      <td>1.0</td>\n      <td>1.0</td>\n      <td>0.0</td>\n      <td>53870.4</td>\n      <td>2295.45</td>\n      <td>Retired</td>\n      <td>Secondary</td>\n      <td>...</td>\n      <td>0.010556</td>\n      <td>23195</td>\n      <td>365243</td>\n      <td>NaN</td>\n      <td>NaN</td>\n      <td>2.0</td>\n      <td>NaN</td>\n      <td>0.135182</td>\n      <td>0.631355</td>\n      <td>0</td>\n    </tr>\n    <tr>\n      <th>4</th>\n      <td>33750</td>\n      <td>1.0</td>\n      <td>0.0</td>\n      <td>1.0</td>\n      <td>0.0</td>\n      <td>2.0</td>\n      <td>133988.4</td>\n      <td>3547.35</td>\n      <td>Commercial</td>\n      <td>Secondary</td>\n      <td>...</td>\n      <td>0.020713</td>\n      <td>11366</td>\n      <td>2977</td>\n      <td>6.0</td>\n      <td>Laborers</td>\n      <td>4.0</td>\n      <td>0.508199</td>\n      <td>0.301182</td>\n      <td>0.355639</td>\n      <td>0</td>\n    </tr>\n    <tr>\n      <th>...</th>\n      <td>...</td>\n      <td>...</td>\n      <td>...</td>\n      <td>...</td>\n      <td>...</td>\n      <td>...</td>\n      <td>...</td>\n      <td>...</td>\n      <td>...</td>\n      <td>...</td>\n      <td>...</td>\n      <td>...</td>\n      <td>...</td>\n      <td>...</td>\n      <td>...</td>\n      <td>...</td>\n      <td>...</td>\n      <td>...</td>\n      <td>...</td>\n      <td>...</td>\n      <td>...</td>\n    </tr>\n    <tr>\n      <th>121851</th>\n      <td>29250</td>\n      <td>0.0</td>\n      <td>0.0</td>\n      <td>NaN</td>\n      <td>1.0</td>\n      <td>0.0</td>\n      <td>107820</td>\n      <td>3165.3</td>\n      <td>Service</td>\n      <td>Secondary</td>\n      <td>...</td>\n      <td>0.031329</td>\n      <td>12889.0</td>\n      <td>2863.0</td>\n      <td>NaN</td>\n      <td>Laborers</td>\n      <td>2.0</td>\n      <td>NaN</td>\n      <td>0.173527</td>\n      <td>0.184116</td>\n      <td>1</td>\n    </tr>\n    <tr>\n      <th>121852</th>\n      <td>15750</td>\n      <td>0.0</td>\n      <td>1.0</td>\n      <td>1.0</td>\n      <td>0.0</td>\n      <td>0.0</td>\n      <td>104256</td>\n      <td>3388.05</td>\n      <td>Commercial</td>\n      <td>Graduation</td>\n      <td>...</td>\n      <td>0.018209</td>\n      <td>8648.0</td>\n      <td>636.0</td>\n      <td>NaN</td>\n      <td>Sales</td>\n      <td>2.0</td>\n      <td>NaN</td>\n      <td>0.371559</td>\n      <td>0.406617</td>\n      <td>0</td>\n    </tr>\n    <tr>\n      <th>121853</th>\n      <td>8100</td>\n      <td>0.0</td>\n      <td>1.0</td>\n      <td>0.0</td>\n      <td>1.0</td>\n      <td>1.0</td>\n      <td>55107.9</td>\n      <td>2989.35</td>\n      <td>Govt Job</td>\n      <td>Secondary</td>\n      <td>...</td>\n      <td>0.008068</td>\n      <td>9152.0</td>\n      <td>1623.0</td>\n      <td>NaN</td>\n      <td>High skill tech</td>\n      <td>3.0</td>\n      <td>0.169049</td>\n      <td>0.048079</td>\n      <td>NaN</td>\n      <td>0</td>\n    </tr>\n    <tr>\n      <th>121854</th>\n      <td>38250</td>\n      <td>1.0</td>\n      <td>1.0</td>\n      <td>0.0</td>\n      <td>1.0</td>\n      <td>0.0</td>\n      <td>45000</td>\n      <td>2719.35</td>\n      <td>Service</td>\n      <td>Graduation</td>\n      <td>...</td>\n      <td>0.028663</td>\n      <td>10290.0</td>\n      <td>847.0</td>\n      <td>4.0</td>\n      <td>Sales</td>\n      <td>2.0</td>\n      <td>0.182737</td>\n      <td>0.103538</td>\n      <td>0.077499</td>\n      <td>0</td>\n    </tr>\n    <tr>\n      <th>121855</th>\n      <td>9000</td>\n      <td>1.0</td>\n      <td>1.0</td>\n      <td>1.0</td>\n      <td>1.0</td>\n      <td>1.0</td>\n      <td>62428.95</td>\n      <td>4201.65</td>\n      <td>Commercial</td>\n      <td>Secondary</td>\n      <td>...</td>\n      <td>0.018029</td>\n      <td>14772.0</td>\n      <td>498.0</td>\n      <td>6.0</td>\n      <td>Managers</td>\n      <td>2.0</td>\n      <td>NaN</td>\n      <td>0.556414</td>\n      <td>0.298595</td>\n      <td>0</td>\n    </tr>\n  </tbody>\n</table>\n<p>121856 rows × 22 columns</p>\n</div>"
     },
     "execution_count": 168,
     "metadata": {},
     "output_type": "execute_result"
    }
   ],
   "source": [
    "data"
   ]
  },
  {
   "cell_type": "markdown",
   "metadata": {},
   "source": [
    "### How much of each of the remaining columns is missing?"
   ]
  },
  {
   "cell_type": "code",
   "execution_count": 169,
   "metadata": {},
   "outputs": [
    {
     "name": "stdout",
     "output_type": "stream",
     "text": [
      "Client_Income: 3%\n",
      "Car_Owned: 3%\n",
      "Bike_Owned: 3%\n",
      "Active_Loan: 3%\n",
      "House_Own: 3%\n",
      "Child_Count: 3%\n",
      "Credit_Amount: 3%\n",
      "Loan_Annuity: 4%\n",
      "Client_Income_Type: 3%\n",
      "Client_Education: 3%\n",
      "Client_Marital_Status: 3%\n",
      "Loan_Contract_Type: 3%\n",
      "Population_Region_Relative: 4%\n",
      "Age_Days: 3%\n",
      "Employed_Days: 3%\n",
      "Own_House_Age: 66%\n",
      "Client_Occupation: 34%\n",
      "Client_Family_Members: 2%\n",
      "Score_Source_1: 56%\n",
      "Score_Source_2: 5%\n",
      "Score_Source_3: 22%\n",
      "Default: 0%\n"
     ]
    }
   ],
   "source": [
    "for col in data.columns:\n",
    "    pct_missing = np.mean(data[col].isnull())\n",
    "    print('{}: {}%'.format(col, round(pct_missing*100)))"
   ]
  },
  {
   "cell_type": "markdown",
   "metadata": {},
   "source": [
    "Some of these columns have a lot of data missing. And simply taking out the missing rows from these columns will drastically reduce the size of our dataset. For this reason we are choosing to remove the features with more than 10% missing data."
   ]
  },
  {
   "cell_type": "code",
   "execution_count": 170,
   "metadata": {},
   "outputs": [
    {
     "data": {
      "text/plain": "       Client_Income  Car_Owned  Bike_Owned  Active_Loan  House_Own  \\\n0               6750        0.0         0.0          1.0        0.0   \n2              18000        0.0         0.0          1.0        0.0   \n3              15750        0.0         0.0          1.0        1.0   \n4              33750        1.0         0.0          1.0        0.0   \n5              11250        0.0         1.0          1.0        1.0   \n...              ...        ...         ...          ...        ...   \n121850         12150        0.0         0.0          1.0        0.0   \n121852         15750        0.0         1.0          1.0        0.0   \n121853          8100        0.0         1.0          0.0        1.0   \n121854         38250        1.0         1.0          0.0        1.0   \n121855          9000        1.0         1.0          1.0        1.0   \n\n        Child_Count Credit_Amount Loan_Annuity Client_Income_Type  \\\n0               0.0      61190.55      3416.85         Commercial   \n2               1.0      59527.35       2788.2            Service   \n3               0.0       53870.4      2295.45            Retired   \n4               2.0      133988.4      3547.35         Commercial   \n5               1.0         13752       653.85            Service   \n...             ...           ...          ...                ...   \n121850          0.0         78192      2383.65            Retired   \n121852          0.0        104256      3388.05         Commercial   \n121853          1.0       55107.9      2989.35           Govt Job   \n121854          0.0         45000      2719.35            Service   \n121855          1.0      62428.95      4201.65         Commercial   \n\n          Client_Education Client_Marital_Status Loan_Contract_Type  \\\n0                Secondary                     M                 CL   \n2       Graduation dropout                     W                 CL   \n3                Secondary                     M                 CL   \n4                Secondary                     M                 CL   \n5                Secondary                     W                 CL   \n...                    ...                   ...                ...   \n121850           Secondary                     S                 CL   \n121852          Graduation                     M                 CL   \n121853           Secondary                     M                 CL   \n121854          Graduation                     M                 CL   \n121855           Secondary                     S                 CL   \n\n       Population_Region_Relative Age_Days Employed_Days  \\\n0                        0.028663    13957          1062   \n2                          0.0228    16790          5102   \n3                        0.010556    23195        365243   \n4                        0.020713    11366          2977   \n5                        0.019101    13881          1184   \n...                           ...      ...           ...   \n121850                    0.01885  23943.0      365243.0   \n121852                   0.018209   8648.0         636.0   \n121853                   0.008068   9152.0        1623.0   \n121854                   0.028663  10290.0         847.0   \n121855                   0.018029  14772.0         498.0   \n\n        Client_Family_Members  Score_Source_2  Default  \n0                         2.0        0.478787        0  \n2                         2.0        0.552795        0  \n3                         2.0        0.135182        0  \n4                         4.0        0.301182        0  \n5                         2.0        0.697928        0  \n...                       ...             ...      ...  \n121850                    1.0        0.678249        0  \n121852                    2.0        0.371559        0  \n121853                    3.0        0.048079        0  \n121854                    2.0        0.103538        0  \n121855                    2.0        0.556414        0  \n\n[70918 rows x 18 columns]",
      "text/html": "<div>\n<style scoped>\n    .dataframe tbody tr th:only-of-type {\n        vertical-align: middle;\n    }\n\n    .dataframe tbody tr th {\n        vertical-align: top;\n    }\n\n    .dataframe thead th {\n        text-align: right;\n    }\n</style>\n<table border=\"1\" class=\"dataframe\">\n  <thead>\n    <tr style=\"text-align: right;\">\n      <th></th>\n      <th>Client_Income</th>\n      <th>Car_Owned</th>\n      <th>Bike_Owned</th>\n      <th>Active_Loan</th>\n      <th>House_Own</th>\n      <th>Child_Count</th>\n      <th>Credit_Amount</th>\n      <th>Loan_Annuity</th>\n      <th>Client_Income_Type</th>\n      <th>Client_Education</th>\n      <th>Client_Marital_Status</th>\n      <th>Loan_Contract_Type</th>\n      <th>Population_Region_Relative</th>\n      <th>Age_Days</th>\n      <th>Employed_Days</th>\n      <th>Client_Family_Members</th>\n      <th>Score_Source_2</th>\n      <th>Default</th>\n    </tr>\n  </thead>\n  <tbody>\n    <tr>\n      <th>0</th>\n      <td>6750</td>\n      <td>0.0</td>\n      <td>0.0</td>\n      <td>1.0</td>\n      <td>0.0</td>\n      <td>0.0</td>\n      <td>61190.55</td>\n      <td>3416.85</td>\n      <td>Commercial</td>\n      <td>Secondary</td>\n      <td>M</td>\n      <td>CL</td>\n      <td>0.028663</td>\n      <td>13957</td>\n      <td>1062</td>\n      <td>2.0</td>\n      <td>0.478787</td>\n      <td>0</td>\n    </tr>\n    <tr>\n      <th>2</th>\n      <td>18000</td>\n      <td>0.0</td>\n      <td>0.0</td>\n      <td>1.0</td>\n      <td>0.0</td>\n      <td>1.0</td>\n      <td>59527.35</td>\n      <td>2788.2</td>\n      <td>Service</td>\n      <td>Graduation dropout</td>\n      <td>W</td>\n      <td>CL</td>\n      <td>0.0228</td>\n      <td>16790</td>\n      <td>5102</td>\n      <td>2.0</td>\n      <td>0.552795</td>\n      <td>0</td>\n    </tr>\n    <tr>\n      <th>3</th>\n      <td>15750</td>\n      <td>0.0</td>\n      <td>0.0</td>\n      <td>1.0</td>\n      <td>1.0</td>\n      <td>0.0</td>\n      <td>53870.4</td>\n      <td>2295.45</td>\n      <td>Retired</td>\n      <td>Secondary</td>\n      <td>M</td>\n      <td>CL</td>\n      <td>0.010556</td>\n      <td>23195</td>\n      <td>365243</td>\n      <td>2.0</td>\n      <td>0.135182</td>\n      <td>0</td>\n    </tr>\n    <tr>\n      <th>4</th>\n      <td>33750</td>\n      <td>1.0</td>\n      <td>0.0</td>\n      <td>1.0</td>\n      <td>0.0</td>\n      <td>2.0</td>\n      <td>133988.4</td>\n      <td>3547.35</td>\n      <td>Commercial</td>\n      <td>Secondary</td>\n      <td>M</td>\n      <td>CL</td>\n      <td>0.020713</td>\n      <td>11366</td>\n      <td>2977</td>\n      <td>4.0</td>\n      <td>0.301182</td>\n      <td>0</td>\n    </tr>\n    <tr>\n      <th>5</th>\n      <td>11250</td>\n      <td>0.0</td>\n      <td>1.0</td>\n      <td>1.0</td>\n      <td>1.0</td>\n      <td>1.0</td>\n      <td>13752</td>\n      <td>653.85</td>\n      <td>Service</td>\n      <td>Secondary</td>\n      <td>W</td>\n      <td>CL</td>\n      <td>0.019101</td>\n      <td>13881</td>\n      <td>1184</td>\n      <td>2.0</td>\n      <td>0.697928</td>\n      <td>0</td>\n    </tr>\n    <tr>\n      <th>...</th>\n      <td>...</td>\n      <td>...</td>\n      <td>...</td>\n      <td>...</td>\n      <td>...</td>\n      <td>...</td>\n      <td>...</td>\n      <td>...</td>\n      <td>...</td>\n      <td>...</td>\n      <td>...</td>\n      <td>...</td>\n      <td>...</td>\n      <td>...</td>\n      <td>...</td>\n      <td>...</td>\n      <td>...</td>\n      <td>...</td>\n    </tr>\n    <tr>\n      <th>121850</th>\n      <td>12150</td>\n      <td>0.0</td>\n      <td>0.0</td>\n      <td>1.0</td>\n      <td>0.0</td>\n      <td>0.0</td>\n      <td>78192</td>\n      <td>2383.65</td>\n      <td>Retired</td>\n      <td>Secondary</td>\n      <td>S</td>\n      <td>CL</td>\n      <td>0.01885</td>\n      <td>23943.0</td>\n      <td>365243.0</td>\n      <td>1.0</td>\n      <td>0.678249</td>\n      <td>0</td>\n    </tr>\n    <tr>\n      <th>121852</th>\n      <td>15750</td>\n      <td>0.0</td>\n      <td>1.0</td>\n      <td>1.0</td>\n      <td>0.0</td>\n      <td>0.0</td>\n      <td>104256</td>\n      <td>3388.05</td>\n      <td>Commercial</td>\n      <td>Graduation</td>\n      <td>M</td>\n      <td>CL</td>\n      <td>0.018209</td>\n      <td>8648.0</td>\n      <td>636.0</td>\n      <td>2.0</td>\n      <td>0.371559</td>\n      <td>0</td>\n    </tr>\n    <tr>\n      <th>121853</th>\n      <td>8100</td>\n      <td>0.0</td>\n      <td>1.0</td>\n      <td>0.0</td>\n      <td>1.0</td>\n      <td>1.0</td>\n      <td>55107.9</td>\n      <td>2989.35</td>\n      <td>Govt Job</td>\n      <td>Secondary</td>\n      <td>M</td>\n      <td>CL</td>\n      <td>0.008068</td>\n      <td>9152.0</td>\n      <td>1623.0</td>\n      <td>3.0</td>\n      <td>0.048079</td>\n      <td>0</td>\n    </tr>\n    <tr>\n      <th>121854</th>\n      <td>38250</td>\n      <td>1.0</td>\n      <td>1.0</td>\n      <td>0.0</td>\n      <td>1.0</td>\n      <td>0.0</td>\n      <td>45000</td>\n      <td>2719.35</td>\n      <td>Service</td>\n      <td>Graduation</td>\n      <td>M</td>\n      <td>CL</td>\n      <td>0.028663</td>\n      <td>10290.0</td>\n      <td>847.0</td>\n      <td>2.0</td>\n      <td>0.103538</td>\n      <td>0</td>\n    </tr>\n    <tr>\n      <th>121855</th>\n      <td>9000</td>\n      <td>1.0</td>\n      <td>1.0</td>\n      <td>1.0</td>\n      <td>1.0</td>\n      <td>1.0</td>\n      <td>62428.95</td>\n      <td>4201.65</td>\n      <td>Commercial</td>\n      <td>Secondary</td>\n      <td>S</td>\n      <td>CL</td>\n      <td>0.018029</td>\n      <td>14772.0</td>\n      <td>498.0</td>\n      <td>2.0</td>\n      <td>0.556414</td>\n      <td>0</td>\n    </tr>\n  </tbody>\n</table>\n<p>70918 rows × 18 columns</p>\n</div>"
     },
     "execution_count": 170,
     "metadata": {},
     "output_type": "execute_result"
    }
   ],
   "source": [
    "drop_cols = [\"Own_House_Age\", \"Client_Occupation\", \"Score_Source_1\", \"Score_Source_3\"]\n",
    "data.drop(drop_cols, axis=1, inplace=True)\n",
    "data.dropna(inplace=True)\n",
    "data"
   ]
  },
  {
   "cell_type": "markdown",
   "metadata": {},
   "source": [
    "## Describing the Dataset:\n",
    "\n",
    "Clinet_Income: Client Income in $, Integer\n",
    "\n",
    "Car_Owned: Does client own another car?, Categorical 1 for Yes 0 for No\n",
    "\n",
    "Bike_Owned: Does client own a Bike?, Categorical 1 for Yes 0 for No\n",
    "\n",
    "Active_Loan: Does client have another active loan?, Categorical 1 for Yes 0 for No\n",
    "\n",
    "House_Own: Does client own a house?, Categorical 1 for Yes 0 for No\n",
    "\n",
    "Child_Count: How many children does the client own?, Integer\n",
    "\n",
    "Credit_Amount: Credit amount of the loan in $, Integer\n",
    "\n",
    "Loan_Annuity: Loan annuity in $, Integer\n",
    "\n",
    "Client_Income_Type: Type of income of the client, Categorical\n",
    "\n",
    "Client_Education: Education level of the client, Categorical\n",
    "\n",
    "Client_Marital_Status: Marital status of the client, Categorical\n",
    "\n",
    "Loan_Contract_Type: Type of loan contract, Categorical\n",
    "\n",
    "Population_Region_Relative: Normalized population of region where client lives (higher number means the client lives in more populated region), Float\n",
    "\n",
    "Age_Days: Age of the client in days, Integer\n",
    "\n",
    "Employed_Days: How many days has the client been employed? Integer\n",
    "\n",
    "Clinet_Family_Members: How many family members does the client have? Integer\n",
    "\n",
    "Score_Source_2: Normalized score from external data source, Float\n",
    "\n",
    "Default: Did the client default on the loan?, Categorical 1 for Yes 0 for No"
   ]
  },
  {
   "cell_type": "code",
   "execution_count": 171,
   "metadata": {},
   "outputs": [
    {
     "name": "stdout",
     "output_type": "stream",
     "text": [
      "70918\n",
      "70882\n"
     ]
    }
   ],
   "source": [
    "columns = [\"Employed_Days\", \"Age_Days\", \"Client_Income\", \"Credit_Amount\", \"Loan_Annuity\", \"Population_Region_Relative\"]\n",
    "\n",
    "# Drop all rows where the column has non-numeric values:\n",
    "print(len(data))\n",
    "for col in columns:\n",
    "    data = data[data[col] != 'x']\n",
    "    data = data[data[col] != '$']\n",
    "    data = data[data[col] != '@']\n",
    "    data = data[data[col] != '#']\n",
    "    data = data[data[col] != '#VALUE!']\n",
    "print(len(data))\n",
    "\n",
    "# Setting datatype of these columns to float64:\n",
    "for col in columns:\n",
    "    data[col] = data[col].astype('float64')"
   ]
  },
  {
   "cell_type": "code",
   "execution_count": 172,
   "metadata": {},
   "outputs": [
    {
     "data": {
      "text/plain": "Client_Income                 float64\nCar_Owned                     float64\nBike_Owned                    float64\nActive_Loan                   float64\nHouse_Own                     float64\nChild_Count                   float64\nCredit_Amount                 float64\nLoan_Annuity                  float64\nClient_Income_Type             object\nClient_Education               object\nClient_Marital_Status          object\nLoan_Contract_Type             object\nPopulation_Region_Relative    float64\nAge_Days                      float64\nEmployed_Days                 float64\nClient_Family_Members         float64\nScore_Source_2                float64\nDefault                         int64\ndtype: object"
     },
     "execution_count": 172,
     "metadata": {},
     "output_type": "execute_result"
    }
   ],
   "source": [
    "data.dtypes"
   ]
  },
  {
   "cell_type": "code",
   "execution_count": 173,
   "metadata": {},
   "outputs": [],
   "source": [
    "categorical_headers = [\"Client_Income_Type\", \"Client_Education\", \"Client_Marital_Status\", \"Loan_Contract_Type\", \"Car_Owned\", \"Bike_Owned\", \"Active_Loan\", \"House_Own\"]\n",
    "numerical_headers = [\"Client_Income\",\"Child_Count\", \"Credit_Amount\",\"Loan_Annuity\",\"Population_Region_Relative\",\"Age_Days\",\"Employed_Days\",\"Client_Family_Members\", \"Score_Source_2\"]"
   ]
  },
  {
   "cell_type": "code",
   "execution_count": 174,
   "metadata": {},
   "outputs": [],
   "source": [
    "# Convert all categorical headers to strings:\n",
    "for col in categorical_headers:\n",
    "    data[col] = data[col].astype('str')"
   ]
  },
  {
   "cell_type": "markdown",
   "metadata": {},
   "source": []
  },
  {
   "cell_type": "code",
   "execution_count": 175,
   "metadata": {},
   "outputs": [
    {
     "data": {
      "text/plain": "Client_Income                 float64\nCar_Owned                      object\nBike_Owned                     object\nActive_Loan                    object\nHouse_Own                      object\nChild_Count                   float64\nCredit_Amount                 float64\nLoan_Annuity                  float64\nClient_Income_Type             object\nClient_Education               object\nClient_Marital_Status          object\nLoan_Contract_Type             object\nPopulation_Region_Relative    float64\nAge_Days                      float64\nEmployed_Days                 float64\nClient_Family_Members         float64\nScore_Source_2                float64\nDefault                         int64\ndtype: object"
     },
     "execution_count": 175,
     "metadata": {},
     "output_type": "execute_result"
    }
   ],
   "source": [
    "data.dtypes"
   ]
  },
  {
   "cell_type": "markdown",
   "metadata": {},
   "source": [
    "## Model Performance Algorithm:\n",
    "\n",
    "To quantify model performance, we will be using the false omission rate, which is defined as the false negatives divided by the sum of the true and false negatives, or the total negative class predictions of our model. In our case, the negative class represents approved loans by our model, and the false omission rate is essentially the percentage of the loans that our model would hypothetically approve that results in a default. Assuming the worst case, this would mean that all the money we gave to that percetnage of people is gone, and we need to make up the rest through the interest earned on the \"good\" loans (not accounting for loan size). Thus, if we take the total amount of loan that we give and the false omission rate and assume equal size of the loans in question, we need to charge approximately the False Omission Rate as our intereest rate in order to break even. The average interest rate on Car loans is 5.3%, according to bank of America, but we want to make money, so we need to get the rate to at least below 5%, and even lower, if possible, for our model to be viable in a practical setting.\n",
    "source: https://www.bankofamerica.com/auto-loans/auto-loan-rates/"
   ]
  },
  {
   "cell_type": "markdown",
   "metadata": {},
   "source": [
    "## Splitting the data:\n",
    "\n",
    "We have a very imbalanced dataset with respect to the target class, with 8% of the final preprocessed data being loans that resulted in default and 92% not resulting in default. However, we do have a lot of data (>70k observations), so we can use a train_test split, but in order to accurately get a good indication of performance on hte test set, we will use a 50-50 stratified split between the train and test data to ensure that we are getting an accurate indication of out-of-sample performance when cross-validating with the test data. This is important because we want the training and testing data to follow that same distribution with respect to the target class, and, in the real world, this is a very realistic imbalance to have because a lot more people typically will pay their loan back compared to the amount that default. Since we have a lot of datapoints, we can still use this simple train--test split to get an accurate indication of model performance, as a lot of data is being withheld still, and we will be able to tell based on test performance whether the model is properly trained or is under fitted/fitting noise."
   ]
  },
  {
   "cell_type": "code",
   "execution_count": 176,
   "metadata": {
    "collapsed": false
   },
   "outputs": [],
   "source": [
    "target = data[\"Default\"]\n",
    "features = data.drop(columns=['Default'])"
   ]
  },
  {
   "cell_type": "markdown",
   "source": [
    "# Cross Product Features\n",
    "\n",
    "1. Client_Income_Type, Client_Education, Client_Marital_Status, Loan_Contract_Type\n",
    "We believe that these crossing these four fields will provide trainable information for our model to memorize. For example, our model may memorize that an Unemployed client with no secondary education, who is single and applying for a commercial loan is at high risk of defaulting. Or on the other hand, a Client with a commercial income, graduate education and is married applying for a retail loan is not a significant credit risk.\n",
    "2. Car_Owned, Client_Education, Client_Marital_Status\n",
    "With these three the model may be able to memorize certain household data such as an Graduate level educated client who is married and owns a car vs a Secondary Dropout who is Single and own Car_Owned.\n",
    "3. House_Own, Car_Owned, Bike_Owned, Active_Loan\n",
    "Our model may be able to memorize certain situations such as when a Client has a House, Car and a Bike but no active loan which may suggest that a client is not a credit risk."
   ],
   "metadata": {
    "collapsed": false
   }
  },
  {
   "cell_type": "code",
   "execution_count": 177,
   "metadata": {},
   "outputs": [],
   "source": [
    "# Columns to be crossed\n",
    "cross_columns = [\n",
    "                 ['Client_Income_Type','Client_Education','Client_Marital_Status','Loan_Contract_Type'],\n",
    "                 ['Car_Owned', 'Client_Education', \"Client_Marital_Status\"],\n",
    "                 ['House_Own','Car_Owned', 'Bike_Owned', \"Active_Loan\"]\n",
    "]\n",
    "\n",
    "encoders = {\n",
    "\n",
    "}\n",
    "\n",
    "cross_col_df_names = []\n",
    "for cols_list in cross_columns:\n",
    "\n",
    "    enc = LabelEncoder()\n",
    "\n",
    "    # 1. create crossed labels by join operation\n",
    "    features_crossed = features[cols_list].apply(lambda x: '_'.join(x), axis=1)\n",
    "    \n",
    "    # get a nice name for this new crossed column\n",
    "    cross_col_name = '_'.join(cols_list)\n",
    "    \n",
    "    # 2. encode as integers, stacking all possibilities\n",
    "    enc.fit(np.hstack((features_crossed.to_numpy())))\n",
    "    \n",
    "    # 3. Save into dataframe with new name\n",
    "    features[cross_col_name] = enc.transform(features_crossed)\n",
    "    \n",
    "    # Save the encoder used here for later:\n",
    "    encoders[cross_col_name] = enc\n",
    "    \n",
    "    # keep track of the new names of the crossed columns\n",
    "    cross_col_df_names.append(cross_col_name) \n",
    "\n",
    "# Label encode all of the categrorical headers:\n",
    "for col in categorical_headers:\n",
    "    encoders[col] = LabelEncoder()\n",
    "    features[col] = encoders[col].fit_transform(features[col])"
   ]
  },
  {
   "cell_type": "code",
   "execution_count": 178,
   "metadata": {},
   "outputs": [],
   "source": [
    "# stratified split 80-20:\n",
    "X_train, X_test, y_train, y_test = train_test_split(features, target, test_size=0.5, random_state=89, stratify=target)"
   ]
  },
  {
   "cell_type": "markdown",
   "metadata": {},
   "source": [
    "# Modeling"
   ]
  },
  {
   "cell_type": "code",
   "execution_count": 179,
   "metadata": {},
   "outputs": [],
   "source": [
    "# split the feature dataframe into categorical_features and numerical_features:\n",
    "categorical_features_train = X_train[categorical_headers]\n",
    "crossed_features_train = X_train[cross_col_df_names]\n",
    "numerical_features_train = X_train[numerical_headers]\n",
    "\n",
    "categorical_features_test = X_test[categorical_headers]\n",
    "crossed_features_test = X_test[cross_col_df_names]\n",
    "numerical_features_test = X_test[numerical_headers]\n",
    "\n",
    "X_crossed = crossed_features_train.to_numpy()\n",
    "X_cat = categorical_features_train.to_numpy()\n",
    "X_num = numerical_features_train.to_numpy()"
   ]
  },
  {
   "cell_type": "code",
   "execution_count": 180,
   "metadata": {},
   "outputs": [
    {
     "name": "stdout",
     "output_type": "stream",
     "text": [
      "Epoch 1/25\n"
     ]
    },
    {
     "name": "stderr",
     "output_type": "stream",
     "text": [
      "2022-11-20 21:28:07.737715: I tensorflow/core/grappler/optimizers/custom_graph_optimizer_registry.cc:113] Plugin optimizer for device_type GPU is enabled.\n"
     ]
    },
    {
     "name": "stdout",
     "output_type": "stream",
     "text": [
      "70/70 [==============================] - ETA: 0s - loss: 1386.7716"
     ]
    },
    {
     "name": "stderr",
     "output_type": "stream",
     "text": [
      "2022-11-20 21:28:16.268528: I tensorflow/core/grappler/optimizers/custom_graph_optimizer_registry.cc:113] Plugin optimizer for device_type GPU is enabled.\n"
     ]
    },
    {
     "name": "stdout",
     "output_type": "stream",
     "text": [
      "70/70 [==============================] - 11s 104ms/step - loss: 1386.7716 - val_loss: 27.6563\n",
      "Epoch 2/25\n",
      "70/70 [==============================] - 2s 33ms/step - loss: 77.6635 - val_loss: 47.0257\n",
      "Epoch 3/25\n",
      "70/70 [==============================] - 2s 28ms/step - loss: 55.7458 - val_loss: 84.6927\n",
      "Epoch 4/25\n",
      "70/70 [==============================] - 2s 27ms/step - loss: 51.8708 - val_loss: 7.9446\n",
      "Epoch 5/25\n",
      "70/70 [==============================] - 2s 26ms/step - loss: 62.9927 - val_loss: 9.7334\n",
      "Epoch 6/25\n",
      "70/70 [==============================] - 2s 26ms/step - loss: 43.5996 - val_loss: 63.7487\n",
      "Epoch 7/25\n",
      "70/70 [==============================] - 2s 24ms/step - loss: 47.7891 - val_loss: 15.1221\n",
      "Epoch 8/25\n",
      "70/70 [==============================] - 2s 22ms/step - loss: 41.7122 - val_loss: 80.9141\n",
      "Epoch 9/25\n",
      "70/70 [==============================] - 2s 23ms/step - loss: 51.6433 - val_loss: 56.6369\n",
      "Epoch 10/25\n",
      "70/70 [==============================] - 2s 25ms/step - loss: 51.9844 - val_loss: 5.5981\n",
      "Epoch 11/25\n",
      "70/70 [==============================] - 2s 25ms/step - loss: 43.8145 - val_loss: 54.1080\n",
      "Epoch 12/25\n",
      "70/70 [==============================] - 2s 24ms/step - loss: 73.0110 - val_loss: 94.3262\n",
      "Epoch 13/25\n",
      "70/70 [==============================] - 2s 24ms/step - loss: 65.1220 - val_loss: 48.6304\n",
      "Epoch 14/25\n",
      "70/70 [==============================] - 2s 23ms/step - loss: 34.4882 - val_loss: 21.4338\n",
      "Epoch 15/25\n",
      "70/70 [==============================] - 2s 23ms/step - loss: 28.8650 - val_loss: 31.4622\n",
      "Epoch 16/25\n",
      "70/70 [==============================] - 2s 24ms/step - loss: 47.1731 - val_loss: 12.5144\n",
      "Epoch 17/25\n",
      "70/70 [==============================] - 2s 25ms/step - loss: 37.9597 - val_loss: 63.5215\n",
      "Epoch 18/25\n",
      "70/70 [==============================] - 2s 23ms/step - loss: 45.4573 - val_loss: 11.2374\n",
      "Epoch 19/25\n",
      "70/70 [==============================] - 2s 24ms/step - loss: 30.3239 - val_loss: 35.6985\n",
      "Epoch 20/25\n",
      "70/70 [==============================] - 2s 24ms/step - loss: 28.5997 - val_loss: 13.4511\n",
      "Epoch 21/25\n",
      "70/70 [==============================] - 2s 22ms/step - loss: 33.1419 - val_loss: 15.6674\n",
      "Epoch 22/25\n",
      "70/70 [==============================] - 2s 24ms/step - loss: 26.1064 - val_loss: 28.5382\n",
      "Epoch 23/25\n",
      "70/70 [==============================] - 2s 23ms/step - loss: 38.6536 - val_loss: 33.4904\n",
      "Epoch 24/25\n",
      "70/70 [==============================] - 2s 22ms/step - loss: 37.8691 - val_loss: 9.4269\n",
      "Epoch 25/25\n",
      "70/70 [==============================] - 2s 25ms/step - loss: 22.2757 - val_loss: 22.1261\n",
      "CPU times: user 52.7 s, sys: 25 s, total: 1min 17s\n",
      "Wall time: 51.9 s\n"
     ]
    }
   ],
   "source": [
    "%%time\n",
    "# Keras input:\n",
    "from tensorflow.keras.layers import Input, Dense, concatenate, Embedding\n",
    "from tensorflow.keras.models import Model\n",
    "input_crossed = Input(shape=(crossed_features_train.shape[1],), \n",
    "                     dtype='int64', \n",
    "                     name='wide_inputs')\n",
    "\n",
    "crossed_outputs = []\n",
    "for idx,col in enumerate(cross_col_df_names):\n",
    "\n",
    "    N = len(encoders[col].classes_)\n",
    "\n",
    "    N_reduced = int(np.sqrt(N))\n",
    "\n",
    "    x = tf.gather(input_crossed, idx, axis=1)\n",
    "\n",
    "    x = Embedding(input_dim=N, output_dim=N_reduced,\n",
    "     input_length=1, name=col+\"_embed\")(x)\n",
    "\n",
    "    crossed_outputs.append(x)\n",
    "wide_branch = concatenate(crossed_outputs, name='wide_concat')\n",
    "all_deep_branch_outputs = []\n",
    "# CATEGORICAL DATA INPUT\n",
    "input_cat = Input(shape=(X_cat.shape[1],), dtype='int64', name='categorical')\n",
    "for idx,col in enumerate(categorical_headers):\n",
    "\n",
    "    # track what the maximum integer value will be for this variable\n",
    "    # which is the same as the number of categories\n",
    "    N = features[col].max()+1\n",
    "    N_reduced = int(np.sqrt(N))\n",
    "\n",
    "    # this line of code does this: input_branch[:,idx]\n",
    "    x = tf.gather(input_cat, idx, axis=1)\n",
    "\n",
    "    # now use an embedding to deal with integers as if they were one hot encoded\n",
    "    x = Embedding(input_dim=N,\n",
    "                  output_dim=N_reduced,\n",
    "                  input_length=1, name=col+'_embed')(x)\n",
    "\n",
    "    # save these outputs to concatenate later\n",
    "    all_deep_branch_outputs.append(x)\n",
    "\n",
    "# NUMERIC DATA INPUT\n",
    "# create dense input branch for numeric\n",
    "input_num = Input(shape=(X_num.shape[1],), name='numeric')\n",
    "x_dense = Dense(units=20, activation='relu',name='num_1')(input_num)\n",
    "\n",
    "all_deep_branch_outputs.append(x_dense)\n",
    "\n",
    "\n",
    "# merge the deep branches together\n",
    "deep_branch = concatenate(all_deep_branch_outputs,name='concat_embeds')\n",
    "deep_branch = Dense(units=20,activation='relu', name='deep1')(deep_branch)\n",
    "deep_branch = Dense(units=10,activation='relu', name='deep2')(deep_branch)\n",
    "deep_branch = Dense(units=10,activation='relu', name='deep3')(deep_branch)\n",
    "\n",
    "# merge the deep and wide branch\n",
    "final_branch = concatenate([wide_branch, deep_branch],\n",
    "                           name='concat_deep_wide')\n",
    "final_branch = Dense(units=1,activation='sigmoid', name='combined')(final_branch)\n",
    "\n",
    "model1 = Model(inputs=[input_crossed,input_cat,input_num],outputs=final_branch)\n",
    "\n",
    "class_weight = {0: 1,\n",
    "                1: 30}\n",
    "\n",
    "model1.compile(optimizer='adam',\n",
    "              loss='binary_crossentropy')\n",
    "\n",
    "# lets also add the history variable to see how we are doing\n",
    "# and lets add a validation set to keep track of our progress\n",
    "history1 = model1.fit([X_crossed,X_cat,X_num],\n",
    "                    y_train,\n",
    "                    class_weight=class_weight,\n",
    "                    validation_data=([crossed_features_test.to_numpy(), categorical_features_test.to_numpy(), numerical_features_test.to_numpy()], y_test),\n",
    "                    epochs=25,\n",
    "                    batch_size=512,\n",
    "                    verbose=1)"
   ]
  },
  {
   "cell_type": "code",
   "execution_count": 181,
   "metadata": {},
   "outputs": [
    {
     "name": "stderr",
     "output_type": "stream",
     "text": [
      "2022-11-20 21:28:59.015641: I tensorflow/core/grappler/optimizers/custom_graph_optimizer_registry.cc:113] Plugin optimizer for device_type GPU is enabled.\n"
     ]
    },
    {
     "name": "stdout",
     "output_type": "stream",
     "text": [
      "1108/1108 [==============================] - 5s 4ms/step\n",
      "False omission rate:  0.06156635869095933\n"
     ]
    }
   ],
   "source": [
    "# Calculate the false omission rate:\n",
    "from sklearn.metrics import confusion_matrix\n",
    "y_pred = model1.predict([crossed_features_test.to_numpy(), categorical_features_test.to_numpy(), numerical_features_test.to_numpy()])\n",
    "y_pred = np.where(y_pred > 0.5, 1, 0)\n",
    "\n",
    "cm = confusion_matrix(y_test, y_pred)\n",
    "tn = cm[0][0]\n",
    "fn = cm[1][0]\n",
    "print('False omission rate: ', fn/(tn+fn))"
   ]
  },
  {
   "cell_type": "code",
   "execution_count": 182,
   "metadata": {},
   "outputs": [
    {
     "data": {
      "text/plain": "<matplotlib.legend.Legend at 0x2c1fcc970>"
     },
     "execution_count": 182,
     "metadata": {},
     "output_type": "execute_result"
    },
    {
     "data": {
      "text/plain": "<Figure size 640x480 with 1 Axes>",
      "image/png": "[encoded data removed]"
     },
     "metadata": {},
     "output_type": "display_data"
    }
   ],
   "source": [
    "# plot history:\n",
    "plt.plot(history1.history['loss'], label='train')\n",
    "plt.plot(history1.history['val_loss'], label='test')\n",
    "plt.legend()"
   ]
  },
  {
   "cell_type": "markdown",
   "source": [
    "This graph shows the train / test loss of the network (y-axis) as the number of epochs increase (x-axis). As this graph indicates, the network loss was initially high and had high variance but, as the number of epochs increased, the loss converged at 2 epochs.\n"
   ],
   "metadata": {
    "collapsed": false
   }
  },
  {
   "cell_type": "markdown",
   "metadata": {},
   "source": [
    "### Model 2"
   ]
  },
  {
   "cell_type": "markdown",
   "source": [
    "For this model we added 2 more layer and more neurons to the initial layers in the deep network to see if we could achieve better generalization using a deeper model."
   ],
   "metadata": {
    "collapsed": false
   }
  },
  {
   "cell_type": "code",
   "execution_count": 183,
   "metadata": {},
   "outputs": [
    {
     "name": "stdout",
     "output_type": "stream",
     "text": [
      "Epoch 1/5\n"
     ]
    },
    {
     "name": "stderr",
     "output_type": "stream",
     "text": [
      "2022-11-20 21:29:04.918779: I tensorflow/core/grappler/optimizers/custom_graph_optimizer_registry.cc:113] Plugin optimizer for device_type GPU is enabled.\n"
     ]
    },
    {
     "name": "stdout",
     "output_type": "stream",
     "text": [
      "1108/1108 [==============================] - ETA: 0s - loss: 39.6485"
     ]
    },
    {
     "name": "stderr",
     "output_type": "stream",
     "text": [
      "2022-11-20 21:29:34.993165: I tensorflow/core/grappler/optimizers/custom_graph_optimizer_registry.cc:113] Plugin optimizer for device_type GPU is enabled.\n"
     ]
    },
    {
     "name": "stdout",
     "output_type": "stream",
     "text": [
      "1108/1108 [==============================] - 37s 30ms/step - loss: 39.6485 - val_loss: 1.0563\n",
      "Epoch 2/5\n",
      "1108/1108 [==============================] - 27s 24ms/step - loss: 1.7751 - val_loss: 1.0814\n",
      "Epoch 3/5\n",
      "1108/1108 [==============================] - 26s 23ms/step - loss: 1.7673 - val_loss: 1.0463\n",
      "Epoch 4/5\n",
      "1108/1108 [==============================] - 25s 23ms/step - loss: 1.7636 - val_loss: 1.0537\n",
      "Epoch 5/5\n",
      "1108/1108 [==============================] - 26s 23ms/step - loss: 1.7619 - val_loss: 1.0912\n",
      "CPU times: user 2min 30s, sys: 1min 16s, total: 3min 46s\n",
      "Wall time: 2min 21s\n"
     ]
    }
   ],
   "source": [
    "%%time\n",
    "# Keras input:\n",
    "from tensorflow.keras.layers import Input, Dense, concatenate, Embedding\n",
    "from tensorflow.keras.models import Model\n",
    "input_crossed = Input(shape=(crossed_features_train.shape[1],), \n",
    "                     dtype='int64', \n",
    "                     name='wide_inputs')\n",
    "\n",
    "crossed_outputs = []\n",
    "for idx,col in enumerate(cross_col_df_names):\n",
    "\n",
    "    N = len(encoders[col].classes_)\n",
    "\n",
    "    N_reduced = int(np.sqrt(N))\n",
    "\n",
    "    x = tf.gather(input_crossed, idx, axis=1)\n",
    "\n",
    "    x = Embedding(input_dim=N, output_dim=N_reduced,\n",
    "     input_length=1, name=col+\"_embed\")(x)\n",
    "\n",
    "    crossed_outputs.append(x)\n",
    "wide_branch = concatenate(crossed_outputs, name='wide_concat')\n",
    "all_deep_branch_outputs = []\n",
    "# CATEGORICAL DATA INPUT\n",
    "input_cat = Input(shape=(X_cat.shape[1],), dtype='int64', name='categorical')\n",
    "for idx,col in enumerate(categorical_headers):\n",
    "\n",
    "    # track what the maximum integer value will be for this variable\n",
    "    # which is the same as the number of categories\n",
    "    N = features[col].max()+1\n",
    "    N_reduced = int(np.sqrt(N))\n",
    "\n",
    "    # this line of code does this: input_branch[:,idx]\n",
    "    x = tf.gather(input_cat, idx, axis=1)\n",
    "\n",
    "    # now use an embedding to deal with integers as if they were one hot encoded\n",
    "    x = Embedding(input_dim=N,\n",
    "                  output_dim=N_reduced,\n",
    "                  input_length=1, name=col+'_embed')(x)\n",
    "\n",
    "    # save these outputs to concatenate later\n",
    "    all_deep_branch_outputs.append(x)\n",
    "\n",
    "# NUMERIC DATA INPUT\n",
    "# create dense input branch for numeric\n",
    "input_num = Input(shape=(X_num.shape[1],), name='numeric')\n",
    "x_dense = Dense(units=20, activation='relu',name='num_1')(input_num)\n",
    "\n",
    "all_deep_branch_outputs.append(x_dense)\n",
    "\n",
    "\n",
    "# merge the deep branches together\n",
    "deep_branch = concatenate(all_deep_branch_outputs,name='concat_embeds')\n",
    "deep_branch = Dense(units=256,activation='relu', name='deep1')(deep_branch)\n",
    "deep_branch = Dense(units=128,activation='relu', name='deep2')(deep_branch)\n",
    "deep_branch = Dense(units=64,activation='relu', name='deep3')(deep_branch)\n",
    "deep_branch = Dense(units=32,activation='relu', name='deep4')(deep_branch)\n",
    "deep_branch = Dense(units=10,activation='relu', name='deep5')(deep_branch)\n",
    "\n",
    "# merge the deep and wide branch\n",
    "final_branch = concatenate([wide_branch, deep_branch],\n",
    "                           name='concat_deep_wide')\n",
    "final_branch = Dense(units=1,activation='sigmoid', name='combined')(final_branch)\n",
    "\n",
    "model2 = Model(inputs=[input_crossed,input_cat,input_num],outputs=final_branch)\n",
    "\n",
    "class_weight = {0: 1,\n",
    "                1: 25}\n",
    "\n",
    "model2.compile(optimizer='adam', loss='binary_crossentropy')\n",
    "\n",
    "# lets also add the history variable to see how we are doing\n",
    "# and lets add a validation set to keep track of our progress\n",
    "history2 = model2.fit([X_crossed,X_cat,X_num],\n",
    "                    y_train,\n",
    "                    class_weight=class_weight,\n",
    "                    validation_data=([crossed_features_test.to_numpy(), categorical_features_test.to_numpy(), numerical_features_test.to_numpy()], y_test),\n",
    "                    epochs=5,\n",
    "                    batch_size=32,\n",
    "                    verbose=1)"
   ]
  },
  {
   "cell_type": "code",
   "execution_count": 184,
   "metadata": {},
   "outputs": [
    {
     "name": "stderr",
     "output_type": "stream",
     "text": [
      "2022-11-20 21:31:25.221978: I tensorflow/core/grappler/optimizers/custom_graph_optimizer_registry.cc:113] Plugin optimizer for device_type GPU is enabled.\n"
     ]
    },
    {
     "name": "stdout",
     "output_type": "stream",
     "text": [
      "1108/1108 [==============================] - 5s 4ms/step\n",
      "False omission rate:  0.04303086997193639\n"
     ]
    }
   ],
   "source": [
    "# Calculate the false omission rate:\n",
    "from sklearn.metrics import confusion_matrix\n",
    "y_pred = model2.predict([crossed_features_test.to_numpy(), categorical_features_test.to_numpy(), numerical_features_test.to_numpy()])\n",
    "y_pred = np.where(y_pred > 0.5, 1, 0)\n",
    "\n",
    "cm = confusion_matrix(y_test, y_pred)\n",
    "tn = cm[0][0]\n",
    "fn = cm[1][0]\n",
    "print('False omission rate: ', fn/(tn+fn))"
   ]
  },
  {
   "cell_type": "code",
   "execution_count": 185,
   "metadata": {},
   "outputs": [
    {
     "data": {
      "text/plain": "<matplotlib.legend.Legend at 0x374b53b50>"
     },
     "execution_count": 185,
     "metadata": {},
     "output_type": "execute_result"
    },
    {
     "data": {
      "text/plain": "<Figure size 640x480 with 1 Axes>",
      "image/png": "[encoded data removed]"
     },
     "metadata": {},
     "output_type": "display_data"
    }
   ],
   "source": [
    "# plot history:\n",
    "plt.plot(history2.history['loss'], label='train')\n",
    "plt.plot(history2.history['val_loss'], label='test')\n",
    "plt.legend()"
   ]
  },
  {
   "cell_type": "markdown",
   "source": [
    "This graph shows the loss for the second model. As is seen, this model converges very quickly. The false emission rate of the model is 4.3% which is lower than the 6% of the earlier model. This value meets our set goal of a false omission rate of less than 5%."
   ],
   "metadata": {
    "collapsed": false
   }
  },
  {
   "cell_type": "markdown",
   "metadata": {},
   "source": [
    "### Model 3"
   ]
  },
  {
   "cell_type": "markdown",
   "source": [
    "For the 3rd Model, we used the same wide and deep network structure as model 2 in terms of the fully connected layers but added a Dropout Layer followed by a Batch normalization layer after each Dense Layer so as to prevent overfitting in our deep network and batch norm theoretically makes the contribution from each layer, and thus the network more stable and helps with convergence."
   ],
   "metadata": {
    "collapsed": false
   }
  },
  {
   "cell_type": "code",
   "execution_count": 225,
   "metadata": {},
   "outputs": [
    {
     "name": "stdout",
     "output_type": "stream",
     "text": [
      "Epoch 1/4\n"
     ]
    },
    {
     "name": "stderr",
     "output_type": "stream",
     "text": [
      "2022-11-20 22:24:14.305559: I tensorflow/core/grappler/optimizers/custom_graph_optimizer_registry.cc:113] Plugin optimizer for device_type GPU is enabled.\n"
     ]
    },
    {
     "name": "stdout",
     "output_type": "stream",
     "text": [
      "139/139 [==============================] - ETA: 0s - loss: 1.8243"
     ]
    },
    {
     "name": "stderr",
     "output_type": "stream",
     "text": [
      "2022-11-20 22:24:29.886207: I tensorflow/core/grappler/optimizers/custom_graph_optimizer_registry.cc:113] Plugin optimizer for device_type GPU is enabled.\n"
     ]
    },
    {
     "name": "stdout",
     "output_type": "stream",
     "text": [
      "139/139 [==============================] - 20s 98ms/step - loss: 1.8243 - val_loss: 0.9260\n",
      "Epoch 2/4\n",
      "139/139 [==============================] - 5s 39ms/step - loss: 1.7801 - val_loss: 1.1161\n",
      "Epoch 3/4\n",
      "139/139 [==============================] - 5s 38ms/step - loss: 1.7630 - val_loss: 1.1056\n",
      "Epoch 4/4\n",
      "139/139 [==============================] - 5s 36ms/step - loss: 1.7541 - val_loss: 1.1185\n",
      "CPU times: user 35.9 s, sys: 11.3 s, total: 47.2 s\n",
      "Wall time: 36.1 s\n"
     ]
    }
   ],
   "source": [
    "%%time\n",
    "# Keras input:\n",
    "from tensorflow.keras.layers import Input, Dense, concatenate, Embedding, Dropout, BatchNormalization\n",
    "from tensorflow.keras.models import Model\n",
    "input_crossed = Input(shape=(crossed_features_train.shape[1],), \n",
    "                     dtype='int64', \n",
    "                     name='wide_inputs')\n",
    "\n",
    "crossed_outputs = []\n",
    "for idx,col in enumerate(cross_col_df_names):\n",
    "\n",
    "    N = len(encoders[col].classes_)\n",
    "\n",
    "    N_reduced = int(np.sqrt(N))\n",
    "\n",
    "    x = tf.gather(input_crossed, idx, axis=1)\n",
    "\n",
    "    x = Embedding(input_dim=N, output_dim=N_reduced,\n",
    "     input_length=1, name=col+\"_embed\")(x)\n",
    "\n",
    "    crossed_outputs.append(x)\n",
    "wide_branch = concatenate(crossed_outputs, name='wide_concat')\n",
    "all_deep_branch_outputs = []\n",
    "# CATEGORICAL DATA INPUT\n",
    "input_cat = Input(shape=(X_cat.shape[1],), dtype='int64', name='categorical')\n",
    "for idx,col in enumerate(categorical_headers):\n",
    "\n",
    "    # track what the maximum integer value will be for this variable\n",
    "    # which is the same as the number of categories\n",
    "    N = features[col].max()+1\n",
    "    N_reduced = int(np.sqrt(N))\n",
    "\n",
    "    # this line of code does this: input_branch[:,idx]\n",
    "    x = tf.gather(input_cat, idx, axis=1)\n",
    "\n",
    "    # now use an embedding to deal with integers as if they were one hot encoded\n",
    "    x = Embedding(input_dim=N,\n",
    "                  output_dim=N_reduced,\n",
    "                  input_length=1, name=col+'_embed')(x)\n",
    "\n",
    "    # save these outputs to concatenate later\n",
    "    all_deep_branch_outputs.append(x)\n",
    "\n",
    "# NUMERIC DATA INPUT\n",
    "# create dense input branch for numeric\n",
    "input_num = Input(shape=(X_num.shape[1],), name='numeric')\n",
    "x_dense = Dense(units=20, activation='relu',name='num_1')(input_num)\n",
    "\n",
    "all_deep_branch_outputs.append(x_dense)\n",
    "\n",
    "\n",
    "# merge the deep branches together\n",
    "deep_branch = concatenate(all_deep_branch_outputs,name='concat_embeds')\n",
    "deep_branch = Dense(units=256,activation='relu', name='deep1')(deep_branch)\n",
    "deep_branch = Dropout(0.2)(deep_branch)\n",
    "deep_branch = BatchNormalization()(deep_branch)\n",
    "deep_branch = Dense(units=128,activation='relu', name='deep2')(deep_branch)\n",
    "deep_branch = Dropout(0.2)(deep_branch)\n",
    "deep_branch = BatchNormalization()(deep_branch)\n",
    "deep_branch = Dense(units=64,activation='relu', name='deep3')(deep_branch)\n",
    "deep_branch = Dropout(0.2)(deep_branch)\n",
    "deep_branch = BatchNormalization()(deep_branch)\n",
    "deep_branch = Dense(units=32,activation='relu', name='deep4')(deep_branch)\n",
    "deep_branch = Dropout(0.2)(deep_branch)\n",
    "deep_branch = BatchNormalization()(deep_branch)\n",
    "deep_branch = Dense(units=10,activation='relu', name='deep5')(deep_branch)\n",
    "\n",
    "# merge the deep and wide branch\n",
    "final_branch = concatenate([wide_branch, deep_branch],\n",
    "                           name='concat_deep_wide')\n",
    "final_branch = Dense(units=1,activation='sigmoid', name='combined')(final_branch)\n",
    "\n",
    "model3 = Model(inputs=[input_crossed,input_cat,input_num],outputs=final_branch)\n",
    "\n",
    "class_weight = {0: 1,\n",
    "                1: 25}\n",
    "\n",
    "model3.compile(optimizer='adam', loss='binary_crossentropy')\n",
    "\n",
    "\n",
    "history3 = model3.fit([X_crossed,X_cat,X_num],\n",
    "                    y_train,\n",
    "                    class_weight=class_weight,\n",
    "                    validation_data=([crossed_features_test.to_numpy(), categorical_features_test.to_numpy(), numerical_features_test.to_numpy()], y_test),\n",
    "                    epochs=4,\n",
    "                    batch_size=256,\n",
    "                    verbose=1)"
   ]
  },
  {
   "cell_type": "code",
   "execution_count": 226,
   "metadata": {},
   "outputs": [
    {
     "name": "stderr",
     "output_type": "stream",
     "text": [
      "2022-11-20 22:24:48.199374: I tensorflow/core/grappler/optimizers/custom_graph_optimizer_registry.cc:113] Plugin optimizer for device_type GPU is enabled.\n"
     ]
    },
    {
     "name": "stdout",
     "output_type": "stream",
     "text": [
      "1108/1108 [==============================] - 7s 6ms/step\n",
      "False omission rate:  0.03275529865125241\n"
     ]
    }
   ],
   "source": [
    "# Calculate the false omission rate:\n",
    "from sklearn.metrics import confusion_matrix\n",
    "y_pred = model3.predict([crossed_features_test.to_numpy(), categorical_features_test.to_numpy(), numerical_features_test.to_numpy()])\n",
    "y_pred = np.where(y_pred > 0.5, 1, 0)\n",
    "\n",
    "cm = confusion_matrix(y_test, y_pred)\n",
    "tn = cm[0][0]\n",
    "fn = cm[1][0]\n",
    "print('False omission rate: ', fn/(tn+fn))"
   ]
  },
  {
   "cell_type": "code",
   "execution_count": 227,
   "outputs": [
    {
     "data": {
      "text/plain": "<matplotlib.legend.Legend at 0x33f622b60>"
     },
     "execution_count": 227,
     "metadata": {},
     "output_type": "execute_result"
    },
    {
     "data": {
      "text/plain": "<Figure size 640x480 with 1 Axes>",
      "image/png": "[encoded data removed]"
     },
     "metadata": {},
     "output_type": "display_data"
    }
   ],
   "source": [
    "# plot history:\n",
    "plt.plot(history3.history['loss'], label='train')\n",
    "plt.plot(history3.history['val_loss'], label='test')\n",
    "plt.legend()"
   ],
   "metadata": {
    "collapsed": false
   }
  },
  {
   "cell_type": "markdown",
   "source": [
    "This convergence graph is actually noticeably different from the others. and we suspect that this is primarily due to the use of Batch normalization and/or Droput, which leads to much greater stability and faster convergence of the model. We do get a noticable improvement in the False Omission rate, as it is 3.3% for this model, meaning we will make a profit equal to 1/3 of the total value of the loans we give out (with the many assumptions we highlighted above)."
   ],
   "metadata": {
    "collapsed": false
   }
  },
  {
   "cell_type": "markdown",
   "metadata": {},
   "source": [
    "### Basic MLP"
   ]
  },
  {
   "cell_type": "code",
   "execution_count": 188,
   "metadata": {},
   "outputs": [
    {
     "name": "stdout",
     "output_type": "stream",
     "text": [
      "Epoch 1/5\n"
     ]
    },
    {
     "name": "stderr",
     "output_type": "stream",
     "text": [
      "2022-11-20 21:32:16.832135: I tensorflow/core/grappler/optimizers/custom_graph_optimizer_registry.cc:113] Plugin optimizer for device_type GPU is enabled.\n"
     ]
    },
    {
     "name": "stdout",
     "output_type": "stream",
     "text": [
      "70/70 [==============================] - ETA: 0s - loss: 4313.9712"
     ]
    },
    {
     "name": "stderr",
     "output_type": "stream",
     "text": [
      "2022-11-20 21:32:21.493382: I tensorflow/core/grappler/optimizers/custom_graph_optimizer_registry.cc:113] Plugin optimizer for device_type GPU is enabled.\n"
     ]
    },
    {
     "name": "stdout",
     "output_type": "stream",
     "text": [
      "70/70 [==============================] - 6s 59ms/step - loss: 4313.9712 - val_loss: 121.0014\n",
      "Epoch 2/5\n",
      "70/70 [==============================] - 1s 20ms/step - loss: 238.9696 - val_loss: 95.1480\n",
      "Epoch 3/5\n",
      "70/70 [==============================] - 1s 20ms/step - loss: 151.3889 - val_loss: 40.6196\n",
      "Epoch 4/5\n",
      "70/70 [==============================] - 1s 21ms/step - loss: 93.7850 - val_loss: 55.0413\n",
      "Epoch 5/5\n",
      "70/70 [==============================] - 1s 20ms/step - loss: 80.2867 - val_loss: 120.2800\n",
      "CPU times: user 12.3 s, sys: 4.2 s, total: 16.5 s\n",
      "Wall time: 12 s\n"
     ]
    }
   ],
   "source": [
    "%%time\n",
    "# Keras input:\n",
    "from tensorflow.keras.layers import Input, Dense, concatenate, Embedding\n",
    "from tensorflow.keras.models import Model\n",
    "all_deep_branch_outputs = []\n",
    "# CATEGORICAL DATA INPUT\n",
    "input_cat = Input(shape=(X_cat.shape[1],), dtype='int64', name='categorical')\n",
    "for idx,col in enumerate(categorical_headers):\n",
    "\n",
    "    # track what the maximum integer value will be for this variable\n",
    "    # which is the same as the number of categories\n",
    "    N = features[col].max()+1\n",
    "    N_reduced = int(np.sqrt(N))\n",
    "\n",
    "    # this line of code does this: input_branch[:,idx]\n",
    "    x = tf.gather(input_cat, idx, axis=1)\n",
    "\n",
    "    # now use an embedding to deal with integers as if they were one hot encoded\n",
    "    x = Embedding(input_dim=N,\n",
    "                  output_dim=N_reduced,\n",
    "                  input_length=1, name=col+'_embed')(x)\n",
    "\n",
    "    # save these outputs to concatenate later\n",
    "    all_deep_branch_outputs.append(x)\n",
    "\n",
    "# NUMERIC DATA INPUT\n",
    "# create dense input branch for numeric\n",
    "input_num = Input(shape=(X_num.shape[1],), name='numeric')\n",
    "x_dense = Dense(units=20, activation='relu',name='num_1')(input_num)\n",
    "\n",
    "all_deep_branch_outputs.append(x_dense)\n",
    "\n",
    "\n",
    "# merge the deep branches together\n",
    "deep_branch = concatenate(all_deep_branch_outputs,name='concat_embeds')\n",
    "deep_branch = Dense(units=20,activation='relu', name='deep1')(deep_branch)\n",
    "deep_branch = Dense(units=10,activation='relu', name='deep2')(deep_branch)\n",
    "deep_branch = Dense(units=10,activation='relu', name='deep3')(deep_branch)\n",
    "\n",
    "# merge the deep and wide branch\n",
    "final_branch = Dense(units=1,activation='sigmoid', name='combined')(deep_branch)\n",
    "\n",
    "model4 = Model(inputs=[input_cat,input_num],outputs=final_branch)\n",
    "\n",
    "class_weight = {0: 1,\n",
    "                1: 30}\n",
    "\n",
    "model4.compile(optimizer='adam',\n",
    "              loss='binary_crossentropy')\n",
    "\n",
    "# lets also add the history variable to see how we are doing\n",
    "# and lets add a validation set to keep track of our progress\n",
    "history4 = model4.fit([X_cat,X_num],\n",
    "                    y_train,\n",
    "                    class_weight=class_weight,\n",
    "                    validation_data=([categorical_features_test.to_numpy(), numerical_features_test.to_numpy()], y_test),\n",
    "                    epochs=5,\n",
    "                    batch_size=512,\n",
    "                    verbose=1)"
   ]
  },
  {
   "cell_type": "code",
   "execution_count": 189,
   "metadata": {},
   "outputs": [
    {
     "name": "stdout",
     "output_type": "stream",
     "text": [
      "   1/1108 [..............................] - ETA: 3:46"
     ]
    },
    {
     "name": "stderr",
     "output_type": "stream",
     "text": [
      "2022-11-20 21:32:28.263419: I tensorflow/core/grappler/optimizers/custom_graph_optimizer_registry.cc:113] Plugin optimizer for device_type GPU is enabled.\n"
     ]
    },
    {
     "name": "stdout",
     "output_type": "stream",
     "text": [
      "1108/1108 [==============================] - 4s 3ms/step\n",
      "False omission rate:  0.05627468187801667\n"
     ]
    }
   ],
   "source": [
    "# Calculate the false omission rate:\n",
    "from sklearn.metrics import confusion_matrix\n",
    "y_pred = model4.predict([categorical_features_test.to_numpy(), numerical_features_test.to_numpy()])\n",
    "y_pred = np.where(y_pred > 0.5, 1, 0)\n",
    "\n",
    "cm = confusion_matrix(y_test, y_pred)\n",
    "tn = cm[0][0]\n",
    "fn = cm[1][0]\n",
    "print('False omission rate: ', fn/(tn+fn))"
   ]
  },
  {
   "cell_type": "code",
   "execution_count": 229,
   "outputs": [
    {
     "data": {
      "text/plain": "<matplotlib.legend.Legend at 0x374929ed0>"
     },
     "execution_count": 229,
     "metadata": {},
     "output_type": "execute_result"
    },
    {
     "data": {
      "text/plain": "<Figure size 640x480 with 1 Axes>",
      "image/png": "[encoded data removed]"
     },
     "metadata": {},
     "output_type": "display_data"
    }
   ],
   "source": [
    "# plot history:\n",
    "plt.plot(history4.history['loss'], label='train')\n",
    "plt.plot(history4.history['val_loss'], label='test')\n",
    "plt.legend()"
   ],
   "metadata": {
    "collapsed": false
   }
  },
  {
   "cell_type": "markdown",
   "source": [
    "This looks similar to the first 2 plots for train/test loss, with the training loss starting really high and converging quickly."
   ],
   "metadata": {
    "collapsed": false
   }
  },
  {
   "cell_type": "markdown",
   "source": [
    "In order for us to actually compare all these models let's plot the ROC Curves to guve a good indication of general classification performance"
   ],
   "metadata": {
    "collapsed": false
   }
  },
  {
   "cell_type": "code",
   "execution_count": 233,
   "metadata": {},
   "outputs": [
    {
     "name": "stdout",
     "output_type": "stream",
     "text": [
      "1108/1108 [==============================] - 4s 4ms/step\n",
      "1108/1108 [==============================] - 4s 4ms/step\n",
      "1108/1108 [==============================] - 5s 5ms/step\n",
      "1108/1108 [==============================] - 3s 3ms/step\n"
     ]
    },
    {
     "data": {
      "text/plain": "<matplotlib.legend.Legend at 0x411996320>"
     },
     "execution_count": 233,
     "metadata": {},
     "output_type": "execute_result"
    },
    {
     "data": {
      "text/plain": "<Figure size 640x480 with 1 Axes>",
      "image/png": "[encoded data removed]"
     },
     "metadata": {},
     "output_type": "display_data"
    }
   ],
   "source": [
    "from sklearn.metrics import roc_curve, auc\n",
    "plt.figure()\n",
    "y_pred = model1.predict([crossed_features_test.to_numpy(), categorical_features_test.to_numpy(), numerical_features_test.to_numpy()])\n",
    "fpr, tpr, thresholds = roc_curve(y_test, y_pred)\n",
    "roc_auc = auc(fpr, tpr)\n",
    "plt.plot(fpr, tpr, color='yellow', label='Model 1 (area = %0.2f)' % roc_auc)\n",
    "y_pred = model2.predict([crossed_features_test.to_numpy(), categorical_features_test.to_numpy(), numerical_features_test.to_numpy()])\n",
    "fpr, tpr, thresholds = roc_curve(y_test, y_pred)\n",
    "roc_auc = auc(fpr, tpr)\n",
    "plt.plot(fpr, tpr, color='blue', label='Model 2 (area = %0.2f)' % roc_auc)\n",
    "y_pred = model3.predict([crossed_features_test.to_numpy(), categorical_features_test.to_numpy(), numerical_features_test.to_numpy()])\n",
    "fpr, tpr, thresholds = roc_curve(y_test, y_pred)\n",
    "roc_auc = auc(fpr, tpr)\n",
    "plt.plot(fpr, tpr, color='black', label='Model 3 (area = %0.2f)' % roc_auc)\n",
    "y_pred = model4.predict([categorical_features_test.to_numpy(), numerical_features_test.to_numpy()])\n",
    "fpr, tpr, thresholds = roc_curve(y_test, y_pred)\n",
    "roc_auc = auc(fpr, tpr)\n",
    "plt.plot(fpr, tpr, color='Brown', label='Model 4 (area = %0.2f)' % roc_auc)\n",
    "plt.ylabel('True Positive Rate')\n",
    "plt.xlabel('False Positive Rate')\n",
    "plt.legend()"
   ]
  },
  {
   "cell_type": "markdown",
   "source": [
    "The ROC curve shows that model 3 is the strongest performer, followed bu model 2 and then Models 1 and 4. It is interesting to note that model 4 actually perfroms slightly better than model1 , partciuarly in the left hand side, at lower threshold values, as it has a higher True Positive rate in these stages. This indicates model1 has slightly better performance in terms of the recall, or finding the higher percentage of defaults. Either way, model 3 is dominant over all the other models based on the ROC Curve, and this includes the MLP/Model 4."
   ],
   "metadata": {
    "collapsed": false
   }
  },
  {
   "cell_type": "code",
   "execution_count": 230,
   "outputs": [
    {
     "name": "stdout",
     "output_type": "stream",
     "text": [
      "1108/1108 [==============================] - 5s 5ms/step\n",
      "1108/1108 [==============================] - 3s 3ms/step\n"
     ]
    }
   ],
   "source": [
    "\n",
    "y_pred_model3 = model3.predict([crossed_features_test.to_numpy(), categorical_features_test.to_numpy(), numerical_features_test.to_numpy()])\n",
    "y_pred_model4 = model4.predict([categorical_features_test.to_numpy(), numerical_features_test.to_numpy()])\n",
    "y_pred_model3 = np.where(y_pred_model3 > 0.5, 1, 0).flatten()\n",
    "y_pred_model4 = np.where(y_pred_model4 > 0.5, 1, 0).flatten()\n",
    "\n",
    "both_correct = sum((y_pred_model3 == y_pred_model4) & (y_pred_model3 == y_test))\n",
    "both_wrong = sum((y_pred_model3 != y_test) & (y_pred_model4 != y_test))\n",
    "model3_correct = sum((y_pred_model3 == y_test) & (y_pred_model4 != y_test))\n",
    "model4_correct = sum((y_pred_model4 == y_test) & (y_pred_model3 != y_test))\n",
    "\n",
    "both_correct, both_wrong, model3_correct, model4_correct\n",
    "# conduct macnemar test:\n",
    "critical_value = (model3_correct - model4_correct - 1)**2 / (model3_correct + model4_correct)\n",
    "# convert chi-squared critical value to p-value\n",
    "from scipy.stats import chi2\n",
    "import math\n",
    "p = 1 - chi2.cdf(math.sqrt(critical_value), df=1)"
   ],
   "metadata": {
    "collapsed": false
   }
  },
  {
   "cell_type": "code",
   "execution_count": 231,
   "outputs": [
    {
     "data": {
      "text/plain": "4.440892098500626e-15"
     },
     "execution_count": 231,
     "metadata": {},
     "output_type": "execute_result"
    }
   ],
   "source": [
    "p"
   ],
   "metadata": {
    "collapsed": false
   }
  },
  {
   "cell_type": "markdown",
   "source": [
    "Because the critical value is effectively 0, we can safely reject the bull hypothesis that the models are the same and safely conclude that there is a statistically significant difference between model 3 (wide/deep network with dropout and batch norm), and  model 4 (MLP Almost Equivalent to the deep part from model 1 in structure)."
   ],
   "metadata": {
    "collapsed": false
   }
  },
  {
   "cell_type": "code",
   "execution_count": 232,
   "outputs": [
    {
     "data": {
      "text/plain": "[<tf.Variable 'Client_Income_Type_embed/embeddings:0' shape=(8, 2) dtype=float32, numpy=\n array([[-0.0188207 ,  0.03263413],\n        [-0.0030476 , -0.0750751 ],\n        [ 0.02260834, -0.00076939],\n        [-0.02073695,  0.04921693],\n        [ 0.04743709,  0.00105935],\n        [-0.0145467 , -0.04946556],\n        [-0.03951142,  0.00310649],\n        [ 0.00578011, -0.00016023]], dtype=float32)>,\n <tf.Variable 'Client_Education_embed/embeddings:0' shape=(5, 2) dtype=float32, numpy=\n array([[-0.05666466,  0.00832839],\n        [ 0.02219583, -0.00284562],\n        [ 0.03943188,  0.01250392],\n        [-0.01611139,  0.04241128],\n        [ 0.06545805,  0.03232935]], dtype=float32)>,\n <tf.Variable 'Client_Marital_Status_embed/embeddings:0' shape=(4, 2) dtype=float32, numpy=\n array([[-0.00376452,  0.05081895],\n        [-0.02550835, -0.05929634],\n        [ 0.06485225, -0.03750882],\n        [-0.03651414,  0.04424994]], dtype=float32)>,\n <tf.Variable 'Loan_Contract_Type_embed/embeddings:0' shape=(2, 1) dtype=float32, numpy=\n array([[-0.03773451],\n        [ 0.03219846]], dtype=float32)>,\n <tf.Variable 'Car_Owned_embed/embeddings:0' shape=(2, 1) dtype=float32, numpy=\n array([[-0.00660396],\n        [ 0.04873957]], dtype=float32)>,\n <tf.Variable 'Bike_Owned_embed/embeddings:0' shape=(2, 1) dtype=float32, numpy=\n array([[-0.0097902 ],\n        [ 0.03561861]], dtype=float32)>,\n <tf.Variable 'Active_Loan_embed/embeddings:0' shape=(2, 1) dtype=float32, numpy=\n array([[-0.01981636],\n        [ 0.03763755]], dtype=float32)>,\n <tf.Variable 'House_Own_embed/embeddings:0' shape=(2, 1) dtype=float32, numpy=\n array([[-0.0153021 ],\n        [ 0.01586808]], dtype=float32)>,\n <tf.Variable 'num_1/kernel:0' shape=(9, 20) dtype=float32, numpy=\n array([[-0.17540847,  0.3633132 ,  0.1421355 , -0.44875544,  0.28127512,\n         -0.09947664, -0.22074127,  0.4121334 ,  0.4411245 ,  0.03273073,\n         -0.30376983, -0.3325408 , -0.31385988,  0.03797698,  0.08587913,\n          0.00882888,  0.01199926, -0.30549997, -0.11796972, -0.01541787],\n        [ 0.08984189, -0.20458353, -0.30979583,  0.45380116, -0.12912636,\n         -0.10982245,  0.19222851,  0.14799759, -0.08390924,  0.23976304,\n          0.16230696,  0.21283662,  0.06443176, -0.32963032,  0.16703853,\n          0.44492286,  0.32098147,  0.16135998,  0.4165256 , -0.43346938],\n        [ 0.37514102,  0.17186265, -0.19630286, -0.45384398,  0.4033472 ,\n         -0.10709143,  0.23305885,  0.33996296,  0.08469439,  0.26419246,\n         -0.07324182, -0.28093022,  0.23205805, -0.07714927,  0.2908867 ,\n         -0.27184987,  0.16045424, -0.2924063 , -0.04693025,  0.08706328],\n        [ 0.27194265, -0.02273976, -0.23693612, -0.28121567,  0.25386065,\n          0.30386782, -0.04317181,  0.1247348 , -0.16154465, -0.21048047,\n          0.29116225,  0.11815917, -0.3139475 , -0.01584985,  0.18668485,\n          0.41900784,  0.43644562,  0.03694307, -0.26239753, -0.1088054 ],\n        [-0.30223802, -0.02437756,  0.14258629, -0.19521779, -0.05965079,\n          0.2249344 ,  0.34866312,  0.38942248, -0.35948548,  0.39285403,\n          0.17434546,  0.44302785,  0.44796893, -0.24606419, -0.19926967,\n          0.26748264,  0.20041284, -0.01469536, -0.2604882 ,  0.25362286],\n        [ 0.3905443 ,  0.11318554, -0.03799004, -0.17699796,  0.04102413,\n         -0.39685857,  0.118105  ,  0.10387583, -0.14219299,  0.31810305,\n         -0.26872593, -0.35707647, -0.3124239 ,  0.43512234,  0.13924925,\n          0.04999387, -0.40305293,  0.23404063, -0.13101414, -0.19404   ],\n        [ 0.18136771, -0.20241123, -0.47606882, -0.0686619 , -0.40114483,\n         -0.08403522,  0.04921836, -0.02579105, -0.2918806 , -0.39321044,\n          0.34059164, -0.29942954, -0.0587833 ,  0.4387626 , -0.05676685,\n         -0.33314976, -0.4089959 ,  0.35847732, -0.28536505, -0.16881053],\n        [ 0.19936587, -0.01585384, -0.46675664,  0.36919564,  0.26953092,\n          0.26687825,  0.3500711 ,  0.36576635,  0.36641154, -0.2931092 ,\n         -0.00701164,  0.2852785 ,  0.323951  , -0.36495683, -0.4034821 ,\n          0.1506095 , -0.11952511, -0.35862634, -0.17820781, -0.45406958],\n        [ 0.13225573, -0.20281188,  0.1388644 ,  0.37085962, -0.18301244,\n         -0.03135425, -0.26911342, -0.05321436,  0.19996631,  0.19269337,\n         -0.04274279, -0.00873494, -0.23538974,  0.13481173,  0.40976518,\n         -0.02800366,  0.01730057,  0.14342764,  0.4207149 , -0.08885287]],\n       dtype=float32)>,\n <tf.Variable 'num_1/bias:0' shape=(20,) dtype=float32, numpy=\n array([-0.0073199 ,  0.05323761, -0.01557652,  0.        ,  0.00920807,\n         0.        , -0.0033171 , -0.03292934,  0.00704222,  0.00058939,\n        -0.00552999,  0.        ,  0.00865562,  0.01841998,  0.00760149,\n         0.        ,  0.05725225,  0.01010791,  0.        , -0.00891208],\n       dtype=float32)>,\n <tf.Variable 'deep1/kernel:0' shape=(31, 256) dtype=float32, numpy=\n array([[-0.05442526,  0.0843459 ,  0.0536183 , ..., -0.12238733,\n          0.07304867, -0.01878382],\n        [ 0.083211  , -0.13343911, -0.04216146, ...,  0.08699126,\n         -0.09661797,  0.08074587],\n        [ 0.11694144, -0.13923047, -0.071432  , ..., -0.12652367,\n          0.00288391, -0.0767803 ],\n        ...,\n        [-0.09372465,  0.07779071,  0.0122529 , ..., -0.06006622,\n         -0.09986564, -0.0893572 ],\n        [ 0.07084197, -0.09796585, -0.13327467, ...,  0.14329274,\n          0.00415096,  0.12635927],\n        [-0.10944259,  0.07789931, -0.09558129, ..., -0.04315596,\n         -0.08830482,  0.10026251]], dtype=float32)>,\n <tf.Variable 'deep1/bias:0' shape=(256,) dtype=float32, numpy=\n array([ 0.00000000e+00,  2.93740928e-02, -9.16904863e-03, -1.47349257e-02,\n         3.31839770e-02, -1.00729587e-02,  0.00000000e+00, -4.75539407e-03,\n         1.88843459e-02, -2.43820040e-03,  0.00000000e+00, -2.47690342e-02,\n         0.00000000e+00, -1.36571256e-02,  3.39509046e-04,  3.02615925e-03,\n        -4.18744795e-03, -6.96107605e-03, -1.01181399e-03,  1.49826775e-03,\n         6.03895774e-03, -3.18357511e-03, -1.52224823e-06,  1.10630074e-03,\n         3.81546305e-03, -6.29187841e-03, -1.29162072e-05, -7.07812654e-03,\n        -1.42446673e-02,  1.09303677e-02,  0.00000000e+00, -1.90426596e-02,\n        -5.81437536e-03,  3.09614261e-04,  9.20185354e-03,  1.79887819e-03,\n         0.00000000e+00, -6.44886307e-03, -1.46844529e-03,  1.14846621e-02,\n        -8.26510368e-04,  0.00000000e+00, -1.53070120e-02,  2.56178109e-03,\n        -1.25944912e-02,  3.63970874e-04,  4.90522105e-03, -1.73190311e-02,\n        -5.13178743e-02, -1.46697857e-03,  3.52986041e-03, -1.45659298e-02,\n        -6.08360860e-03, -7.13259866e-03,  4.34596441e-04,  1.43662039e-02,\n        -5.82755031e-03,  2.28264164e-02,  1.17649166e-02, -8.42207461e-04,\n         0.00000000e+00, -3.84537707e-05,  2.46153027e-03,  4.37518861e-03,\n        -3.87822278e-03, -2.32954233e-04,  1.67227595e-03, -3.59675428e-03,\n         2.91858311e-03, -8.33180733e-03,  5.67944534e-03, -3.36676161e-03,\n         9.24160983e-03, -1.72166433e-02, -1.33634210e-02,  3.53456251e-02,\n         1.46815106e-02, -1.86384867e-07,  7.61738932e-03, -1.60439275e-04,\n         2.60982825e-03, -1.51143055e-02,  4.36640484e-03, -1.45646883e-02,\n        -1.60575751e-03,  2.76665855e-03, -1.09463306e-02, -1.53191127e-02,\n        -1.45747608e-05,  1.90091170e-02,  1.08718378e-02, -3.21831480e-02,\n         3.59112723e-03,  1.35760214e-02,  7.97148328e-03,  4.59893048e-03,\n        -9.35455319e-03,  6.11047959e-03,  6.94931345e-03, -1.06856609e-02,\n        -5.90177486e-03, -1.80318132e-02, -1.07009225e-02, -2.30531314e-05,\n        -2.58878265e-02, -1.91742443e-02,  0.00000000e+00,  7.74417585e-03,\n        -2.01599414e-05, -1.26872808e-04,  1.36425076e-02,  1.28179919e-02,\n        -1.19671281e-02,  1.24854110e-02, -1.47797074e-02,  0.00000000e+00,\n         6.37077633e-03, -2.19327258e-03,  0.00000000e+00, -2.37932093e-02,\n         0.00000000e+00,  1.52024685e-03,  3.28320684e-03,  6.46499917e-03,\n         0.00000000e+00,  0.00000000e+00,  3.31516052e-03, -4.10514278e-03,\n         0.00000000e+00, -1.71270152e-03,  4.48128814e-03, -6.10470248e-04,\n         2.58954754e-03, -3.90928844e-03,  5.75475162e-04,  4.65794140e-03,\n        -4.38664109e-02, -1.75839085e-02,  3.05468123e-03,  8.68187472e-03,\n        -1.44130401e-02,  1.58437975e-02,  3.27943414e-02,  7.07458379e-03,\n        -4.54440759e-03, -1.93428085e-03, -4.78668883e-03,  6.71740272e-04,\n         7.32435845e-04,  4.53321170e-03,  2.50078127e-04,  1.24842802e-03,\n         0.00000000e+00, -4.42179386e-03, -3.76369025e-09,  1.53231742e-02,\n         5.10471361e-03, -9.11830831e-03,  8.37795530e-03,  1.11917115e-03,\n         0.00000000e+00,  2.52928659e-02,  1.06877205e-03, -3.65289114e-03,\n         8.73807631e-03,  0.00000000e+00, -1.22084683e-02, -7.31257373e-04,\n         2.28107674e-03, -5.89059549e-04, -2.06135735e-02, -2.69522518e-02,\n         1.00952554e-02, -3.66134569e-04,  0.00000000e+00, -1.35299116e-02,\n         0.00000000e+00,  0.00000000e+00,  1.54900337e-02,  3.27098370e-03,\n        -9.39985458e-03, -2.68570916e-03,  2.60069091e-02,  0.00000000e+00,\n         1.03157433e-02, -6.94570947e-04,  2.95390119e-03,  7.27056572e-03,\n        -1.45555399e-02, -1.61758307e-02, -6.87413476e-03, -8.14240705e-03,\n        -3.01510445e-04, -2.67877374e-02,  3.00724199e-03,  6.70052192e-04,\n         2.21867766e-03, -1.49212359e-02, -1.52060911e-02,  3.90666537e-03,\n        -1.78713426e-02,  0.00000000e+00,  1.18561974e-02,  0.00000000e+00,\n         7.28392228e-03,  0.00000000e+00,  0.00000000e+00, -7.62772805e-04,\n         5.22959651e-03, -6.42029708e-03, -1.36944568e-02, -4.63330094e-03,\n        -5.68846846e-03, -4.92082816e-03,  0.00000000e+00,  0.00000000e+00,\n         0.00000000e+00,  0.00000000e+00,  0.00000000e+00, -4.53305431e-03,\n         0.00000000e+00,  2.12586694e-03,  1.17861535e-02,  2.34283824e-02,\n         1.18895192e-02, -8.82041082e-03,  1.11849122e-02,  4.50455025e-03,\n         4.04935423e-03, -1.42624145e-02, -3.45517369e-03, -8.31293594e-03,\n        -1.60886310e-02,  0.00000000e+00,  3.48335295e-03, -1.16178024e-04,\n        -1.33316098e-02, -2.91755218e-02,  0.00000000e+00,  0.00000000e+00,\n        -2.07435992e-02,  9.38704889e-03, -9.25827306e-03, -4.28662263e-03,\n        -6.55539660e-03, -9.73515026e-03, -1.49900466e-02, -1.21281426e-02,\n        -2.97076395e-03, -9.14994860e-04, -6.67049224e-03, -1.37963118e-02,\n        -6.29000878e-03,  5.92445675e-03,  0.00000000e+00, -1.55005315e-02],\n       dtype=float32)>,\n <tf.Variable 'batch_normalization_52/gamma:0' shape=(256,) dtype=float32, numpy=\n array([1.        , 0.9699432 , 1.011638  , 0.979388  , 1.0229251 ,\n        0.972062  , 1.        , 0.998494  , 0.98769283, 0.98635596,\n        1.        , 0.98018515, 1.        , 1.0141658 , 0.9854611 ,\n        0.9936046 , 1.0123551 , 0.9982838 , 1.0046172 , 1.0095581 ,\n        1.0071274 , 0.985987  , 0.98453194, 1.0005392 , 0.98088837,\n        0.9949289 , 1.0211263 , 1.0209194 , 0.9745342 , 1.0133866 ,\n        1.        , 1.0177667 , 0.99911964, 1.0056137 , 0.9894363 ,\n        1.0009933 , 1.        , 0.9963391 , 1.0023718 , 0.9973924 ,\n        1.0065951 , 1.        , 1.021047  , 1.026754  , 0.99710906,\n        1.0033925 , 0.99683535, 1.0100815 , 1.0195351 , 0.9968548 ,\n        0.9731451 , 0.99282604, 0.9624657 , 1.0440507 , 0.9676356 ,\n        0.97864085, 0.9951799 , 0.98772454, 1.0076026 , 0.9833903 ,\n        1.        , 0.98901814, 1.0038718 , 1.0104922 , 0.9892064 ,\n        0.9856515 , 1.0068513 , 1.0020183 , 1.0052745 , 0.9789649 ,\n        0.9948021 , 0.9905797 , 0.9833078 , 0.99826044, 1.01063   ,\n        1.0044153 , 1.0038842 , 1.005776  , 1.0029308 , 1.0068302 ,\n        1.0092195 , 0.9873521 , 1.0353465 , 0.9849595 , 1.0078532 ,\n        0.99911004, 0.99617356, 0.9737211 , 1.0276371 , 1.0118188 ,\n        0.9871862 , 0.9846622 , 0.9933087 , 1.0434681 , 1.0000901 ,\n        1.0216916 , 0.98955727, 1.0270559 , 1.0028642 , 0.9949073 ,\n        0.99667007, 0.94811696, 1.0078427 , 0.9760476 , 1.0195726 ,\n        0.9947842 , 1.        , 0.98714316, 1.0012904 , 0.98377746,\n        0.9821137 , 0.9955277 , 0.99656457, 0.9814956 , 0.9889301 ,\n        1.        , 0.9844817 , 1.0076436 , 1.        , 0.9781307 ,\n        1.        , 0.99818766, 1.0167518 , 1.0137514 , 1.        ,\n        1.        , 1.0191125 , 1.0134526 , 1.        , 1.0303167 ,\n        1.0095153 , 1.0062805 , 0.981007  , 0.99669796, 1.0028527 ,\n        1.008096  , 1.0540041 , 0.97397035, 1.0110389 , 0.9806327 ,\n        1.0079609 , 0.9676425 , 1.013384  , 1.0050504 , 0.996313  ,\n        0.9680566 , 1.0011066 , 0.9982302 , 1.0058739 , 1.0078734 ,\n        0.9855525 , 0.99923915, 1.        , 0.9770558 , 0.98947895,\n        1.0390252 , 0.9981589 , 0.9918985 , 0.97680295, 0.9919745 ,\n        1.        , 1.0289866 , 0.9998042 , 0.9843725 , 1.0162762 ,\n        1.        , 0.98189783, 1.0048378 , 0.99547774, 0.9920845 ,\n        0.9812406 , 1.0090218 , 0.9837413 , 0.9817204 , 1.        ,\n        0.9875467 , 1.        , 1.        , 1.0024681 , 0.99645084,\n        0.9975773 , 1.0061268 , 1.0224866 , 1.        , 1.0182467 ,\n        1.0127063 , 0.9840051 , 0.9764508 , 1.0100484 , 0.98414683,\n        0.99057156, 0.9916061 , 0.9616612 , 1.0202819 , 0.9833624 ,\n        0.98973435, 0.99724734, 1.0266963 , 1.0011078 , 1.0165119 ,\n        0.99047923, 1.        , 0.99868685, 1.        , 0.99557936,\n        1.        , 1.        , 1.0379361 , 1.0260862 , 1.0072367 ,\n        1.0307276 , 0.99143374, 1.004413  , 0.9550385 , 1.        ,\n        1.        , 1.        , 1.        , 1.        , 1.001681  ,\n        1.        , 0.9992505 , 0.98501354, 1.0116427 , 1.0223751 ,\n        1.0139579 , 0.99620265, 0.9843191 , 0.99854326, 0.99363387,\n        0.9965707 , 1.0084126 , 1.0198449 , 1.        , 1.0012692 ,\n        1.0029706 , 0.98816997, 1.020527  , 1.        , 1.        ,\n        0.9890771 , 0.98799556, 1.0068098 , 0.99430114, 0.9906607 ,\n        1.0149294 , 1.00102   , 1.0211663 , 1.0012292 , 1.0100828 ,\n        0.9932374 , 0.9984339 , 0.99360746, 0.99446845, 1.        ,\n        1.0030617 ], dtype=float32)>,\n <tf.Variable 'batch_normalization_52/beta:0' shape=(256,) dtype=float32, numpy=\n array([-2.26593707e-02,  1.06978510e-02,  1.31146738e-03,  3.08947731e-03,\n         3.93477418e-02, -3.30803962e-03,  1.23499539e-02, -1.16501264e-02,\n        -1.87906099e-03,  4.44022287e-03, -1.63801275e-02,  4.84024826e-03,\n        -1.49257900e-03, -2.02677213e-02,  2.66883377e-04, -1.63824018e-02,\n         6.50303252e-03,  2.89693195e-02,  1.61175784e-02,  2.10471768e-02,\n        -1.08551942e-02, -9.32703260e-04,  1.55992191e-02, -1.31343091e-02,\n        -1.04742507e-02, -2.49221679e-02, -8.39607324e-03,  8.93277023e-03,\n         7.50325053e-05, -1.76905021e-02,  7.17335613e-03, -2.16629989e-02,\n         5.16704656e-03, -8.27497896e-03,  2.49324571e-02,  1.73508842e-02,\n         6.55210856e-03, -6.86521735e-03, -4.41939279e-04, -1.61466014e-04,\n         1.22785252e-02,  1.74453184e-02, -2.03235522e-02,  4.48833313e-03,\n         1.57428645e-02, -2.04117931e-02, -4.72401176e-03, -7.57018477e-03,\n         5.69636077e-02,  1.58292465e-02, -5.36464667e-03,  1.85979530e-02,\n        -1.59373265e-02,  1.57643147e-02,  1.58497263e-02,  1.42538957e-02,\n         5.62234642e-03,  1.69338118e-02,  5.94433211e-03,  9.99358110e-03,\n         2.05795225e-02,  9.72108264e-03, -1.13392044e-02, -2.27930374e-03,\n        -1.69495086e-03, -2.67129727e-02,  2.07905415e-02,  1.05162906e-02,\n         9.19887051e-03, -3.51978280e-03,  2.82372907e-02, -7.23734032e-03,\n         6.57887710e-03,  5.22150006e-03, -8.71101953e-03, -1.36552714e-02,\n        -7.04167457e-03,  9.91126988e-03,  3.82522307e-02, -1.46526964e-02,\n        -3.54390335e-03, -4.81154630e-03,  6.57826336e-03,  1.05357952e-02,\n         3.31009328e-02,  3.34932320e-02,  4.25890349e-02,  1.49556007e-02,\n        -8.27967282e-03,  1.14413081e-02, -1.51949078e-02, -6.48379186e-03,\n         2.15965770e-02,  9.10428818e-03,  3.53026949e-02, -4.14017681e-03,\n         2.62461267e-02,  9.15788766e-03,  3.34218778e-02,  2.89516579e-02,\n         1.31739192e-02, -2.48563960e-02, -1.30205154e-02,  3.53243873e-02,\n         8.22873134e-03,  2.93641537e-03, -9.46216565e-03,  1.81194264e-02,\n         2.58501107e-03, -1.59131736e-02, -4.09684237e-03, -5.24056796e-03,\n        -6.42089266e-03,  4.95675206e-03, -5.58087742e-03, -1.07230190e-02,\n         2.44701393e-02,  6.70272345e-03, -2.32972503e-02,  3.95868570e-02,\n         1.60552990e-02,  1.72034428e-02, -1.15583315e-02,  9.74747818e-03,\n        -4.95635672e-03,  8.07741378e-03,  1.92848663e-03,  1.38189364e-02,\n         5.53080020e-03, -5.77208633e-03,  2.35908432e-03,  3.02291662e-02,\n         6.00347761e-03, -1.30384916e-03,  4.78024641e-03, -1.08117331e-02,\n        -4.03862000e-02,  2.48744227e-02,  2.98212208e-02,  9.94515885e-03,\n         9.20321047e-03, -1.33460630e-02, -1.00758225e-02, -3.04046017e-03,\n         1.91364642e-02,  8.08925461e-03,  1.66528262e-02,  2.07503978e-02,\n         1.38451820e-02,  5.06039429e-03,  1.25240686e-03, -2.42890138e-02,\n        -1.10283932e-02,  3.27830878e-03, -1.30550459e-03,  1.78516768e-02,\n         2.34501213e-02, -2.75244545e-02, -6.81903912e-03,  8.35009757e-03,\n         1.09738670e-02, -2.83211675e-02, -1.91795640e-02,  4.12571765e-02,\n        -2.24376423e-03, -2.85806861e-02, -6.67268829e-03,  2.36683479e-03,\n         6.03043241e-03,  1.13020814e-03, -1.67238098e-02, -3.89633258e-03,\n        -2.36664657e-02,  5.48379030e-03,  6.77699875e-03,  3.41682695e-02,\n        -9.54610412e-04, -1.03104226e-02,  2.20604539e-02,  3.20128202e-02,\n        -3.17102764e-03,  1.22752814e-02,  1.20296720e-02, -2.18257718e-02,\n        -2.03467384e-02, -1.53197031e-02, -5.73298614e-03,  2.67330948e-02,\n         7.86313508e-03, -1.13907941e-02,  1.69283412e-02,  2.70596314e-02,\n        -3.19690146e-02, -1.12261595e-02, -3.66903562e-03,  9.10529681e-03,\n         1.20130880e-02, -1.34702008e-02,  3.07797305e-02,  8.32836330e-03,\n        -1.51518844e-02,  1.47987260e-02, -2.08257488e-03,  1.26594352e-03,\n         1.97538976e-02, -6.33641519e-03, -9.35770199e-03,  2.82098888e-03,\n         1.51696336e-02,  3.86722060e-03,  1.67030413e-02,  1.17329182e-02,\n         8.55420250e-03,  3.18203378e-03,  1.11839985e-02, -2.41894592e-02,\n        -2.72638891e-02, -1.87937112e-03, -4.11361419e-02,  5.47509873e-03,\n        -4.76298742e-02, -1.01472754e-02, -1.04925679e-02, -1.64092928e-02,\n        -6.11523632e-03,  9.83937737e-03, -4.85909032e-03,  4.12294231e-02,\n        -1.38156815e-02, -4.40305891e-03, -1.20960269e-02, -2.02762503e-02,\n        -4.12589591e-03, -1.13567524e-02, -1.20091140e-02,  3.79250571e-02,\n         2.40499154e-02,  2.42008623e-02,  4.57729260e-03,  7.61932787e-03,\n         5.86952921e-03,  1.06175002e-02,  1.92649122e-02,  3.81673872e-02,\n         1.17765367e-03,  2.57152040e-02, -4.47892235e-04,  3.21950181e-03,\n         6.44712662e-03, -2.34320145e-02,  1.58401281e-02,  9.64356493e-03,\n         1.77080780e-02,  3.49490196e-02,  3.58611457e-02,  6.99006428e-04],\n       dtype=float32)>,\n <tf.Variable 'batch_normalization_52/moving_mean:0' shape=(256,) dtype=float32, numpy=\n array([0.0000000e+00, 2.8352654e+01, 5.7927100e+03, 1.5444364e+03,\n        1.5974186e+03, 7.6947832e+03, 0.0000000e+00, 1.2546407e+04,\n        6.5009991e+02, 3.8844523e-01, 0.0000000e+00, 7.8864386e+02,\n        0.0000000e+00, 1.9073631e+02, 3.9049709e+03, 1.0567821e+03,\n        2.0411725e+02, 6.5236348e+03, 9.4323037e+03, 9.1847754e+03,\n        8.9842969e+03, 3.7115437e+03, 1.1620905e+00, 1.2778810e+04,\n        3.3489001e+03, 2.1663981e-03, 2.2277097e+03, 1.2842379e+04,\n        5.1761265e+03, 3.0606538e+03, 0.0000000e+00, 1.1422289e+03,\n        5.7466101e+02, 4.7434688e+03, 1.5031063e+04, 2.0058063e+02,\n        0.0000000e+00, 1.9872129e+03, 2.7721406e+03, 8.1946838e+02,\n        7.0888350e+03, 0.0000000e+00, 5.7756733e+03, 1.7362487e+03,\n        5.6131314e-02, 6.2640225e+03, 1.7152642e+03, 2.4515146e+03,\n        1.0735236e+03, 1.5733925e+03, 4.0259036e+02, 1.4823524e+00,\n        7.8836265e+03, 7.4516108e+03, 1.4212048e+03, 1.5403319e+02,\n        2.0968173e+02, 5.9073745e+03, 1.5400873e+03, 3.5557213e+01,\n        0.0000000e+00, 6.9584153e-03, 9.9531768e+03, 1.4127404e+04,\n        5.8695649e+03, 1.6749657e+03, 4.8022510e+03, 1.3620723e+03,\n        3.0571516e+03, 7.6564360e+03, 6.8277597e-02, 6.6630723e+03,\n        1.1423012e+04, 4.4800412e-02, 1.1920890e+00, 3.2564258e+02,\n        8.5305889e+03, 5.7616236e-04, 1.3811519e+03, 1.5311721e-03,\n        6.2465288e+03, 3.4036321e+03, 1.7255122e+03, 8.1717051e-05,\n        3.4653507e+01, 5.7671440e+03, 3.8291987e+03, 3.9217856e+03,\n        8.6843027e+03, 4.1989038e+02, 3.4253076e+03, 2.8858395e+01,\n        2.7448140e+03, 9.4624344e+01, 2.0630947e+03, 1.2799191e+04,\n        3.7474528e-02, 1.9615967e+03, 6.2172523e+00, 1.1058310e+04,\n        5.3852397e+03, 6.2378516e+03, 5.6207764e+02, 1.0882089e-03,\n        2.7259953e-02, 3.2694067e+02, 0.0000000e+00, 7.8108989e+03,\n        7.6740212e-03, 7.2644536e+03, 1.3396429e+02, 1.2401627e+04,\n        3.5637986e+03, 9.6251006e+03, 3.3625050e+01, 0.0000000e+00,\n        7.4520220e+03, 1.1240648e+04, 0.0000000e+00, 4.9330435e+03,\n        0.0000000e+00, 4.3471777e+03, 3.2979102e+03, 2.0033223e+03,\n        0.0000000e+00, 0.0000000e+00, 2.5180634e+02, 9.6385068e+03,\n        0.0000000e+00, 3.9894919e+02, 3.4785876e+03, 3.6113762e+03,\n        1.3173633e+03, 3.2724725e+02, 4.5171191e+03, 1.5439142e+03,\n        5.1464948e+02, 2.1004661e+03, 1.3177277e+02, 1.3024550e+04,\n        4.1821265e+03, 1.8756871e+03, 5.2878015e+02, 1.0676331e+04,\n        6.5953550e-03, 7.0038608e+03, 8.1621426e+03, 1.2569207e+03,\n        1.9548221e+03, 1.1094928e+04, 6.5867695e+03, 6.2397925e+03,\n        0.0000000e+00, 1.0022978e+03, 1.9125729e-03, 7.4991681e+02,\n        1.7129020e+03, 8.4783154e+03, 1.3792662e+03, 1.3081285e+04,\n        0.0000000e+00, 3.0668875e+03, 2.6604077e+03, 1.3921465e+03,\n        1.3614684e+03, 0.0000000e+00, 3.2193499e+03, 5.4812974e+03,\n        1.1423294e+04, 5.6271978e+03, 1.5534794e+04, 3.4357182e+01,\n        1.0032707e+04, 3.1043207e-02, 0.0000000e+00, 4.8911816e+03,\n        0.0000000e+00, 0.0000000e+00, 1.3055014e+04, 1.5589882e+04,\n        1.0191926e+04, 2.6541589e+03, 7.5421288e+01, 0.0000000e+00,\n        4.7091841e+03, 1.0310873e+04, 4.0135383e+03, 1.0349141e+04,\n        3.5088779e+03, 3.4444485e+03, 4.9415022e-02, 3.0095547e+03,\n        4.5410962e+03, 8.3753330e+03, 1.3247609e+04, 9.8011154e+01,\n        4.1410410e+03, 6.3102289e+02, 8.0983322e-03, 8.9627852e+03,\n        8.9531504e+03, 0.0000000e+00, 1.9205482e+03, 0.0000000e+00,\n        3.2127185e+03, 0.0000000e+00, 0.0000000e+00, 1.3192580e+00,\n        4.9581768e+03, 3.4694888e-02, 2.0896536e+03, 7.7606755e-01,\n        1.2997987e+04, 3.6989795e+03, 0.0000000e+00, 0.0000000e+00,\n        0.0000000e+00, 0.0000000e+00, 0.0000000e+00, 3.2325542e+03,\n        0.0000000e+00, 4.1280439e+03, 2.0089285e+03, 4.0717939e+03,\n        1.0455238e+02, 6.8210371e+03, 1.2738682e+03, 4.0918530e+02,\n        1.4818239e+03, 5.9802942e-02, 7.9814946e+03, 2.1164795e-02,\n        7.6532215e-02, 0.0000000e+00, 2.5429229e+03, 6.3537128e-02,\n        7.3119731e+03, 5.6264276e+02, 0.0000000e+00, 0.0000000e+00,\n        9.3745581e+02, 1.4161534e+04, 9.7221630e-03, 2.9747004e+03,\n        6.1789863e+03, 8.2271133e+03, 3.3367578e+03, 1.3489995e+03,\n        3.7816377e+03, 8.6981113e+03, 7.5215337e+03, 5.7710029e+03,\n        1.3806155e+04, 5.8180190e+03, 0.0000000e+00, 3.0314595e+03],\n       dtype=float32)>,\n <tf.Variable 'batch_normalization_52/moving_variance:0' shape=(256,) dtype=float32, numpy=\n array([3.74255329e-03, 2.62376938e+05, 1.92640448e+08, 1.45446170e+07,\n        2.29063575e+06, 5.99330320e+07, 3.74255329e-03, 2.96030464e+08,\n        7.36976375e+05, 7.16580322e+03, 3.74255329e-03, 3.14918650e+06,\n        3.74255329e-03, 3.95913562e+05, 8.61436800e+07, 3.81211250e+06,\n        1.01240888e+06, 2.62781040e+08, 5.42256480e+07, 5.21981920e+07,\n        4.52270688e+08, 1.47448770e+07, 4.42016406e+04, 1.26268760e+08,\n        9.09623500e+06, 1.99512839e+00, 2.98902280e+07, 2.11805296e+08,\n        3.37962520e+07, 4.79235160e+07, 3.74255329e-03, 4.02376975e+06,\n        9.89735125e+05, 1.38013616e+08, 1.37083648e+08, 5.60564312e+05,\n        3.74255329e-03, 4.62838100e+06, 4.56363400e+07, 5.75814100e+06,\n        2.99048832e+08, 3.74255329e-03, 1.80012832e+08, 1.84755600e+07,\n        5.56560211e+01, 2.40266512e+08, 1.92390740e+07, 6.91365150e+06,\n        2.08439150e+06, 1.51780900e+07, 1.60757788e+06, 1.94593298e+03,\n        3.70880704e+08, 5.02516240e+07, 1.43932730e+07, 3.06886375e+05,\n        4.00982688e+05, 2.28179500e+07, 4.63661850e+06, 1.00878756e+06,\n        3.74255329e-03, 2.90996429e+02, 1.00747560e+08, 1.48744688e+08,\n        2.57661560e+07, 5.99824200e+06, 3.11539900e+07, 3.07387975e+06,\n        6.12063000e+07, 3.46900480e+08, 3.63541069e+01, 2.50134400e+08,\n        1.94653728e+08, 3.65982323e+01, 5.70012207e+03, 1.17229288e+06,\n        1.10319208e+08, 7.16556072e-01, 1.12129070e+07, 9.52420592e-01,\n        7.73110800e+07, 8.19689600e+06, 5.46689300e+06, 9.46814753e-03,\n        3.96052750e+05, 3.83284360e+07, 8.76391440e+07, 1.41526700e+07,\n        6.97916560e+07, 1.45848050e+06, 1.66472670e+07, 1.00404156e+05,\n        4.59384000e+07, 7.77016094e+04, 1.46640320e+07, 2.82227712e+08,\n        8.85522461e+01, 2.49992320e+07, 6.77345996e+03, 9.99479040e+07,\n        3.40270680e+07, 5.21803840e+07, 2.49647500e+06, 5.10890298e-02,\n        2.48331284e+02, 4.68833200e+06, 3.74255329e-03, 4.76377320e+07,\n        2.18205170e+02, 3.42516360e+07, 4.64418875e+05, 9.94043280e+07,\n        3.71157560e+07, 3.24528384e+08, 1.16158180e+05, 3.74255329e-03,\n        1.56270432e+08, 2.50888848e+08, 3.74255329e-03, 1.21273888e+08,\n        3.74255329e-03, 1.10829016e+08, 1.53687930e+07, 4.51754700e+06,\n        3.74255329e-03, 3.74255329e-03, 1.60670953e+05, 1.04049824e+08,\n        3.74255329e-03, 2.72363750e+05, 7.42727920e+07, 7.64360960e+07,\n        1.13619080e+07, 4.24453250e+05, 1.23453608e+08, 1.41671010e+07,\n        5.18218312e+05, 1.18306040e+07, 2.61384312e+05, 1.73633088e+08,\n        1.74420500e+07, 4.21315950e+06, 1.10103150e+06, 2.22506160e+08,\n        5.10576057e+00, 3.01454560e+08, 3.83052480e+08, 9.51369700e+06,\n        7.90438100e+06, 1.51668064e+08, 4.06340640e+07, 1.05010688e+08,\n        3.74255329e-03, 6.68581300e+06, 2.94994569e+00, 1.32937088e+06,\n        1.75719840e+07, 1.51855168e+08, 1.19057600e+07, 4.68022560e+08,\n        3.74255329e-03, 8.40522000e+06, 4.40974720e+07, 1.31382800e+07,\n        1.31577820e+07, 3.74255329e-03, 1.75191400e+07, 3.04165140e+07,\n        1.33384304e+08, 4.09075800e+07, 6.38373440e+08, 2.73916500e+05,\n        1.61074512e+08, 3.05706711e+01, 3.74255329e-03, 2.42437080e+07,\n        3.74255329e-03, 3.74255329e-03, 2.56726752e+08, 3.18431392e+08,\n        7.83861360e+07, 4.46094560e+07, 1.35304344e+05, 3.74255329e-03,\n        2.78720780e+07, 7.35555840e+07, 1.00740976e+08, 3.33046720e+08,\n        1.60361480e+07, 1.32784260e+07, 5.56919708e+01, 5.68859920e+07,\n        1.29115070e+07, 6.01979520e+07, 1.59857696e+08, 1.72775656e+05,\n        1.75198860e+07, 6.67118375e+05, 2.29968548e+00, 7.95148160e+07,\n        5.11026760e+07, 3.74255329e-03, 5.08686400e+06, 3.74255329e-03,\n        1.56233840e+07, 3.74255329e-03, 3.74255329e-03, 5.27174219e+03,\n        3.16482820e+07, 1.79886368e+02, 3.98880875e+06, 2.09769570e+04,\n        3.67541984e+08, 1.28830900e+07, 3.74255329e-03, 3.74255329e-03,\n        3.74255329e-03, 3.74255329e-03, 3.74255329e-03, 6.49743000e+07,\n        3.74255329e-03, 2.10513600e+07, 1.07182690e+07, 1.55166220e+07,\n        1.18814211e+05, 1.96231008e+08, 9.32020800e+06, 1.04082325e+06,\n        1.27072740e+07, 6.88603088e+02, 1.96297488e+08, 1.34157669e+02,\n        1.77985802e+01, 3.74255329e-03, 3.95512760e+07, 1.72865829e+01,\n        7.57626880e+07, 1.18320838e+06, 3.74255329e-03, 3.74255329e-03,\n        2.71773050e+06, 2.36753664e+08, 3.64394417e+01, 5.48256720e+07,\n        2.94771040e+07, 4.36129120e+07, 1.25804420e+07, 3.39497325e+06,\n        1.69022700e+07, 8.12507840e+07, 4.63904280e+07, 1.53653152e+08,\n        2.25721280e+08, 4.33154240e+07, 3.74255329e-03, 1.06748090e+07],\n       dtype=float32)>,\n <tf.Variable 'deep2/kernel:0' shape=(256, 128) dtype=float32, numpy=\n array([[-0.06231646,  0.06773525,  0.03038012, ...,  0.0087827 ,\n          0.00171392,  0.04343973],\n        [-0.09662434, -0.13682058,  0.07091004, ..., -0.12324003,\n          0.05716373, -0.00858657],\n        [ 0.05617047, -0.08548977, -0.03263996, ..., -0.0535812 ,\n          0.0125553 , -0.08492865],\n        ...,\n        [ 0.04059702,  0.04023756,  0.05378349, ...,  0.09479205,\n          0.05177464,  0.02662468],\n        [ 0.02098617, -0.12283569,  0.15026833, ..., -0.01408176,\n          0.04407252, -0.05375245],\n        [-0.02368564,  0.0664916 , -0.05373823, ...,  0.06183143,\n         -0.12052798, -0.02457919]], dtype=float32)>,\n <tf.Variable 'deep2/bias:0' shape=(128,) dtype=float32, numpy=\n array([ 7.11823069e-03, -1.52976047e-02,  1.95324421e-02, -1.48179000e-02,\n        -1.01405615e-02,  2.47694533e-02,  4.28253971e-03, -3.52434330e-02,\n        -2.71076639e-03,  2.57695951e-02, -2.22651679e-02, -1.35993762e-02,\n        -5.01911249e-03,  4.44254233e-03, -1.51983080e-02, -1.44493133e-02,\n         2.05923989e-02, -6.46078214e-03,  2.97380071e-02,  1.76765546e-02,\n         1.86469797e-02,  1.10194357e-02,  1.38221569e-02, -1.43939815e-02,\n        -4.63184156e-03, -1.42653715e-02,  1.81992669e-02, -2.46216785e-02,\n         1.75321568e-02,  8.85096099e-03, -1.02438219e-02,  1.10669443e-02,\n         2.52756029e-02, -8.96466710e-03, -2.17094123e-02, -1.21247265e-02,\n         3.06112779e-04, -8.06204323e-03,  1.30761890e-02,  1.12094311e-02,\n         4.85988893e-02, -4.04198579e-02,  2.00288910e-02, -3.00893243e-02,\n         3.09786107e-03,  3.07531518e-05, -1.00555010e-02, -3.05940062e-02,\n         1.44366669e-02,  1.52117191e-02, -3.61659750e-02,  1.54770594e-02,\n        -1.40523119e-02,  2.02671979e-02, -1.69700831e-02,  1.98091064e-02,\n        -3.51769701e-02, -6.96010003e-03,  6.39576418e-03, -2.27435865e-02,\n        -2.36296132e-02, -2.48935763e-02, -7.15121068e-03,  4.21798741e-03,\n        -3.85489897e-03, -6.51276251e-03,  1.11155547e-02, -8.93959403e-03,\n         1.82396155e-02, -8.87179747e-03,  5.73823927e-03, -3.79702682e-03,\n         2.67237462e-02,  5.74851362e-03, -8.70462973e-03, -4.89951484e-03,\n         3.80151020e-03,  3.76043026e-03, -3.36321965e-02,  1.11441771e-02,\n         2.85176896e-02,  4.19900985e-03, -2.08371561e-02,  1.00289956e-02,\n        -1.49755450e-02,  2.15644445e-02, -3.41129899e-02, -3.19757994e-04,\n         3.42551898e-03, -2.47598463e-03, -4.40515615e-02, -6.01427583e-03,\n        -5.90662146e-03,  2.27670502e-02, -3.46804485e-02,  1.47067001e-02,\n        -4.25691605e-02, -1.70887914e-02, -7.78522529e-03,  6.02046121e-03,\n         5.96672157e-03,  1.51038058e-02,  2.74463519e-02, -7.82718416e-03,\n        -4.69321385e-03, -1.28554292e-02,  8.34992621e-03, -7.04177516e-03,\n        -6.86567684e-04, -2.96075325e-02,  5.21835918e-03, -5.95293648e-04,\n        -1.02268532e-02, -5.24883904e-03,  1.09851742e-02, -3.11488565e-02,\n         1.37960166e-03,  4.04485509e-05, -4.53902548e-03,  3.72561403e-02,\n         2.09731283e-03,  7.56713236e-03, -5.42528927e-03, -2.42957543e-03,\n         1.67927071e-02, -1.65161677e-02,  2.90803355e-03, -3.26325744e-02],\n       dtype=float32)>,\n <tf.Variable 'batch_normalization_53/gamma:0' shape=(128,) dtype=float32, numpy=\n array([1.0096514 , 1.0085869 , 0.99500227, 0.95881426, 1.0096016 ,\n        1.0115584 , 0.969657  , 0.99689716, 0.97925127, 1.027635  ,\n        1.0038924 , 1.0060966 , 1.0060931 , 1.0138317 , 1.0085434 ,\n        1.0309093 , 1.0042259 , 1.0289694 , 0.99850947, 1.002797  ,\n        1.0358815 , 1.0256071 , 0.9818777 , 1.0398642 , 0.9910115 ,\n        0.9913241 , 1.010958  , 0.9862569 , 1.0099577 , 1.0231736 ,\n        0.9937795 , 1.034833  , 1.00214   , 1.0113528 , 0.99782294,\n        0.9889801 , 0.9964132 , 1.0026851 , 1.020131  , 0.9669854 ,\n        1.0131828 , 1.0279324 , 1.0071839 , 0.9642012 , 0.986323  ,\n        1.0188583 , 1.0083691 , 1.0087764 , 0.9942104 , 1.0336756 ,\n        0.9944996 , 0.9862708 , 0.97459996, 0.9868196 , 0.9921084 ,\n        0.9674962 , 0.99183124, 1.0175573 , 0.9869178 , 0.9895792 ,\n        1.0053556 , 0.9935414 , 1.0204155 , 1.0226228 , 0.99745154,\n        0.98984784, 1.0371974 , 0.99794227, 1.0182278 , 0.9868692 ,\n        0.9930377 , 0.9854863 , 0.98535216, 0.9772901 , 0.9646471 ,\n        0.98596525, 0.9660402 , 0.96334434, 0.97711563, 1.0151014 ,\n        1.0095875 , 1.0553075 , 1.001208  , 1.0146229 , 0.995703  ,\n        0.9685704 , 0.9776642 , 1.0256586 , 1.0154845 , 0.98523694,\n        0.9940896 , 0.99302065, 0.97746927, 0.9809989 , 0.9938128 ,\n        0.99403685, 1.0010328 , 0.96389127, 1.025301  , 0.9945255 ,\n        0.96195704, 1.0057945 , 0.9929504 , 1.0298414 , 0.99264693,\n        1.0207196 , 0.98280454, 1.008831  , 0.9961242 , 1.0100565 ,\n        1.0032067 , 0.9859416 , 1.0056071 , 1.0248299 , 0.993904  ,\n        0.97584796, 1.0239148 , 1.0215142 , 0.9776076 , 0.9861628 ,\n        0.9989123 , 1.0023433 , 1.0053954 , 1.0213698 , 0.9815553 ,\n        1.0072755 , 1.0114219 , 1.0241833 ], dtype=float32)>,\n <tf.Variable 'batch_normalization_53/beta:0' shape=(128,) dtype=float32, numpy=\n array([-0.02034687, -0.02543052,  0.03342708, -0.00704593,  0.02197102,\n        -0.01816917,  0.00819071,  0.01439745,  0.02396925,  0.00358779,\n        -0.03452237, -0.00848217, -0.00916323,  0.01724644, -0.02678674,\n         0.00889949, -0.04115176, -0.01157849, -0.02021028,  0.02276648,\n        -0.00651243,  0.01021641,  0.01133978, -0.02055756, -0.02188983,\n        -0.02021257,  0.03130969,  0.00018248, -0.01310348,  0.02157317,\n         0.02876384, -0.02096418, -0.01049138,  0.01398883,  0.02912064,\n        -0.00549591,  0.03298362,  0.00711464,  0.00249524, -0.00102387,\n        -0.00736138,  0.01003104,  0.00739023, -0.01187803, -0.00644358,\n         0.02530655,  0.01644398, -0.00350905, -0.02264522, -0.00484471,\n        -0.02094937,  0.01098192, -0.01329331, -0.01234997,  0.00945006,\n        -0.00569163, -0.01139366,  0.02208112,  0.00428099,  0.01154689,\n        -0.00260202,  0.01262105, -0.00899852, -0.03155652, -0.02562203,\n        -0.0200314 ,  0.00020471, -0.00998837, -0.01445884,  0.00462831,\n         0.00574965, -0.02252237,  0.04580653, -0.00990761,  0.00073563,\n         0.03206122, -0.02465913, -0.00569281,  0.00187992,  0.01730384,\n        -0.00301162,  0.03336953, -0.00873754, -0.01068231, -0.02261007,\n         0.01727835,  0.02283439, -0.02187165,  0.01332157, -0.0177323 ,\n         0.0202126 , -0.01410122, -0.00618979,  0.00150686, -0.00835026,\n        -0.00187321, -0.02804433,  0.00842459, -0.02577875,  0.00012326,\n         0.02641204, -0.03628279,  0.00727337, -0.02621606,  0.00768434,\n        -0.03477967,  0.0223493 ,  0.02840932,  0.01006696,  0.00737272,\n        -0.01359925,  0.00683143,  0.00342712,  0.01684623,  0.04440316,\n        -0.02433164, -0.02598595, -0.01117621, -0.02069071, -0.02264411,\n        -0.0107572 , -0.00745848,  0.0134913 , -0.01917312,  0.03463425,\n         0.00136905, -0.02970266, -0.03653977], dtype=float32)>,\n <tf.Variable 'batch_normalization_53/moving_mean:0' shape=(128,) dtype=float32, numpy=\n array([0.6541807 , 0.4875896 , 0.7341084 , 0.80256003, 0.43077677,\n        0.96379614, 0.49954686, 0.5949574 , 0.666234  , 0.71080625,\n        0.21252012, 0.25754324, 0.3653203 , 0.6542764 , 0.47061682,\n        0.40672433, 0.9262959 , 0.5473547 , 0.511973  , 0.56222224,\n        0.7072307 , 0.55715114, 0.9111694 , 0.44668534, 0.42142984,\n        0.61898106, 0.53073204, 0.42667115, 0.5286184 , 0.4786419 ,\n        0.56457204, 0.3753051 , 0.6864516 , 0.51726913, 0.55362374,\n        0.54743475, 0.51824427, 0.39700478, 0.36701533, 0.58437586,\n        0.35030112, 0.3442549 , 0.50376266, 0.36457744, 0.48089316,\n        0.43183225, 0.6589752 , 0.4706024 , 0.86581844, 0.5167807 ,\n        0.5009972 , 0.67852086, 0.4527389 , 0.82768035, 0.34101182,\n        0.52841944, 0.40061757, 0.47309732, 0.6764229 , 0.3578392 ,\n        0.5397258 , 0.40363166, 0.540531  , 0.28225604, 0.92488253,\n        0.45859474, 0.45400897, 0.37210578, 0.6013307 , 0.3084474 ,\n        0.5642825 , 0.45958915, 0.7946794 , 0.6775691 , 0.42376634,\n        0.5339484 , 0.42332292, 0.64021736, 0.42889783, 0.6307549 ,\n        0.9411329 , 0.67020965, 0.31041536, 0.6063759 , 0.35283217,\n        0.74852854, 0.2569576 , 0.4232077 , 0.7137762 , 0.5295157 ,\n        0.5524527 , 0.30142218, 0.35105312, 0.92212296, 0.4869698 ,\n        0.45778605, 0.27765164, 0.613505  , 0.36327264, 0.50540066,\n        0.4528027 , 0.39783573, 0.6870546 , 0.46200585, 0.5045141 ,\n        0.43037578, 0.49136707, 0.548187  , 0.61744165, 0.35658154,\n        0.54100156, 0.7182025 , 0.43823805, 0.5639055 , 0.66142464,\n        0.31332284, 0.42394516, 0.6228954 , 0.4136224 , 0.6018955 ,\n        0.48208013, 0.5492743 , 0.4892718 , 0.4023917 , 0.791495  ,\n        0.3941184 , 0.62094307, 0.477845  ], dtype=float32)>,\n <tf.Variable 'batch_normalization_53/moving_variance:0' shape=(128,) dtype=float32, numpy=\n array([0.8919579 , 1.5383465 , 1.1213913 , 3.622292  , 0.35267642,\n        1.0637647 , 0.35437465, 2.2687626 , 2.9263396 , 2.4566739 ,\n        0.28382137, 0.4402745 , 0.26131588, 0.7456708 , 1.3020407 ,\n        0.52216417, 1.1474723 , 1.9184189 , 1.1441164 , 1.2370921 ,\n        2.3848498 , 1.3182526 , 1.7052072 , 0.52702165, 0.78855294,\n        1.7877383 , 0.6284183 , 1.0085979 , 1.2988083 , 1.029408  ,\n        1.8884455 , 0.35108405, 0.6109645 , 0.38742965, 1.7746551 ,\n        1.8834547 , 0.4557804 , 0.95808285, 0.5725891 , 1.5394461 ,\n        0.35844448, 0.33963087, 0.84822106, 0.7803628 , 0.67431605,\n        0.6571587 , 2.9082258 , 0.37460548, 0.8501415 , 0.52823126,\n        1.4341226 , 2.1112664 , 0.99105597, 0.99546325, 0.57807565,\n        0.56478363, 0.41922632, 0.9636772 , 2.1479146 , 0.36021647,\n        1.7378877 , 0.7747439 , 1.8408914 , 0.23595071, 4.615222  ,\n        0.5325895 , 0.4493142 , 0.59581345, 1.7993928 , 0.502753  ,\n        1.1760364 , 1.350701  , 0.6157857 , 0.8363073 , 0.9942772 ,\n        0.5071544 , 0.6528822 , 0.6952829 , 0.8280207 , 0.5419398 ,\n        1.085443  , 0.5362027 , 0.45478436, 0.45119178, 0.7028393 ,\n        1.2797525 , 0.3883209 , 0.6748042 , 0.70940036, 0.39803812,\n        1.9543931 , 0.24374488, 0.6723964 , 0.8415528 , 1.4642552 ,\n        0.93151647, 0.31021357, 2.2883077 , 0.5282456 , 0.9491802 ,\n        0.5458862 , 0.67792016, 1.7570876 , 0.8639404 , 1.320091  ,\n        0.5878774 , 1.4246306 , 0.7407613 , 1.2312263 , 0.56091815,\n        1.1986064 , 2.9913926 , 0.3336095 , 1.7476633 , 2.733818  ,\n        0.5290499 , 0.3503352 , 1.7286936 , 0.31151038, 1.2117635 ,\n        0.5598456 , 1.8257384 , 1.1307431 , 0.32114246, 3.4863374 ,\n        0.4049923 , 2.3047068 , 0.5789481 ], dtype=float32)>,\n <tf.Variable 'deep3/kernel:0' shape=(128, 64) dtype=float32, numpy=\n array([[-0.02362095,  0.1065932 ,  0.05718164, ..., -0.03656558,\n         -0.09338687, -0.10354971],\n        [ 0.09217477,  0.11991993, -0.01517994, ..., -0.04435639,\n          0.00937517, -0.0121618 ],\n        [-0.09671707, -0.18582296,  0.18766458, ...,  0.02591074,\n         -0.1430755 ,  0.06091215],\n        ...,\n        [ 0.02780616, -0.15444112,  0.05059524, ...,  0.01977993,\n         -0.07023998,  0.07095037],\n        [-0.02231094,  0.00603843,  0.13230021, ..., -0.01562454,\n          0.05197551,  0.04218106],\n        [ 0.06486994, -0.00727569, -0.14696799, ...,  0.05430232,\n          0.03606597, -0.13837104]], dtype=float32)>,\n <tf.Variable 'deep3/bias:0' shape=(64,) dtype=float32, numpy=\n array([-2.94713606e-03, -2.42628194e-02,  1.38266450e-02,  2.53544282e-03,\n         8.72038398e-03,  2.48888601e-02,  5.80713805e-03, -3.68222706e-02,\n        -8.49327631e-03, -2.99869869e-02,  3.47640999e-02,  6.46674028e-03,\n         1.43019371e-02,  1.55842758e-03,  1.82393380e-02, -1.51631720e-02,\n        -1.62136834e-02, -9.89423133e-03, -8.04757793e-03,  5.22055812e-02,\n        -9.16401390e-03, -2.05695108e-02, -3.17093804e-02, -3.91901284e-03,\n        -5.76700177e-03, -4.13779562e-05, -4.05608118e-02, -2.59032473e-02,\n        -5.73475705e-03,  4.90829442e-03, -4.52303747e-03,  2.97158845e-02,\n        -4.75592911e-03, -2.49139350e-02,  2.36294493e-02, -2.34436314e-03,\n         4.41947859e-03,  2.50146333e-02, -1.74070466e-02, -1.23101892e-02,\n        -1.02409497e-02,  2.43366789e-02,  1.52829485e-02,  6.47857232e-05,\n        -5.72694233e-03,  4.03909897e-03, -1.37757161e-03, -1.32103346e-03,\n        -1.58948347e-03, -1.05421776e-02, -1.81434094e-04, -9.87650920e-03,\n        -1.59902703e-02, -1.21160224e-02, -1.32398214e-02,  2.90662725e-03,\n        -2.02335864e-02, -1.69488101e-03, -1.64356139e-02,  2.68099494e-02,\n         1.40237343e-02, -1.66769773e-02, -2.00673658e-02,  1.86367482e-02],\n       dtype=float32)>,\n <tf.Variable 'batch_normalization_54/gamma:0' shape=(64,) dtype=float32, numpy=\n array([1.0054187 , 0.9804629 , 1.0235814 , 1.0121008 , 0.9871495 ,\n        1.0167973 , 0.9980229 , 1.0150149 , 0.9829069 , 0.9992536 ,\n        0.94752204, 1.0308174 , 1.0292563 , 0.9865295 , 0.99739444,\n        0.9936677 , 0.975446  , 0.958573  , 1.0290265 , 0.99184144,\n        0.98534316, 0.9986347 , 1.0061682 , 0.9955789 , 0.9906146 ,\n        1.020994  , 0.9901717 , 1.01118   , 1.0086653 , 1.0030593 ,\n        0.96080905, 0.99696904, 1.0309412 , 1.0185915 , 1.0152795 ,\n        1.0037348 , 0.98768675, 1.0003548 , 0.9575527 , 1.0160493 ,\n        1.0169437 , 0.9713838 , 1.0228999 , 0.9904589 , 1.0338432 ,\n        1.0490146 , 0.9966714 , 0.9704856 , 0.99358684, 1.046361  ,\n        1.0399517 , 1.0100332 , 0.9645981 , 1.0331002 , 0.9797905 ,\n        0.9631795 , 1.0030485 , 1.0143487 , 1.011856  , 0.99542546,\n        0.99227   , 0.99067074, 0.9893598 , 1.0091574 ], dtype=float32)>,\n <tf.Variable 'batch_normalization_54/beta:0' shape=(64,) dtype=float32, numpy=\n array([ 0.00212493,  0.01995141,  0.02696958,  0.02059307, -0.05908554,\n         0.02234385,  0.01831944, -0.01047641,  0.0228776 , -0.00662251,\n         0.01024793, -0.02563499,  0.03212461,  0.01194753, -0.00846278,\n        -0.02452744,  0.01364085,  0.01900391,  0.03410817, -0.01274531,\n         0.03476357, -0.03188901,  0.02692419,  0.00663943,  0.00047515,\n         0.01558132,  0.01666958, -0.0106022 , -0.03460075, -0.04024018,\n         0.01353085,  0.02117105, -0.00865938, -0.01723466,  0.01012748,\n         0.00490876, -0.02942562,  0.01963576,  0.03035499, -0.00083028,\n        -0.02311591,  0.00894551, -0.02557728,  0.01431169, -0.01987911,\n         0.00163474, -0.0370352 ,  0.02541778, -0.02437326, -0.0062066 ,\n         0.03102062,  0.04193931, -0.0276925 , -0.00165064, -0.02310523,\n         0.01153265,  0.01256978,  0.04085674, -0.03112138,  0.03042146,\n        -0.00840564,  0.03526252, -0.01219716, -0.01192013], dtype=float32)>,\n <tf.Variable 'batch_normalization_54/moving_mean:0' shape=(64,) dtype=float32, numpy=\n array([0.59035254, 0.632091  , 0.69164795, 0.46495506, 0.4718972 ,\n        0.595075  , 0.49285847, 0.5571456 , 0.5158661 , 0.52967215,\n        0.48901793, 0.6202771 , 0.57177967, 0.49715683, 0.576781  ,\n        0.62453943, 0.35449237, 0.50944525, 0.50670785, 0.8257066 ,\n        0.4632799 , 0.7295759 , 0.63139266, 0.491996  , 0.557025  ,\n        0.42633486, 0.44232973, 0.4675148 , 0.41391546, 0.64597076,\n        0.4521723 , 0.52584606, 0.4380143 , 0.47871053, 0.6498065 ,\n        0.74926287, 0.5309292 , 0.7024183 , 0.35646245, 0.51807696,\n        0.403804  , 0.553192  , 0.60565126, 0.5954481 , 0.41462618,\n        0.45854682, 0.52224165, 0.4693098 , 0.6514389 , 0.6062912 ,\n        0.4903222 , 0.5446597 , 0.3902025 , 0.43395802, 0.39879194,\n        0.5793914 , 0.57183015, 0.5786332 , 0.5307075 , 0.6042159 ,\n        0.7716141 , 0.4025994 , 0.46238872, 0.60174686], dtype=float32)>,\n <tf.Variable 'batch_normalization_54/moving_variance:0' shape=(64,) dtype=float32, numpy=\n array([0.7242559 , 0.8144188 , 2.1871815 , 0.71680015, 0.67846864,\n        0.7969636 , 0.5255683 , 1.1333137 , 1.3720287 , 1.4347095 ,\n        0.61290187, 2.1571658 , 1.3857006 , 0.95336056, 1.690825  ,\n        1.7324823 , 0.4408441 , 1.3814733 , 1.1824964 , 0.9677436 ,\n        0.9135385 , 2.912106  , 2.2367868 , 0.76368904, 0.9593013 ,\n        0.66909355, 0.7469423 , 0.5841549 , 0.5975258 , 2.2627733 ,\n        0.7029368 , 1.2123231 , 0.5230265 , 0.96551174, 1.1213857 ,\n        3.0612736 , 0.8137101 , 1.2007504 , 0.43842015, 1.081551  ,\n        0.6636655 , 0.8654863 , 2.0421975 , 0.6308162 , 0.8091361 ,\n        0.76548415, 0.67344964, 0.94152   , 0.8389445 , 1.4999895 ,\n        0.9774759 , 1.268068  , 0.74607724, 0.56756264, 0.64575136,\n        0.5684092 , 1.9096667 , 1.546005  , 1.5126305 , 0.6673666 ,\n        1.157108  , 0.6273688 , 0.55381286, 1.6272271 ], dtype=float32)>,\n <tf.Variable 'deep4/kernel:0' shape=(64, 32) dtype=float32, numpy=\n array([[-0.09057888,  0.17850794,  0.1102044 , ...,  0.16697703,\n          0.09076654,  0.10875969],\n        [-0.0040565 , -0.17876135,  0.09525061, ..., -0.03286684,\n         -0.13192032, -0.17889085],\n        [ 0.09650392,  0.17516805, -0.002155  , ..., -0.14708757,\n         -0.12601827,  0.1104376 ],\n        ...,\n        [ 0.08624289,  0.24679817, -0.09683879, ..., -0.20491193,\n         -0.22391646,  0.05440312],\n        [ 0.19239879,  0.02614603,  0.17277777, ...,  0.0570566 ,\n          0.14312951, -0.03830592],\n        [-0.0953548 , -0.09298494,  0.12472051, ..., -0.03705858,\n         -0.06208747,  0.24465798]], dtype=float32)>,\n <tf.Variable 'deep4/bias:0' shape=(32,) dtype=float32, numpy=\n array([ 0.01915589,  0.01628296, -0.03318755,  0.05103624, -0.00517739,\n         0.01025693, -0.00303739,  0.00910386,  0.0640204 , -0.00296232,\n        -0.00091847,  0.00133275,  0.00708577,  0.0009419 ,  0.00171316,\n        -0.02783243, -0.00915824, -0.02827624,  0.00953912, -0.01502255,\n        -0.02791531,  0.0127356 ,  0.0261531 , -0.00732958, -0.00554837,\n         0.01623512,  0.00391273,  0.0301484 ,  0.02821425, -0.00647004,\n         0.0381574 ,  0.00636644], dtype=float32)>,\n <tf.Variable 'Client_Income_Type_Client_Education_Client_Marital_Status_Loan_Contract_Type_embed/embeddings:0' shape=(142, 11) dtype=float32, numpy=\n array([[-0.0188207 ,  0.03263413,  0.01849456, ...,  0.04581043,\n          0.00562332, -0.03353371],\n        [-0.01661538, -0.05606408, -0.01578838, ..., -0.0195394 ,\n         -0.01445383, -0.00991112],\n        [-0.05922442,  0.07532897,  0.01468956, ...,  0.04285506,\n          0.05144705, -0.01999765],\n        ...,\n        [ 0.04180578, -0.03010439, -0.05014464, ..., -0.00117094,\n         -0.00508958,  0.05484257],\n        [ 0.01404231,  0.03628987, -0.0314161 , ...,  0.01424773,\n          0.01320311, -0.04171683],\n        [-0.00868348, -0.00681893,  0.06993294, ...,  0.02587852,\n          0.03924962, -0.02633751]], dtype=float32)>,\n <tf.Variable 'Car_Owned_Client_Education_Client_Marital_Status_embed/embeddings:0' shape=(40, 6) dtype=float32, numpy=\n array([[-0.05697422, -0.00508107,  0.06209404, -0.00642579,  0.07215892,\n          0.01438471],\n        [-0.04581366,  0.0244812 ,  0.07567186,  0.03462073, -0.00205989,\n          0.00153015],\n        [-0.07723812, -0.03646535,  0.05447411,  0.04637421,  0.04740379,\n          0.02098183],\n        [ 0.03312295,  0.04498246, -0.04844682, -0.07693664, -0.0925887 ,\n          0.01241199],\n        [ 0.06241757,  0.06211602, -0.06470885, -0.07064446, -0.10833288,\n         -0.02610158],\n        [ 0.05045087,  0.05594   , -0.03816614, -0.07049482, -0.03819285,\n          0.03410457],\n        [ 0.06195252,  0.04986425,  0.00851991, -0.08159749,  0.00431623,\n         -0.04219477],\n        [ 0.00377041, -0.02818298,  0.01087926, -0.03751666, -0.00897142,\n          0.01449847],\n        [ 0.04564462,  0.06675513, -0.05576774, -0.07973148, -0.02635746,\n         -0.08680924],\n        [ 0.01392078, -0.04726046,  0.03602093, -0.01291442,  0.01574049,\n          0.06416459],\n        [-0.05693497, -0.09604993,  0.08071448,  0.06921519,  0.13548955,\n          0.1351488 ],\n        [ 0.00355056,  0.02262015, -0.03445525, -0.02876598,  0.00177053,\n         -0.00825101],\n        [-0.03485689, -0.00295573,  0.01940251,  0.04605911,  0.04381353,\n          0.00299927],\n        [ 0.11020033,  0.12657066, -0.19404888, -0.16597188, -0.14683796,\n         -0.19892213],\n        [-0.03262184,  0.00061434,  0.06595333,  0.07165938, -0.01423024,\n          0.06519558],\n        [ 0.06328439,  0.09211255,  0.00075135, -0.07838571, -0.07259314,\n         -0.01992082],\n        [-0.02622301, -0.04975676,  0.0277684 ,  0.08088857,  0.10172702,\n          0.04477034],\n        [-0.10259044, -0.11910703,  0.12317464,  0.05897681,  0.14912249,\n          0.04127573],\n        [-0.14060357, -0.08876419,  0.12295369,  0.09977734,  0.12629357,\n          0.15426075],\n        [-0.04913597, -0.05782818,  0.02971781,  0.0937954 ,  0.06990061,\n          0.03833158],\n        [ 0.05301648,  0.00465465, -0.090539  , -0.0470859 , -0.08550134,\n         -0.08242162],\n        [ 0.04758215,  0.039102  , -0.08209639, -0.09167247, -0.01874565,\n         -0.07795241],\n        [-0.02945322,  0.02641395,  0.01623338, -0.01321548, -0.01682242,\n          0.05162114],\n        [ 0.05407716,  0.06808102, -0.07494861, -0.10675754, -0.14755502,\n         -0.06798925],\n        [ 0.11783336,  0.11617769, -0.06345446, -0.05600736, -0.07510092,\n         -0.11508767],\n        [ 0.10355305,  0.13365892, -0.09109332, -0.16007808, -0.17855643,\n         -0.07439449],\n        [ 0.00806258, -0.01487955, -0.05080522, -0.07669865, -0.02041654,\n         -0.05202432],\n        [ 0.10204995,  0.12459476, -0.12353725, -0.09864397, -0.13787475,\n         -0.12280217],\n        [ 0.08580846,  0.08342607, -0.07499219, -0.07109179, -0.10302984,\n         -0.07262178],\n        [-0.06063421, -0.09958858,  0.13361233,  0.1279588 ,  0.17163277,\n          0.09796797],\n        [ 0.08564328,  0.08710318, -0.07990447, -0.01614728, -0.08962534,\n         -0.11050664],\n        [ 0.02096479,  0.09771518, -0.04532109, -0.07163775, -0.11576154,\n         -0.06024342],\n        [ 0.02755773,  0.01184403, -0.02506378,  0.03934184, -0.02157716,\n          0.02033265],\n        [ 0.08098066,  0.09722341, -0.13213453, -0.16742346, -0.14407632,\n         -0.11193614],\n        [ 0.00475773,  0.01432926, -0.0620728 , -0.0418421 , -0.03691598,\n         -0.0676968 ],\n        [ 0.0470151 , -0.00159487, -0.09445962, -0.05638298, -0.01967172,\n         -0.09442851],\n        [-0.00180876, -0.04913548,  0.04052646,  0.03546567,  0.00674825,\n          0.09985193],\n        [ 0.01458137, -0.01808859, -0.00038339,  0.01135395,  0.02336278,\n         -0.01716515],\n        [-0.01645562, -0.07050805,  0.04139886,  0.0099246 ,  0.00606604,\n          0.01160399],\n        [ 0.12128004,  0.06157343, -0.13775347, -0.11838534, -0.1590605 ,\n         -0.20725802]], dtype=float32)>,\n <tf.Variable 'House_Own_Car_Owned_Bike_Owned_Active_Loan_embed/embeddings:0' shape=(16, 4) dtype=float32, numpy=\n array([[-4.9649693e-02, -9.2260510e-04,  7.5455509e-02, -1.5884213e-02],\n        [-4.8174545e-02, -9.4362631e-02,  9.3623944e-02,  1.3324118e-01],\n        [ 3.7721295e-02, -1.9998020e-03, -3.2108221e-02, -2.9375711e-02],\n        [-8.1732981e-02, -4.4198211e-02,  5.9296645e-02,  4.7671575e-02],\n        [ 9.2765447e-03, -2.1342700e-02, -4.9308423e-02, -1.2829253e-02],\n        [ 8.8170692e-02,  6.1937436e-02, -1.6559982e-01, -4.3219190e-02],\n        [ 9.2973001e-02,  1.0291759e-01, -1.3175406e-01, -9.9521600e-02],\n        [ 2.3100188e-02,  6.6576600e-02, -6.0078558e-02, -1.6547240e-02],\n        [-1.8413523e-02, -6.2388185e-02,  4.1558404e-02,  7.0314601e-02],\n        [-2.2653902e-02, -3.7192900e-02,  9.0382025e-02,  9.5544728e-03],\n        [-5.1752668e-02, -8.8766627e-02,  1.2333808e-01,  5.4866564e-02],\n        [-1.1643411e-02, -6.8882637e-02,  9.1564961e-02,  9.7204983e-02],\n        [-4.3123420e-02, -2.4146162e-02,  3.8246479e-02,  2.4498763e-02],\n        [ 2.1089036e-06, -3.3794168e-02,  4.1039277e-02, -3.0003341e-03],\n        [ 6.3295461e-02,  2.0966908e-02, -8.5110284e-02, -4.2827096e-02],\n        [ 5.2128915e-02,  1.4427643e-02, -5.9298113e-02, -5.4060496e-02]],\n       dtype=float32)>,\n <tf.Variable 'batch_normalization_55/gamma:0' shape=(32,) dtype=float32, numpy=\n array([0.97074014, 0.97728896, 0.96860915, 0.9537856 , 0.9768143 ,\n        0.97094876, 0.9806449 , 0.9962253 , 0.9339387 , 0.9623141 ,\n        0.9784436 , 0.992191  , 0.98239136, 0.93907547, 0.9903276 ,\n        0.93752736, 0.9323579 , 0.9717708 , 0.9866801 , 0.96660626,\n        0.96632695, 0.96743286, 0.9618186 , 0.98646677, 1.0061826 ,\n        0.96049154, 0.9927103 , 0.9124345 , 0.9731433 , 0.9599781 ,\n        0.97392607, 1.0070542 ], dtype=float32)>,\n <tf.Variable 'batch_normalization_55/beta:0' shape=(32,) dtype=float32, numpy=\n array([ 0.03066163,  0.02299457, -0.01258185,  0.03066836, -0.02609673,\n         0.01900543, -0.03200808, -0.02658352,  0.03641737,  0.01345934,\n        -0.04491053, -0.03207995, -0.02863685, -0.06051259, -0.01583904,\n        -0.00855984,  0.01699983,  0.01212623, -0.037172  ,  0.02141039,\n        -0.00410152, -0.01641787,  0.03434782, -0.03673371, -0.02600831,\n         0.05638124,  0.01465513,  0.01556312,  0.0060264 , -0.05634636,\n         0.03505178,  0.00583997], dtype=float32)>,\n <tf.Variable 'batch_normalization_55/moving_mean:0' shape=(32,) dtype=float32, numpy=\n array([0.47531587, 0.5493988 , 0.41499606, 0.6456951 , 0.5011028 ,\n        0.43567368, 0.42057425, 0.6361748 , 0.6539835 , 0.74617445,\n        0.43494543, 0.7484528 , 0.57809895, 0.43949598, 0.41027504,\n        0.40806863, 0.54233354, 0.4792973 , 0.6987226 , 0.3237245 ,\n        0.3818117 , 0.5900265 , 0.4996346 , 0.64355105, 0.5225084 ,\n        0.45558238, 0.59408253, 0.49352375, 0.511147  , 0.4694192 ,\n        0.5201207 , 0.5314493 ], dtype=float32)>,\n <tf.Variable 'batch_normalization_55/moving_variance:0' shape=(32,) dtype=float32, numpy=\n array([0.4706133 , 1.1201208 , 0.5757252 , 0.7644398 , 0.69450563,\n        0.5459342 , 0.6793406 , 1.6666985 , 1.1155165 , 1.159083  ,\n        0.80945086, 1.790801  , 1.6998245 , 0.872597  , 0.56181276,\n        0.5330803 , 0.6358406 , 0.90331095, 2.2011352 , 0.4369033 ,\n        0.5478279 , 1.204857  , 0.94160175, 1.5446025 , 1.3328161 ,\n        1.009073  , 1.4457357 , 0.88056165, 0.541147  , 0.87148327,\n        0.78807527, 0.7459545 ], dtype=float32)>,\n <tf.Variable 'deep5/kernel:0' shape=(32, 10) dtype=float32, numpy=\n array([[-0.11901842,  0.25655347,  0.11605635, -0.35547665,  0.20999773,\n         -0.08133468, -0.18179289,  0.3624532 ,  0.3341197 ,  0.01224435],\n        [-0.21102986, -0.27153566, -0.2795621 ,  0.05466404,  0.07797387,\n         -0.01303331, -0.05324568, -0.23249358, -0.13821338, -0.00889784],\n        [ 0.03684126, -0.19926597, -0.23151278,  0.37495193, -0.06071106,\n         -0.090634  ,  0.21126068,  0.15804985, -0.08525549,  0.2158458 ],\n        [ 0.16250567,  0.22539064,  0.0046686 , -0.26543328,  0.18241343,\n          0.3294348 ,  0.19862418,  0.17790155,  0.2849563 , -0.3803503 ],\n        [ 0.30853212,  0.09027925, -0.10882661, -0.3303442 ,  0.30795684,\n         -0.06694973,  0.24619931,  0.30000165,  0.05087807,  0.25527537],\n        [-0.06021599, -0.2030663 ,  0.15821415, -0.06311714,  0.25682458,\n         -0.24579708,  0.09179688, -0.23087873, -0.05833763,  0.06411149],\n        [ 0.21639967, -0.07775609, -0.18822277, -0.23917311,  0.1885425 ,\n          0.25524974, -0.0314992 ,  0.12256001, -0.1413411 , -0.15037738],\n        [ 0.26322436,  0.09918307, -0.2827325 , -0.00560814,  0.1548963 ,\n          0.32846254,  0.30562708,  0.0243765 , -0.23715138, -0.09451342],\n        [-0.19710916, -0.00639825,  0.08767544, -0.14824483, -0.02763816,\n          0.13777089,  0.24669336,  0.37616616, -0.32695955,  0.29002166],\n        [ 0.14173247,  0.38236746,  0.35129088, -0.18222642, -0.1477441 ,\n          0.17835315,  0.15007426, -0.01714677, -0.24958234,  0.20329164],\n        [ 0.30297986,  0.05402939, -0.01777222, -0.11906837,  0.00731289,\n         -0.3231987 ,  0.08704121,  0.10723629, -0.13079265,  0.28001726],\n        [-0.21648552, -0.30836773, -0.27198413,  0.3309137 ,  0.07343164,\n          0.05008064, -0.37637755,  0.16704834, -0.09329944, -0.14643973],\n        [ 0.10058028, -0.23840114, -0.36891317, -0.05850973, -0.29781866,\n         -0.07313623,  0.0411506 , -0.02581358, -0.23362868, -0.2965485 ],\n        [ 0.21884951, -0.24157873, -0.04529565,  0.3144039 , -0.08185256,\n         -0.26746547, -0.29464963,  0.2224982 , -0.19515674, -0.09816915],\n        [ 0.15817663, -0.06037411, -0.38558078,  0.30063286,  0.2566758 ,\n          0.20079519,  0.28933075,  0.330871  ,  0.3217472 , -0.24494389],\n        [-0.0191879 ,  0.2211166 ,  0.24305296, -0.30877274, -0.3224187 ,\n          0.10015688, -0.13476287, -0.3076281 , -0.17616397, -0.3538119 ],\n        [ 0.15926395, -0.16259868,  0.07005747,  0.31970397, -0.05030226,\n         -0.12704018, -0.19370654, -0.01776212,  0.14706069,  0.13139857],\n        [-0.05964733,  0.00562726, -0.22894268,  0.01476171,  0.31069925,\n         -0.03122831,  0.07978658,  0.11710442,  0.3260927 , -0.06615029],\n        [ 0.24498525,  0.2748531 , -0.18655436,  0.27924114, -0.1923579 ,\n         -0.15414783, -0.39558718,  0.22844963,  0.22489889,  0.02552268],\n        [-0.2643462 ,  0.08217974,  0.1632108 ,  0.1135864 , -0.17634082,\n          0.2658674 , -0.20411102,  0.1574752 , -0.20159672, -0.1095659 ],\n        [-0.03541874, -0.2842993 , -0.07164654,  0.12276318, -0.22135763,\n         -0.25085145, -0.12072858,  0.0152721 ,  0.08236348, -0.2194114 ],\n        [ 0.02480161, -0.34108508, -0.33871168, -0.0617777 ,  0.21573263,\n         -0.3244888 ,  0.34836298, -0.00788956, -0.08935914, -0.11946338],\n        [-0.30201474,  0.40571842, -0.00561439, -0.21084428,  0.20609629,\n          0.22030412,  0.29350132,  0.3142231 ,  0.07295778, -0.34568   ],\n        [ 0.01283475, -0.1575242 , -0.23083562,  0.10426048,  0.08260892,\n         -0.3567425 , -0.01355017,  0.08763904, -0.09463537, -0.12275234],\n        [-0.14104865,  0.17612238, -0.23567735, -0.05650649,  0.19057034,\n         -0.04631064, -0.06741305,  0.05281815, -0.3584586 ,  0.23493917],\n        [-0.20777333, -0.13225268, -0.15656716, -0.2890572 ,  0.1794285 ,\n         -0.07581256,  0.17332852, -0.278919  , -0.15133935,  0.02008831],\n        [-0.2607057 ,  0.01796718,  0.05327075, -0.25782993,  0.20788844,\n         -0.12411562, -0.15791598,  0.3182003 , -0.05157677,  0.00433573],\n        [ 0.28568682, -0.12727427,  0.11769318, -0.3264429 ,  0.03643288,\n          0.29382175, -0.17234   , -0.30738905, -0.23251551,  0.02672178],\n        [ 0.21096402,  0.18540645,  0.02513787, -0.0618711 ,  0.26626295,\n          0.17511334,  0.01745676,  0.02410834,  0.26902506, -0.08114482],\n        [ 0.0828999 , -0.2669213 , -0.05287841,  0.22426148, -0.13147676,\n         -0.24112909, -0.19306529,  0.00064216, -0.00659936, -0.05216128],\n        [ 0.11281325,  0.01999195, -0.17303972, -0.26829803,  0.0981245 ,\n         -0.27057353,  0.05312499,  0.20206916,  0.22966883,  0.2541755 ],\n        [ 0.09028651, -0.27267066, -0.34916568,  0.06425121,  0.04875742,\n         -0.18658401, -0.11319084,  0.28579655,  0.33691102,  0.22824717]],\n       dtype=float32)>,\n <tf.Variable 'deep5/bias:0' shape=(10,) dtype=float32, numpy=\n array([-0.05721579, -0.02942119,  0.01578696, -0.0608647 , -0.05113509,\n         0.03929984,  0.04571096, -0.04365196,  0.04142974,  0.04459363],\n       dtype=float32)>,\n <tf.Variable 'combined/kernel:0' shape=(31, 1) dtype=float32, numpy=\n array([[-0.35478908],\n        [ 0.44460577],\n        [ 0.281463  ],\n        [-0.6179217 ],\n        [ 0.4517561 ],\n        [-0.25714314],\n        [-0.28178722],\n        [ 0.6085985 ],\n        [ 0.5212457 ],\n        [ 0.22679923],\n        [-0.4574168 ],\n        [-0.49962676],\n        [-0.48546922],\n        [ 0.17592786],\n        [ 0.16103351],\n        [ 0.17009078],\n        [ 0.07981259],\n        [-0.34947118],\n        [-0.19814688],\n        [ 0.14927898],\n        [ 0.10208069],\n        [-0.16902837],\n        [-0.2445493 ],\n        [ 0.3971468 ],\n        [-0.01840129],\n        [-0.07852241],\n        [ 0.15856028],\n        [ 0.1229197 ],\n        [-0.03834712],\n        [ 0.22328876],\n        [ 0.13141942]], dtype=float32)>,\n <tf.Variable 'combined/bias:0' shape=(1,) dtype=float32, numpy=array([0.07707402], dtype=float32)>]"
     },
     "execution_count": 232,
     "metadata": {},
     "output_type": "execute_result"
    }
   ],
   "source": [
    "model3.weights"
   ],
   "metadata": {
    "collapsed": false
   }
  },
  {
   "cell_type": "code",
   "execution_count": null,
   "outputs": [],
   "source": [],
   "metadata": {
    "collapsed": false
   }
  }
 ],
 "metadata": {
  "kernelspec": {
   "display_name": "Python 3.8.3 ('base')",
   "language": "python",
   "name": "python3"
  },
  "language_info": {
   "codemirror_mode": {
    "name": "ipython",
    "version": 3
   },
   "file_extension": ".py",
   "mimetype": "text/x-python",
   "name": "python",
   "nbconvert_exporter": "python",
   "pygments_lexer": "ipython3",
   "version": "3.8.3"
  },
  "orig_nbformat": 4,
  "vscode": {
   "interpreter": {
    "hash": "5cf3adf616e33df8fa5658772e64b4f0f2254473e5d618a082e9a94e9d74aa87"
   }
  }
 },
 "nbformat": 4,
 "nbformat_minor": 2
}
