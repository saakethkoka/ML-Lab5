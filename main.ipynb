{
 "cells": [
  {
   "cell_type": "code",
   "execution_count": 36,
   "metadata": {},
   "outputs": [],
   "source": [
    "import tensorflow as tf\n",
    "import pandas as pd\n",
    "import numpy as np"
   ]
  },
  {
   "cell_type": "markdown",
   "metadata": {},
   "source": [
    "# Importing the data"
   ]
  },
  {
   "cell_type": "code",
   "execution_count": 37,
   "metadata": {},
   "outputs": [
    {
     "name": "stderr",
     "output_type": "stream",
     "text": [
      "/var/folders/xl/c4sxq2w543df60c_cfh18xj80000gn/T/ipykernel_82640/2471439888.py:1: DtypeWarning: Columns (1,7,8,16,17,18,19,20,35) have mixed types. Specify dtype option on import or set low_memory=False.\n",
      "  data = pd.read_csv('data.csv')\n"
     ]
    }
   ],
   "source": [
    "data = pd.read_csv('data.csv')"
   ]
  },
  {
   "cell_type": "markdown",
   "metadata": {},
   "source": [
    "## Deciding whether to keep or drop data\n",
    "ID -> Drop\n",
    "Client_Income -> Keep\n",
    "Car_Owned -> Keep\n",
    "Bike_Owned -> Keep\n",
    "Active_Loan -> Keep\n",
    "House_Own -> Keep\n",
    "Child_Count -> Keep\n",
    "Credit_Amount-> Keep\n",
    "Loan_Annuity-> Keep\n",
    "Accompany_Client-> Drop\n",
    "Client_Income_Type-> Keep\n",
    "Client_Education-> Keep\n",
    "Client_Marital_Status-> Keep\n",
    "Client_Gender-> Drop\n",
    "Loan_Contract_Type-> Keep \n",
    "Client_Housing_Type -> Drop\n",
    "Population_Region_Relative-> Keep\n",
    "Age_Days-> Keep\n",
    "Employed_Days -> Keep\n",
    "Registration_Days -> Drop\n",
    "ID_Days -> Drop\n",
    "Own_House_Age -> Keep\n",
    "Mobile_Tag -> Drop\n",
    "Homephone_Tag -> Drop\n",
    "Workphone_Working -> Drop\n",
    "Client_Occupation -> Keep\n",
    "Client_Family_Members -> Keep\n",
    "Cleint_City_Rating -> Drop\n",
    "Application_Process_Day -> Drop\n",
    "Application_Process_Hour -> Drop\n",
    "Client_Permanent_Match_Tag -> Drop\n",
    "Client_Contact_Work_Tag -> Drop\n",
    "Type_Organization -> Drop\n",
    "Score_Source_1 -> Keep\n",
    "Score_Source_2 -> Keep\n",
    "Score_Source_3 -> Keep\n",
    "Social_Circle_Default -> Drop\n",
    "Phone_Change -> Drop\n",
    "Credit_Bureau -> Drop\n",
    "Default -> Target Class"
   ]
  },
  {
   "cell_type": "code",
   "execution_count": 38,
   "metadata": {},
   "outputs": [],
   "source": [
    "drop_cols = [\"ID\", \"Accompany_Client\", \"Client_Gender\", \"Client_Housing_Type\", \"Registration_Days\", \"ID_Days\",\n",
    " \"Mobile_Tag\", \"Homephone_Tag\", \"Workphone_Working\", \"Cleint_City_Rating\", \"Application_Process_Day\", \"Application_Process_Hour\",\n",
    " \"Client_Permanent_Match_Tag\", \"Client_Contact_Work_Tag\", \"Type_Organization\", \"Social_Circle_Default\", \"Phone_Change\",\"Credit_Bureau\"]\n",
    "\n",
    "data.drop(drop_cols, axis=1, inplace=True)"
   ]
  },
  {
   "cell_type": "code",
   "execution_count": 39,
   "metadata": {},
   "outputs": [
    {
     "data": {
      "text/plain": "       Client_Income  Car_Owned  Bike_Owned  Active_Loan  House_Own  \\\n0               6750        0.0         0.0          1.0        0.0   \n1              20250        1.0         0.0          1.0        NaN   \n2              18000        0.0         0.0          1.0        0.0   \n3              15750        0.0         0.0          1.0        1.0   \n4              33750        1.0         0.0          1.0        0.0   \n...              ...        ...         ...          ...        ...   \n121851         29250        0.0         0.0          NaN        1.0   \n121852         15750        0.0         1.0          1.0        0.0   \n121853          8100        0.0         1.0          0.0        1.0   \n121854         38250        1.0         1.0          0.0        1.0   \n121855          9000        1.0         1.0          1.0        1.0   \n\n        Child_Count Credit_Amount Loan_Annuity Client_Income_Type  \\\n0               0.0      61190.55      3416.85         Commercial   \n1               0.0         15282      1826.55            Service   \n2               1.0      59527.35       2788.2            Service   \n3               0.0       53870.4      2295.45            Retired   \n4               2.0      133988.4      3547.35         Commercial   \n...             ...           ...          ...                ...   \n121851          0.0        107820       3165.3            Service   \n121852          0.0        104256      3388.05         Commercial   \n121853          1.0       55107.9      2989.35           Govt Job   \n121854          0.0         45000      2719.35            Service   \n121855          1.0      62428.95      4201.65         Commercial   \n\n          Client_Education  ... Population_Region_Relative Age_Days  \\\n0                Secondary  ...                   0.028663    13957   \n1               Graduation  ...                   0.008575    14162   \n2       Graduation dropout  ...                     0.0228    16790   \n3                Secondary  ...                   0.010556    23195   \n4                Secondary  ...                   0.020713    11366   \n...                    ...  ...                        ...      ...   \n121851           Secondary  ...                   0.031329  12889.0   \n121852          Graduation  ...                   0.018209   8648.0   \n121853           Secondary  ...                   0.008068   9152.0   \n121854          Graduation  ...                   0.028663  10290.0   \n121855           Secondary  ...                   0.018029  14772.0   \n\n       Employed_Days Own_House_Age Client_Occupation  Client_Family_Members  \\\n0               1062           NaN             Sales                    2.0   \n1               4129           0.0               NaN                    2.0   \n2               5102           NaN     Realty agents                    2.0   \n3             365243           NaN               NaN                    2.0   \n4               2977           6.0          Laborers                    4.0   \n...              ...           ...               ...                    ...   \n121851        2863.0           NaN          Laborers                    2.0   \n121852         636.0           NaN             Sales                    2.0   \n121853        1623.0           NaN   High skill tech                    3.0   \n121854         847.0           4.0             Sales                    2.0   \n121855         498.0           6.0          Managers                    2.0   \n\n       Score_Source_1  Score_Source_2  Score_Source_3  Default  \n0            0.568066        0.478787             NaN        0  \n1            0.563360        0.215068             NaN        0  \n2                 NaN        0.552795        0.329655        0  \n3                 NaN        0.135182        0.631355        0  \n4            0.508199        0.301182        0.355639        0  \n...               ...             ...             ...      ...  \n121851            NaN        0.173527        0.184116        1  \n121852            NaN        0.371559        0.406617        0  \n121853       0.169049        0.048079             NaN        0  \n121854       0.182737        0.103538        0.077499        0  \n121855            NaN        0.556414        0.298595        0  \n\n[121856 rows x 22 columns]",
      "text/html": "<div>\n<style scoped>\n    .dataframe tbody tr th:only-of-type {\n        vertical-align: middle;\n    }\n\n    .dataframe tbody tr th {\n        vertical-align: top;\n    }\n\n    .dataframe thead th {\n        text-align: right;\n    }\n</style>\n<table border=\"1\" class=\"dataframe\">\n  <thead>\n    <tr style=\"text-align: right;\">\n      <th></th>\n      <th>Client_Income</th>\n      <th>Car_Owned</th>\n      <th>Bike_Owned</th>\n      <th>Active_Loan</th>\n      <th>House_Own</th>\n      <th>Child_Count</th>\n      <th>Credit_Amount</th>\n      <th>Loan_Annuity</th>\n      <th>Client_Income_Type</th>\n      <th>Client_Education</th>\n      <th>...</th>\n      <th>Population_Region_Relative</th>\n      <th>Age_Days</th>\n      <th>Employed_Days</th>\n      <th>Own_House_Age</th>\n      <th>Client_Occupation</th>\n      <th>Client_Family_Members</th>\n      <th>Score_Source_1</th>\n      <th>Score_Source_2</th>\n      <th>Score_Source_3</th>\n      <th>Default</th>\n    </tr>\n  </thead>\n  <tbody>\n    <tr>\n      <th>0</th>\n      <td>6750</td>\n      <td>0.0</td>\n      <td>0.0</td>\n      <td>1.0</td>\n      <td>0.0</td>\n      <td>0.0</td>\n      <td>61190.55</td>\n      <td>3416.85</td>\n      <td>Commercial</td>\n      <td>Secondary</td>\n      <td>...</td>\n      <td>0.028663</td>\n      <td>13957</td>\n      <td>1062</td>\n      <td>NaN</td>\n      <td>Sales</td>\n      <td>2.0</td>\n      <td>0.568066</td>\n      <td>0.478787</td>\n      <td>NaN</td>\n      <td>0</td>\n    </tr>\n    <tr>\n      <th>1</th>\n      <td>20250</td>\n      <td>1.0</td>\n      <td>0.0</td>\n      <td>1.0</td>\n      <td>NaN</td>\n      <td>0.0</td>\n      <td>15282</td>\n      <td>1826.55</td>\n      <td>Service</td>\n      <td>Graduation</td>\n      <td>...</td>\n      <td>0.008575</td>\n      <td>14162</td>\n      <td>4129</td>\n      <td>0.0</td>\n      <td>NaN</td>\n      <td>2.0</td>\n      <td>0.563360</td>\n      <td>0.215068</td>\n      <td>NaN</td>\n      <td>0</td>\n    </tr>\n    <tr>\n      <th>2</th>\n      <td>18000</td>\n      <td>0.0</td>\n      <td>0.0</td>\n      <td>1.0</td>\n      <td>0.0</td>\n      <td>1.0</td>\n      <td>59527.35</td>\n      <td>2788.2</td>\n      <td>Service</td>\n      <td>Graduation dropout</td>\n      <td>...</td>\n      <td>0.0228</td>\n      <td>16790</td>\n      <td>5102</td>\n      <td>NaN</td>\n      <td>Realty agents</td>\n      <td>2.0</td>\n      <td>NaN</td>\n      <td>0.552795</td>\n      <td>0.329655</td>\n      <td>0</td>\n    </tr>\n    <tr>\n      <th>3</th>\n      <td>15750</td>\n      <td>0.0</td>\n      <td>0.0</td>\n      <td>1.0</td>\n      <td>1.0</td>\n      <td>0.0</td>\n      <td>53870.4</td>\n      <td>2295.45</td>\n      <td>Retired</td>\n      <td>Secondary</td>\n      <td>...</td>\n      <td>0.010556</td>\n      <td>23195</td>\n      <td>365243</td>\n      <td>NaN</td>\n      <td>NaN</td>\n      <td>2.0</td>\n      <td>NaN</td>\n      <td>0.135182</td>\n      <td>0.631355</td>\n      <td>0</td>\n    </tr>\n    <tr>\n      <th>4</th>\n      <td>33750</td>\n      <td>1.0</td>\n      <td>0.0</td>\n      <td>1.0</td>\n      <td>0.0</td>\n      <td>2.0</td>\n      <td>133988.4</td>\n      <td>3547.35</td>\n      <td>Commercial</td>\n      <td>Secondary</td>\n      <td>...</td>\n      <td>0.020713</td>\n      <td>11366</td>\n      <td>2977</td>\n      <td>6.0</td>\n      <td>Laborers</td>\n      <td>4.0</td>\n      <td>0.508199</td>\n      <td>0.301182</td>\n      <td>0.355639</td>\n      <td>0</td>\n    </tr>\n    <tr>\n      <th>...</th>\n      <td>...</td>\n      <td>...</td>\n      <td>...</td>\n      <td>...</td>\n      <td>...</td>\n      <td>...</td>\n      <td>...</td>\n      <td>...</td>\n      <td>...</td>\n      <td>...</td>\n      <td>...</td>\n      <td>...</td>\n      <td>...</td>\n      <td>...</td>\n      <td>...</td>\n      <td>...</td>\n      <td>...</td>\n      <td>...</td>\n      <td>...</td>\n      <td>...</td>\n      <td>...</td>\n    </tr>\n    <tr>\n      <th>121851</th>\n      <td>29250</td>\n      <td>0.0</td>\n      <td>0.0</td>\n      <td>NaN</td>\n      <td>1.0</td>\n      <td>0.0</td>\n      <td>107820</td>\n      <td>3165.3</td>\n      <td>Service</td>\n      <td>Secondary</td>\n      <td>...</td>\n      <td>0.031329</td>\n      <td>12889.0</td>\n      <td>2863.0</td>\n      <td>NaN</td>\n      <td>Laborers</td>\n      <td>2.0</td>\n      <td>NaN</td>\n      <td>0.173527</td>\n      <td>0.184116</td>\n      <td>1</td>\n    </tr>\n    <tr>\n      <th>121852</th>\n      <td>15750</td>\n      <td>0.0</td>\n      <td>1.0</td>\n      <td>1.0</td>\n      <td>0.0</td>\n      <td>0.0</td>\n      <td>104256</td>\n      <td>3388.05</td>\n      <td>Commercial</td>\n      <td>Graduation</td>\n      <td>...</td>\n      <td>0.018209</td>\n      <td>8648.0</td>\n      <td>636.0</td>\n      <td>NaN</td>\n      <td>Sales</td>\n      <td>2.0</td>\n      <td>NaN</td>\n      <td>0.371559</td>\n      <td>0.406617</td>\n      <td>0</td>\n    </tr>\n    <tr>\n      <th>121853</th>\n      <td>8100</td>\n      <td>0.0</td>\n      <td>1.0</td>\n      <td>0.0</td>\n      <td>1.0</td>\n      <td>1.0</td>\n      <td>55107.9</td>\n      <td>2989.35</td>\n      <td>Govt Job</td>\n      <td>Secondary</td>\n      <td>...</td>\n      <td>0.008068</td>\n      <td>9152.0</td>\n      <td>1623.0</td>\n      <td>NaN</td>\n      <td>High skill tech</td>\n      <td>3.0</td>\n      <td>0.169049</td>\n      <td>0.048079</td>\n      <td>NaN</td>\n      <td>0</td>\n    </tr>\n    <tr>\n      <th>121854</th>\n      <td>38250</td>\n      <td>1.0</td>\n      <td>1.0</td>\n      <td>0.0</td>\n      <td>1.0</td>\n      <td>0.0</td>\n      <td>45000</td>\n      <td>2719.35</td>\n      <td>Service</td>\n      <td>Graduation</td>\n      <td>...</td>\n      <td>0.028663</td>\n      <td>10290.0</td>\n      <td>847.0</td>\n      <td>4.0</td>\n      <td>Sales</td>\n      <td>2.0</td>\n      <td>0.182737</td>\n      <td>0.103538</td>\n      <td>0.077499</td>\n      <td>0</td>\n    </tr>\n    <tr>\n      <th>121855</th>\n      <td>9000</td>\n      <td>1.0</td>\n      <td>1.0</td>\n      <td>1.0</td>\n      <td>1.0</td>\n      <td>1.0</td>\n      <td>62428.95</td>\n      <td>4201.65</td>\n      <td>Commercial</td>\n      <td>Secondary</td>\n      <td>...</td>\n      <td>0.018029</td>\n      <td>14772.0</td>\n      <td>498.0</td>\n      <td>6.0</td>\n      <td>Managers</td>\n      <td>2.0</td>\n      <td>NaN</td>\n      <td>0.556414</td>\n      <td>0.298595</td>\n      <td>0</td>\n    </tr>\n  </tbody>\n</table>\n<p>121856 rows × 22 columns</p>\n</div>"
     },
     "execution_count": 39,
     "metadata": {},
     "output_type": "execute_result"
    }
   ],
   "source": [
    "data"
   ]
  },
  {
   "cell_type": "markdown",
   "metadata": {},
   "source": [
    "### How much of each of the remaining columns is missing?"
   ]
  },
  {
   "cell_type": "code",
   "execution_count": 40,
   "metadata": {},
   "outputs": [
    {
     "name": "stdout",
     "output_type": "stream",
     "text": [
      "Client_Income: 3%\n",
      "Car_Owned: 3%\n",
      "Bike_Owned: 3%\n",
      "Active_Loan: 3%\n",
      "House_Own: 3%\n",
      "Child_Count: 3%\n",
      "Credit_Amount: 3%\n",
      "Loan_Annuity: 4%\n",
      "Client_Income_Type: 3%\n",
      "Client_Education: 3%\n",
      "Client_Marital_Status: 3%\n",
      "Loan_Contract_Type: 3%\n",
      "Population_Region_Relative: 4%\n",
      "Age_Days: 3%\n",
      "Employed_Days: 3%\n",
      "Own_House_Age: 66%\n",
      "Client_Occupation: 34%\n",
      "Client_Family_Members: 2%\n",
      "Score_Source_1: 56%\n",
      "Score_Source_2: 5%\n",
      "Score_Source_3: 22%\n",
      "Default: 0%\n"
     ]
    }
   ],
   "source": [
    "for col in data.columns:\n",
    "    pct_missing = np.mean(data[col].isnull())\n",
    "    print('{}: {}%'.format(col, round(pct_missing*100)))"
   ]
  },
  {
   "cell_type": "markdown",
   "metadata": {},
   "source": [
    "Some of these columns have a lot of data missing. And simply taking out the missing rows from these columns will drastically reduce the size of our dataset. For this reason we are choosing to remove the features with more than 10% missing data."
   ]
  },
  {
   "cell_type": "code",
   "execution_count": 41,
   "metadata": {},
   "outputs": [],
   "source": [
    "drop_cols = [\"Own_House_Age\", \"Client_Occupation\", \"Score_Source_1\", \"Score_Source_3\"]\n",
    "data.drop(drop_cols, axis=1, inplace=True)"
   ]
  },
  {
   "cell_type": "code",
   "execution_count": 42,
   "metadata": {},
   "outputs": [],
   "source": [
    "# drop na:\n",
    "data.dropna(inplace=True)"
   ]
  },
  {
   "cell_type": "code",
   "execution_count": 43,
   "metadata": {},
   "outputs": [
    {
     "data": {
      "text/plain": "       Client_Income  Car_Owned  Bike_Owned  Active_Loan  House_Own  \\\n0               6750        0.0         0.0          1.0        0.0   \n2              18000        0.0         0.0          1.0        0.0   \n3              15750        0.0         0.0          1.0        1.0   \n4              33750        1.0         0.0          1.0        0.0   \n5              11250        0.0         1.0          1.0        1.0   \n...              ...        ...         ...          ...        ...   \n121850         12150        0.0         0.0          1.0        0.0   \n121852         15750        0.0         1.0          1.0        0.0   \n121853          8100        0.0         1.0          0.0        1.0   \n121854         38250        1.0         1.0          0.0        1.0   \n121855          9000        1.0         1.0          1.0        1.0   \n\n        Child_Count Credit_Amount Loan_Annuity Client_Income_Type  \\\n0               0.0      61190.55      3416.85         Commercial   \n2               1.0      59527.35       2788.2            Service   \n3               0.0       53870.4      2295.45            Retired   \n4               2.0      133988.4      3547.35         Commercial   \n5               1.0         13752       653.85            Service   \n...             ...           ...          ...                ...   \n121850          0.0         78192      2383.65            Retired   \n121852          0.0        104256      3388.05         Commercial   \n121853          1.0       55107.9      2989.35           Govt Job   \n121854          0.0         45000      2719.35            Service   \n121855          1.0      62428.95      4201.65         Commercial   \n\n          Client_Education Client_Marital_Status Loan_Contract_Type  \\\n0                Secondary                     M                 CL   \n2       Graduation dropout                     W                 CL   \n3                Secondary                     M                 CL   \n4                Secondary                     M                 CL   \n5                Secondary                     W                 CL   \n...                    ...                   ...                ...   \n121850           Secondary                     S                 CL   \n121852          Graduation                     M                 CL   \n121853           Secondary                     M                 CL   \n121854          Graduation                     M                 CL   \n121855           Secondary                     S                 CL   \n\n       Population_Region_Relative Age_Days Employed_Days  \\\n0                        0.028663    13957          1062   \n2                          0.0228    16790          5102   \n3                        0.010556    23195        365243   \n4                        0.020713    11366          2977   \n5                        0.019101    13881          1184   \n...                           ...      ...           ...   \n121850                    0.01885  23943.0      365243.0   \n121852                   0.018209   8648.0         636.0   \n121853                   0.008068   9152.0        1623.0   \n121854                   0.028663  10290.0         847.0   \n121855                   0.018029  14772.0         498.0   \n\n        Client_Family_Members  Score_Source_2  Default  \n0                         2.0        0.478787        0  \n2                         2.0        0.552795        0  \n3                         2.0        0.135182        0  \n4                         4.0        0.301182        0  \n5                         2.0        0.697928        0  \n...                       ...             ...      ...  \n121850                    1.0        0.678249        0  \n121852                    2.0        0.371559        0  \n121853                    3.0        0.048079        0  \n121854                    2.0        0.103538        0  \n121855                    2.0        0.556414        0  \n\n[70918 rows x 18 columns]",
      "text/html": "<div>\n<style scoped>\n    .dataframe tbody tr th:only-of-type {\n        vertical-align: middle;\n    }\n\n    .dataframe tbody tr th {\n        vertical-align: top;\n    }\n\n    .dataframe thead th {\n        text-align: right;\n    }\n</style>\n<table border=\"1\" class=\"dataframe\">\n  <thead>\n    <tr style=\"text-align: right;\">\n      <th></th>\n      <th>Client_Income</th>\n      <th>Car_Owned</th>\n      <th>Bike_Owned</th>\n      <th>Active_Loan</th>\n      <th>House_Own</th>\n      <th>Child_Count</th>\n      <th>Credit_Amount</th>\n      <th>Loan_Annuity</th>\n      <th>Client_Income_Type</th>\n      <th>Client_Education</th>\n      <th>Client_Marital_Status</th>\n      <th>Loan_Contract_Type</th>\n      <th>Population_Region_Relative</th>\n      <th>Age_Days</th>\n      <th>Employed_Days</th>\n      <th>Client_Family_Members</th>\n      <th>Score_Source_2</th>\n      <th>Default</th>\n    </tr>\n  </thead>\n  <tbody>\n    <tr>\n      <th>0</th>\n      <td>6750</td>\n      <td>0.0</td>\n      <td>0.0</td>\n      <td>1.0</td>\n      <td>0.0</td>\n      <td>0.0</td>\n      <td>61190.55</td>\n      <td>3416.85</td>\n      <td>Commercial</td>\n      <td>Secondary</td>\n      <td>M</td>\n      <td>CL</td>\n      <td>0.028663</td>\n      <td>13957</td>\n      <td>1062</td>\n      <td>2.0</td>\n      <td>0.478787</td>\n      <td>0</td>\n    </tr>\n    <tr>\n      <th>2</th>\n      <td>18000</td>\n      <td>0.0</td>\n      <td>0.0</td>\n      <td>1.0</td>\n      <td>0.0</td>\n      <td>1.0</td>\n      <td>59527.35</td>\n      <td>2788.2</td>\n      <td>Service</td>\n      <td>Graduation dropout</td>\n      <td>W</td>\n      <td>CL</td>\n      <td>0.0228</td>\n      <td>16790</td>\n      <td>5102</td>\n      <td>2.0</td>\n      <td>0.552795</td>\n      <td>0</td>\n    </tr>\n    <tr>\n      <th>3</th>\n      <td>15750</td>\n      <td>0.0</td>\n      <td>0.0</td>\n      <td>1.0</td>\n      <td>1.0</td>\n      <td>0.0</td>\n      <td>53870.4</td>\n      <td>2295.45</td>\n      <td>Retired</td>\n      <td>Secondary</td>\n      <td>M</td>\n      <td>CL</td>\n      <td>0.010556</td>\n      <td>23195</td>\n      <td>365243</td>\n      <td>2.0</td>\n      <td>0.135182</td>\n      <td>0</td>\n    </tr>\n    <tr>\n      <th>4</th>\n      <td>33750</td>\n      <td>1.0</td>\n      <td>0.0</td>\n      <td>1.0</td>\n      <td>0.0</td>\n      <td>2.0</td>\n      <td>133988.4</td>\n      <td>3547.35</td>\n      <td>Commercial</td>\n      <td>Secondary</td>\n      <td>M</td>\n      <td>CL</td>\n      <td>0.020713</td>\n      <td>11366</td>\n      <td>2977</td>\n      <td>4.0</td>\n      <td>0.301182</td>\n      <td>0</td>\n    </tr>\n    <tr>\n      <th>5</th>\n      <td>11250</td>\n      <td>0.0</td>\n      <td>1.0</td>\n      <td>1.0</td>\n      <td>1.0</td>\n      <td>1.0</td>\n      <td>13752</td>\n      <td>653.85</td>\n      <td>Service</td>\n      <td>Secondary</td>\n      <td>W</td>\n      <td>CL</td>\n      <td>0.019101</td>\n      <td>13881</td>\n      <td>1184</td>\n      <td>2.0</td>\n      <td>0.697928</td>\n      <td>0</td>\n    </tr>\n    <tr>\n      <th>...</th>\n      <td>...</td>\n      <td>...</td>\n      <td>...</td>\n      <td>...</td>\n      <td>...</td>\n      <td>...</td>\n      <td>...</td>\n      <td>...</td>\n      <td>...</td>\n      <td>...</td>\n      <td>...</td>\n      <td>...</td>\n      <td>...</td>\n      <td>...</td>\n      <td>...</td>\n      <td>...</td>\n      <td>...</td>\n      <td>...</td>\n    </tr>\n    <tr>\n      <th>121850</th>\n      <td>12150</td>\n      <td>0.0</td>\n      <td>0.0</td>\n      <td>1.0</td>\n      <td>0.0</td>\n      <td>0.0</td>\n      <td>78192</td>\n      <td>2383.65</td>\n      <td>Retired</td>\n      <td>Secondary</td>\n      <td>S</td>\n      <td>CL</td>\n      <td>0.01885</td>\n      <td>23943.0</td>\n      <td>365243.0</td>\n      <td>1.0</td>\n      <td>0.678249</td>\n      <td>0</td>\n    </tr>\n    <tr>\n      <th>121852</th>\n      <td>15750</td>\n      <td>0.0</td>\n      <td>1.0</td>\n      <td>1.0</td>\n      <td>0.0</td>\n      <td>0.0</td>\n      <td>104256</td>\n      <td>3388.05</td>\n      <td>Commercial</td>\n      <td>Graduation</td>\n      <td>M</td>\n      <td>CL</td>\n      <td>0.018209</td>\n      <td>8648.0</td>\n      <td>636.0</td>\n      <td>2.0</td>\n      <td>0.371559</td>\n      <td>0</td>\n    </tr>\n    <tr>\n      <th>121853</th>\n      <td>8100</td>\n      <td>0.0</td>\n      <td>1.0</td>\n      <td>0.0</td>\n      <td>1.0</td>\n      <td>1.0</td>\n      <td>55107.9</td>\n      <td>2989.35</td>\n      <td>Govt Job</td>\n      <td>Secondary</td>\n      <td>M</td>\n      <td>CL</td>\n      <td>0.008068</td>\n      <td>9152.0</td>\n      <td>1623.0</td>\n      <td>3.0</td>\n      <td>0.048079</td>\n      <td>0</td>\n    </tr>\n    <tr>\n      <th>121854</th>\n      <td>38250</td>\n      <td>1.0</td>\n      <td>1.0</td>\n      <td>0.0</td>\n      <td>1.0</td>\n      <td>0.0</td>\n      <td>45000</td>\n      <td>2719.35</td>\n      <td>Service</td>\n      <td>Graduation</td>\n      <td>M</td>\n      <td>CL</td>\n      <td>0.028663</td>\n      <td>10290.0</td>\n      <td>847.0</td>\n      <td>2.0</td>\n      <td>0.103538</td>\n      <td>0</td>\n    </tr>\n    <tr>\n      <th>121855</th>\n      <td>9000</td>\n      <td>1.0</td>\n      <td>1.0</td>\n      <td>1.0</td>\n      <td>1.0</td>\n      <td>1.0</td>\n      <td>62428.95</td>\n      <td>4201.65</td>\n      <td>Commercial</td>\n      <td>Secondary</td>\n      <td>S</td>\n      <td>CL</td>\n      <td>0.018029</td>\n      <td>14772.0</td>\n      <td>498.0</td>\n      <td>2.0</td>\n      <td>0.556414</td>\n      <td>0</td>\n    </tr>\n  </tbody>\n</table>\n<p>70918 rows × 18 columns</p>\n</div>"
     },
     "execution_count": 43,
     "metadata": {},
     "output_type": "execute_result"
    }
   ],
   "source": [
    "data"
   ]
  },
  {
   "cell_type": "markdown",
   "metadata": {},
   "source": [
    "## Describing the Dataset:\n",
    "\n",
    "Clinet_Income: Client Income in $, Integer\n",
    "\n",
    "Car_Owned: Does client own another car?, Categorical 1 for Yes 0 for No\n",
    "\n",
    "Bike_Owned: Does client own a Bike?, Categorical 1 for Yes 0 for No\n",
    "\n",
    "Active_Loan: Does client have another active loan?, Categorical 1 for Yes 0 for No\n",
    "\n",
    "House_Own: Does client own a house?, Categorical 1 for Yes 0 for No\n",
    "\n",
    "Child_Count: How many children does the client own?, Integer\n",
    "\n",
    "Credit_Amount: Credit amount of the loan in $, Integer\n",
    "\n",
    "Loan_Annuity: Loan annuity in $, Integer\n",
    "\n",
    "Client_Income_Type: "
   ]
  },
  {
   "cell_type": "markdown",
   "metadata": {},
   "source": [
    "## Describing the Dataset:\n",
    "\n",
    "Clinet_Income: Client Income in $, Integer\n",
    "\n",
    "Car_Owned: Does client own another car?, Categorical 1 for Yes 0 for No\n",
    "\n",
    "Bike_Owned: Does client own a Bike?, Categorical 1 for Yes 0 for No\n",
    "\n",
    "Active_Loan: Does client have another active loan?, Categorical 1 for Yes 0 for No\n",
    "\n",
    "House_Own: Does client own a house?, Categorical 1 for Yes 0 for No\n",
    "\n",
    "Child_Count: How many children does the client own?, Integer\n",
    "\n",
    "Credit_Amount: Credit amount of the loan in $, Integer\n",
    "\n",
    "Loan_Annuity: Loan annuity in $, Integer\n",
    "\n",
    "Client_Income_Type: Type of income of the client, Categorical\n",
    "\n",
    "Client_Education: Education level of the client, Categorical\n",
    "\n",
    "Client_Marital_Status: Marital status of the client, Categorical\n",
    "\n",
    "Loan_Contract_Type: Type of loan contract, Categorical\n",
    "\n",
    "Population_Region_Relative: Normalized population of region where client lives (higher number means the client lives in more populated region), Float\n",
    "\n",
    "Age_Days: Age of the client in days, Integer\n",
    "\n",
    "Employed_Days: How many days has the client been employed? Integer\n",
    "\n",
    "Clinet_Family_Members: How many family members does the client have? Integer\n",
    "\n",
    "Score_Source_2: Normalized score from external data source, Float\n",
    "\n",
    "Default: Did the client default on the loan?, Categorical 1 for Yes 0 for No"
   ]
  },
  {
   "cell_type": "code",
   "execution_count": 44,
   "metadata": {},
   "outputs": [
    {
     "data": {
      "text/plain": "Client_Income                  object\nCar_Owned                     float64\nBike_Owned                    float64\nActive_Loan                   float64\nHouse_Own                     float64\nChild_Count                   float64\nCredit_Amount                  object\nLoan_Annuity                   object\nClient_Income_Type             object\nClient_Education               object\nClient_Marital_Status          object\nLoan_Contract_Type             object\nPopulation_Region_Relative     object\nAge_Days                       object\nEmployed_Days                  object\nClient_Family_Members         float64\nScore_Source_2                float64\nDefault                         int64\ndtype: object"
     },
     "execution_count": 44,
     "metadata": {},
     "output_type": "execute_result"
    }
   ],
   "source": [
    "data.dtypes"
   ]
  },
  {
   "cell_type": "code",
   "execution_count": 45,
   "metadata": {},
   "outputs": [
    {
     "name": "stdout",
     "output_type": "stream",
     "text": [
      "70918\n",
      "70882\n"
     ]
    }
   ],
   "source": [
    "columns = [\"Employed_Days\", \"Age_Days\", \"Client_Income\", \"Credit_Amount\", \"Loan_Annuity\", \"Population_Region_Relative\"]\n",
    "\n",
    "# Drop all rows where the column has non-numeric values:\n",
    "print(len(data))\n",
    "for col in columns:\n",
    "    data = data[data[col] != 'x']\n",
    "    data = data[data[col] != '$']\n",
    "    data = data[data[col] != '@']\n",
    "    data = data[data[col] != '#']\n",
    "    data = data[data[col] != '#VALUE!']\n",
    "print(len(data))\n",
    "\n",
    "# Setting datatype of these columns to float64:\n",
    "for col in columns:\n",
    "    data[col] = data[col].astype('float64')"
   ]
  },
  {
   "cell_type": "code",
   "execution_count": 46,
   "metadata": {},
   "outputs": [
    {
     "data": {
      "text/plain": "Client_Income                 float64\nCar_Owned                     float64\nBike_Owned                    float64\nActive_Loan                   float64\nHouse_Own                     float64\nChild_Count                   float64\nCredit_Amount                 float64\nLoan_Annuity                  float64\nClient_Income_Type             object\nClient_Education               object\nClient_Marital_Status          object\nLoan_Contract_Type             object\nPopulation_Region_Relative    float64\nAge_Days                      float64\nEmployed_Days                 float64\nClient_Family_Members         float64\nScore_Source_2                float64\nDefault                         int64\ndtype: object"
     },
     "execution_count": 46,
     "metadata": {},
     "output_type": "execute_result"
    }
   ],
   "source": [
    "data.dtypes"
   ]
  },
  {
   "cell_type": "code",
   "execution_count": 50,
   "metadata": {},
   "outputs": [],
   "source": [
    "categorical_headers = [\"Client_Income_Type\", \"Client_Education\", \"Client_Marital_Status\", \"Loan_Contract_Type\"]\n",
    "numerical_headers = [\"Client_Income\",\"Credit_Amount\",\"Loan_Annuity\",\"Population_Region_Relative\",\"Age_Days\",\"Employed_Days\",\"Client_Family_Members\"]"
   ]
  },
  {
   "cell_type": "markdown",
   "metadata": {},
   "source": []
  },
  {
   "cell_type": "code",
   "execution_count": 48,
   "metadata": {},
   "outputs": [],
   "source": [
    "# drop categorical columns:\n",
    "#data.drop(categorical_columns, axis=1, inplace=True)"
   ]
  },
  {
   "cell_type": "code",
   "execution_count": 49,
   "metadata": {},
   "outputs": [
    {
     "data": {
      "text/plain": "Client_Income                 float64\nCar_Owned                     float64\nBike_Owned                    float64\nActive_Loan                   float64\nHouse_Own                     float64\nChild_Count                   float64\nCredit_Amount                 float64\nLoan_Annuity                  float64\nClient_Income_Type             object\nClient_Education               object\nClient_Marital_Status          object\nLoan_Contract_Type             object\nPopulation_Region_Relative    float64\nAge_Days                      float64\nEmployed_Days                 float64\nClient_Family_Members         float64\nScore_Source_2                float64\nDefault                         int64\ndtype: object"
     },
     "execution_count": 49,
     "metadata": {},
     "output_type": "execute_result"
    }
   ],
   "source": [
    "data.dtypes"
   ]
  },
  {
   "cell_type": "code",
   "execution_count": 51,
   "outputs": [
    {
     "data": {
      "text/plain": "0    65174\n1     5708\nName: Default, dtype: int64"
     },
     "execution_count": 51,
     "metadata": {},
     "output_type": "execute_result"
    }
   ],
   "source": [
    "data.Default.value_counts()"
   ],
   "metadata": {
    "collapsed": false
   }
  },
  {
   "cell_type": "code",
   "execution_count": 53,
   "outputs": [],
   "source": [
    "target = data[\"Default\"]\n",
    "features = data.drop(columns=['Default'])"
   ],
   "metadata": {
    "collapsed": false
   }
  },
  {
   "cell_type": "code",
   "execution_count": 55,
   "outputs": [
    {
     "data": {
      "text/plain": "array([[6750.0, 0.0, 0.0, ..., 1062.0, 2.0, 0.47878667],\n       [18000.0, 0.0, 0.0, ..., 5102.0, 2.0, 0.552794972],\n       [15750.0, 0.0, 0.0, ..., 365243.0, 2.0, 0.135182337],\n       ...,\n       [8100.0, 0.0, 1.0, ..., 1623.0, 3.0, 0.048078884],\n       [38250.0, 1.0, 1.0, ..., 847.0, 2.0, 0.103537773],\n       [9000.0, 1.0, 1.0, ..., 498.0, 2.0, 0.55641409]], dtype=object)"
     },
     "execution_count": 55,
     "metadata": {},
     "output_type": "execute_result"
    }
   ],
   "source": [],
   "metadata": {
    "collapsed": false
   }
  },
  {
   "cell_type": "code",
   "execution_count": 33,
   "metadata": {},
   "outputs": [
    {
     "data": {
      "text/plain": "array([[-0.81195827, -0.722962  , -0.70501289, ..., -0.16649779,\n        -0.05701894, -0.29594077],\n       [ 0.08657075, -0.722962  , -0.70501289, ..., -0.16649779,\n         0.05261797, -0.29594077],\n       [-0.09313505, -0.722962  , -0.70501289, ..., -0.16649779,\n        -0.5660391 , -0.29594077],\n       ...,\n       [-0.70413479, -0.722962  ,  1.41841379, ...,  0.92899061,\n        -0.69507534, -0.29594077],\n       [ 1.70392299,  1.38319856,  1.41841379, ..., -0.16649779,\n        -0.61291779, -0.29594077],\n       [-0.63225247,  1.38319856,  1.41841379, ..., -0.16649779,\n         0.05797938, -0.29594077]])"
     },
     "execution_count": 33,
     "metadata": {},
     "output_type": "execute_result"
    }
   ],
   "source": [
    "from sklearn.preprocessing import LabelEncoder\n",
    "from sklearn.preprocessing import StandardScaler\n",
    "from sklearn.compose import ColumnTransformer\n",
    "from sklearn.pipeline import Pipeline\n",
    "from sklearn.compose import ColumnTransformer\n",
    "from sklearn.model_selection import StratifiedKFold\n",
    "from sklearn.model_selection import cross_val_score\n",
    "numeric_transformer = Pipeline(\n",
    "    steps=[(\"scaler\", StandardScaler())]\n",
    ")\n",
    "\n",
    "categorical_transformer = LabelEncoder(handle_unknown=\"ignore\")\n",
    "\n",
    "preprocessor = ColumnTransformer(\n",
    "    transformers=[\n",
    "        (\"num\", numeric_transformer, numerical_headers),\n",
    "        (\"cat\", categorical_transformer, categorical_headers),\n",
    "    ]\n",
    ")\n",
    "skf = StratifiedKFold(n_splits=10,shuffle=True,random_state=42)\n",
    "from tensorflow.keras.wrappers.scikit_learn import KerasClassifier\n",
    "#wrapped_model = KerasClasssifier(build_fn=create_model,verbose=0)\n",
    "pipeline = Pipeline(\n",
    "    steps=[(\"preprocessor\", preprocessor), (\"classifier\", clf)]\n",
    ")\n",
    "cv_results = cross_val_score(pipeline, # Pipeline\n",
    "                             features, # Feature matrix\n",
    "                             target, # Target vector\n",
    "                             cv=skf, # Cross-validation technique\n",
    "                             scoring=\"accuracy\", # Loss function\n",
    "                             n_jobs=-1) # Use all CPU cores\n"
   ]
  }
 ],
 "metadata": {
  "kernelspec": {
   "display_name": "Python 3.8.10 64-bit",
   "language": "python",
   "name": "python3"
  },
  "language_info": {
   "codemirror_mode": {
    "name": "ipython",
    "version": 3
   },
   "file_extension": ".py",
   "mimetype": "text/x-python",
   "name": "python",
   "nbconvert_exporter": "python",
   "pygments_lexer": "ipython3",
   "version": "3.8.10"
  },
  "orig_nbformat": 4,
  "vscode": {
   "interpreter": {
    "hash": "916dbcbb3f70747c44a77c7bcd40155683ae19c65e1c03b4aa3499c5328201f1"
   }
  }
 },
 "nbformat": 4,
 "nbformat_minor": 2
}
